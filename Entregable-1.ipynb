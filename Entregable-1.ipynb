{
 "cells": [
  {
   "cell_type": "markdown",
   "metadata": {},
   "source": [
    "# Lectura del dataset"
   ]
  },
  {
   "cell_type": "code",
   "execution_count": 2,
   "metadata": {},
   "outputs": [
    {
     "data": {
      "text/html": [
       "<div>\n",
       "<style scoped>\n",
       "    .dataframe tbody tr th:only-of-type {\n",
       "        vertical-align: middle;\n",
       "    }\n",
       "\n",
       "    .dataframe tbody tr th {\n",
       "        vertical-align: top;\n",
       "    }\n",
       "\n",
       "    .dataframe thead th {\n",
       "        text-align: right;\n",
       "    }\n",
       "</style>\n",
       "<table border=\"1\" class=\"dataframe\">\n",
       "  <thead>\n",
       "    <tr style=\"text-align: right;\">\n",
       "      <th></th>\n",
       "      <th>Title</th>\n",
       "      <th>Year</th>\n",
       "      <th>Genres</th>\n",
       "      <th>Runtime (Minutes)</th>\n",
       "      <th>Production Countries</th>\n",
       "      <th>Budget</th>\n",
       "      <th>Revenue</th>\n",
       "      <th>Popularity</th>\n",
       "      <th>Vote Average</th>\n",
       "    </tr>\n",
       "  </thead>\n",
       "  <tbody>\n",
       "    <tr>\n",
       "      <th>0</th>\n",
       "      <td>Pirates of the Caribbean: At World's End</td>\n",
       "      <td>2007</td>\n",
       "      <td>Adventure, Fantasy, Action</td>\n",
       "      <td>169</td>\n",
       "      <td>United States of America</td>\n",
       "      <td>300000000</td>\n",
       "      <td>961000000</td>\n",
       "      <td>31363664.0</td>\n",
       "      <td>6.9</td>\n",
       "    </tr>\n",
       "    <tr>\n",
       "      <th>1</th>\n",
       "      <td>Superman Returns</td>\n",
       "      <td>2006</td>\n",
       "      <td>Adventure, Fantasy, Action, Science Fiction</td>\n",
       "      <td>154</td>\n",
       "      <td>United States of America</td>\n",
       "      <td>270000000</td>\n",
       "      <td>391081192</td>\n",
       "      <td>13284712.0</td>\n",
       "      <td>5.4</td>\n",
       "    </tr>\n",
       "    <tr>\n",
       "      <th>2</th>\n",
       "      <td>Spider-Man 3</td>\n",
       "      <td>2007</td>\n",
       "      <td>Fantasy, Action, Adventure</td>\n",
       "      <td>139</td>\n",
       "      <td>United States of America</td>\n",
       "      <td>258000000</td>\n",
       "      <td>890871626</td>\n",
       "      <td>27614265.0</td>\n",
       "      <td>5.9</td>\n",
       "    </tr>\n",
       "    <tr>\n",
       "      <th>3</th>\n",
       "      <td>Harry Potter and the Half-Blood Prince</td>\n",
       "      <td>2009</td>\n",
       "      <td>Adventure, Fantasy, Family</td>\n",
       "      <td>153</td>\n",
       "      <td>United Kingdom, United States of America</td>\n",
       "      <td>250000000</td>\n",
       "      <td>933959197</td>\n",
       "      <td>19083723.0</td>\n",
       "      <td>7.4</td>\n",
       "    </tr>\n",
       "    <tr>\n",
       "      <th>4</th>\n",
       "      <td>Avatar</td>\n",
       "      <td>2009</td>\n",
       "      <td>Action, Adventure, Fantasy, Science Fiction</td>\n",
       "      <td>162</td>\n",
       "      <td>United States of America, United Kingdom</td>\n",
       "      <td>237000000</td>\n",
       "      <td>2787965087</td>\n",
       "      <td>185070892.0</td>\n",
       "      <td>7.2</td>\n",
       "    </tr>\n",
       "  </tbody>\n",
       "</table>\n",
       "</div>"
      ],
      "text/plain": [
       "                                      Title  Year  \\\n",
       "0  Pirates of the Caribbean: At World's End  2007   \n",
       "1                          Superman Returns  2006   \n",
       "2                              Spider-Man 3  2007   \n",
       "3    Harry Potter and the Half-Blood Prince  2009   \n",
       "4                                    Avatar  2009   \n",
       "\n",
       "                                        Genres  Runtime (Minutes)  \\\n",
       "0                   Adventure, Fantasy, Action                169   \n",
       "1  Adventure, Fantasy, Action, Science Fiction                154   \n",
       "2                   Fantasy, Action, Adventure                139   \n",
       "3                   Adventure, Fantasy, Family                153   \n",
       "4  Action, Adventure, Fantasy, Science Fiction                162   \n",
       "\n",
       "                       Production Countries     Budget     Revenue  \\\n",
       "0                  United States of America  300000000   961000000   \n",
       "1                  United States of America  270000000   391081192   \n",
       "2                  United States of America  258000000   890871626   \n",
       "3  United Kingdom, United States of America  250000000   933959197   \n",
       "4  United States of America, United Kingdom  237000000  2787965087   \n",
       "\n",
       "    Popularity  Vote Average  \n",
       "0   31363664.0           6.9  \n",
       "1   13284712.0           5.4  \n",
       "2   27614265.0           5.9  \n",
       "3   19083723.0           7.4  \n",
       "4  185070892.0           7.2  "
      ]
     },
     "execution_count": 2,
     "metadata": {},
     "output_type": "execute_result"
    }
   ],
   "source": [
    "import pandas as pd\n",
    "import numpy as np\n",
    "import plotly.express as px\n",
    "import seaborn as sns\n",
    "\n",
    "df = pd.read_excel('iMDb (dataset).xlsx')\n",
    "\n",
    "df.head()"
   ]
  },
  {
   "cell_type": "markdown",
   "metadata": {},
   "source": [
    "# a)\n",
    " Representad de forma geográfica (que incluya también una representación cuantitativa por presupuestos) los países productores de las películas."
   ]
  },
  {
   "cell_type": "markdown",
   "metadata": {},
   "source": [
    "### Preprocesado\n",
    "Asignaremos a todos los paises participantes en la producción de una película el presupuesto de la misma. Para ello dejarremos la columna Production Countries con un solo país, replicando las filas donde existan más de una valor en este campo."
   ]
  },
  {
   "cell_type": "code",
   "execution_count": 5,
   "metadata": {},
   "outputs": [
    {
     "data": {
      "text/plain": [
       "array(['United States of America', 'United Kingdom', 'Czech Republic',\n",
       "       'Poland', 'Slovenia', 'Canada', 'New Zealand', 'Germany', 'Italy',\n",
       "       'Malta', 'France', 'Netherlands', 'Australia', 'China', 'Japan',\n",
       "       'Uruguay', 'Paraguay', 'Spain', 'Morocco', 'Ireland',\n",
       "       'South Africa', 'Hungary', 'Switzerland', 'Hong Kong', 'Russia',\n",
       "       'Romania', 'Pakistan', 'Mexico', 'Denmark', 'Iceland',\n",
       "       'South Korea', 'Tunisia', 'Belgium', 'India', 'Costa Rica', 'Peru',\n",
       "       'Brazil', 'Luxembourg', 'Qatar', 'United Arab Emirates',\n",
       "       'Portugal', 'Liechtenstein'], dtype=object)"
      ]
     },
     "execution_count": 5,
     "metadata": {},
     "output_type": "execute_result"
    }
   ],
   "source": [
    "countries_split = df.copy()\n",
    "countries_split['Production Countries'] = countries_split['Production Countries'].str.split(', ')\n",
    "countries_split = countries_split.explode('Production Countries')\n",
    "pd.unique(countries_split['Production Countries'])"
   ]
  },
  {
   "cell_type": "code",
   "execution_count": 6,
   "metadata": {},
   "outputs": [
    {
     "data": {
      "text/html": [
       "<div>\n",
       "<style scoped>\n",
       "    .dataframe tbody tr th:only-of-type {\n",
       "        vertical-align: middle;\n",
       "    }\n",
       "\n",
       "    .dataframe tbody tr th {\n",
       "        vertical-align: top;\n",
       "    }\n",
       "\n",
       "    .dataframe thead th {\n",
       "        text-align: right;\n",
       "    }\n",
       "</style>\n",
       "<table border=\"1\" class=\"dataframe\">\n",
       "  <thead>\n",
       "    <tr style=\"text-align: right;\">\n",
       "      <th></th>\n",
       "      <th>Production Country</th>\n",
       "      <th>Number of Films</th>\n",
       "      <th>Total Budget</th>\n",
       "    </tr>\n",
       "  </thead>\n",
       "  <tbody>\n",
       "    <tr>\n",
       "      <th>0</th>\n",
       "      <td>United States of America</td>\n",
       "      <td>1003</td>\n",
       "      <td>70662737652</td>\n",
       "    </tr>\n",
       "    <tr>\n",
       "      <th>1</th>\n",
       "      <td>United Kingdom</td>\n",
       "      <td>140</td>\n",
       "      <td>11323630000</td>\n",
       "    </tr>\n",
       "    <tr>\n",
       "      <th>2</th>\n",
       "      <td>Germany</td>\n",
       "      <td>124</td>\n",
       "      <td>9188633049</td>\n",
       "    </tr>\n",
       "    <tr>\n",
       "      <th>3</th>\n",
       "      <td>France</td>\n",
       "      <td>58</td>\n",
       "      <td>3253366397</td>\n",
       "    </tr>\n",
       "    <tr>\n",
       "      <th>4</th>\n",
       "      <td>Canada</td>\n",
       "      <td>38</td>\n",
       "      <td>2602800000</td>\n",
       "    </tr>\n",
       "    <tr>\n",
       "      <th>5</th>\n",
       "      <td>Australia</td>\n",
       "      <td>32</td>\n",
       "      <td>2421500000</td>\n",
       "    </tr>\n",
       "    <tr>\n",
       "      <th>6</th>\n",
       "      <td>Italy</td>\n",
       "      <td>20</td>\n",
       "      <td>1583496397</td>\n",
       "    </tr>\n",
       "    <tr>\n",
       "      <th>7</th>\n",
       "      <td>Czech Republic</td>\n",
       "      <td>15</td>\n",
       "      <td>1356000000</td>\n",
       "    </tr>\n",
       "    <tr>\n",
       "      <th>8</th>\n",
       "      <td>Japan</td>\n",
       "      <td>14</td>\n",
       "      <td>966677699</td>\n",
       "    </tr>\n",
       "    <tr>\n",
       "      <th>9</th>\n",
       "      <td>New Zealand</td>\n",
       "      <td>10</td>\n",
       "      <td>968000000</td>\n",
       "    </tr>\n",
       "  </tbody>\n",
       "</table>\n",
       "</div>"
      ],
      "text/plain": [
       "         Production Country  Number of Films  Total Budget\n",
       "0  United States of America             1003   70662737652\n",
       "1            United Kingdom              140   11323630000\n",
       "2                   Germany              124    9188633049\n",
       "3                    France               58    3253366397\n",
       "4                    Canada               38    2602800000\n",
       "5                 Australia               32    2421500000\n",
       "6                     Italy               20    1583496397\n",
       "7            Czech Republic               15    1356000000\n",
       "8                     Japan               14     966677699\n",
       "9               New Zealand               10     968000000"
      ]
     },
     "execution_count": 6,
     "metadata": {},
     "output_type": "execute_result"
    }
   ],
   "source": [
    "countries = (countries_split.groupby(by='Production Countries')\n",
    "                    .agg({'Title':'count', 'Budget': 'sum'})\n",
    "                    .sort_values(by='Title',ascending=False)\n",
    "                    .reset_index()\n",
    "                    .rename(columns={'Title':'Number of Films','Budget':'Total Budget',\"Production Countries\":\"Production Country\"})\n",
    ")\n",
    "countries.head(10)"
   ]
  },
  {
   "cell_type": "markdown",
   "metadata": {},
   "source": [
    "### Visualización"
   ]
  },
  {
   "cell_type": "code",
   "execution_count": 7,
   "metadata": {},
   "outputs": [
    {
     "data": {
      "application/vnd.plotly.v1+json": {
       "config": {
        "plotlyServerURL": "https://plot.ly"
       },
       "data": [
        {
         "coloraxis": "coloraxis",
         "geo": "geo",
         "hovertemplate": "<b>%{hovertext}</b><br><br>Production Country=%{location}<br>Total Budget=%{z}<extra></extra>",
         "hovertext": [
          "United States of America",
          "United Kingdom",
          "Germany",
          "France",
          "Canada",
          "Australia",
          "Italy",
          "Czech Republic",
          "Japan",
          "New Zealand",
          "Spain",
          "China",
          "Ireland",
          "Hong Kong",
          "Mexico",
          "Luxembourg",
          "Switzerland",
          "Tunisia",
          "Romania",
          "Russia",
          "Poland",
          "Peru",
          "Morocco",
          "Netherlands",
          "Brazil",
          "Malta",
          "Hungary",
          "India",
          "South Korea",
          "Costa Rica",
          "United Arab Emirates",
          "Denmark",
          "Iceland",
          "Slovenia",
          "South Africa",
          "Pakistan",
          "Liechtenstein",
          "Qatar",
          "Portugal",
          "Belgium",
          "Paraguay",
          "Uruguay"
         ],
         "locationmode": "country names",
         "locations": [
          "United States of America",
          "United Kingdom",
          "Germany",
          "France",
          "Canada",
          "Australia",
          "Italy",
          "Czech Republic",
          "Japan",
          "New Zealand",
          "Spain",
          "China",
          "Ireland",
          "Hong Kong",
          "Mexico",
          "Luxembourg",
          "Switzerland",
          "Tunisia",
          "Romania",
          "Russia",
          "Poland",
          "Peru",
          "Morocco",
          "Netherlands",
          "Brazil",
          "Malta",
          "Hungary",
          "India",
          "South Korea",
          "Costa Rica",
          "United Arab Emirates",
          "Denmark",
          "Iceland",
          "Slovenia",
          "South Africa",
          "Pakistan",
          "Liechtenstein",
          "Qatar",
          "Portugal",
          "Belgium",
          "Paraguay",
          "Uruguay"
         ],
         "name": "",
         "type": "choropleth",
         "z": [
          70662737652,
          11323630000,
          9188633049,
          3253366397,
          2602800000,
          2421500000,
          1583496397,
          1356000000,
          966677699,
          968000000,
          590866397,
          405341000,
          408000000,
          260000000,
          167000000,
          118000000,
          160866397,
          147000000,
          114000000,
          116500000,
          260000000,
          90000000,
          230000000,
          195000000,
          81000000,
          300000000,
          155000000,
          110000000,
          70000000,
          47000000,
          40000000,
          70000000,
          70000000,
          225000000,
          105000000,
          75000000,
          35000000,
          40000000,
          38000000,
          60000000,
          135000000,
          135000000
         ]
        }
       ],
       "layout": {
        "coloraxis": {
         "colorbar": {
          "title": {
           "text": "Total Budget"
          }
         },
         "colorscale": [
          [
           0,
           "#f0f9e8"
          ],
          [
           0.16666666666666666,
           "#ccebc5"
          ],
          [
           0.3333333333333333,
           "#a8ddb5"
          ],
          [
           0.5,
           "#7bccc4"
          ],
          [
           0.6666666666666666,
           "#4eb3d3"
          ],
          [
           0.8333333333333334,
           "#2b8cbe"
          ],
          [
           1,
           "#08589e"
          ]
         ]
        },
        "geo": {
         "center": {},
         "domain": {
          "x": [
           0,
           1
          ],
          "y": [
           0,
           1
          ]
         }
        },
        "legend": {
         "tracegroupgap": 0
        },
        "margin": {
         "b": 20,
         "l": 20,
         "r": 20,
         "t": 20
        },
        "paper_bgcolor": "White",
        "template": {
         "data": {
          "bar": [
           {
            "error_x": {
             "color": "#2a3f5f"
            },
            "error_y": {
             "color": "#2a3f5f"
            },
            "marker": {
             "line": {
              "color": "#E5ECF6",
              "width": 0.5
             },
             "pattern": {
              "fillmode": "overlay",
              "size": 10,
              "solidity": 0.2
             }
            },
            "type": "bar"
           }
          ],
          "barpolar": [
           {
            "marker": {
             "line": {
              "color": "#E5ECF6",
              "width": 0.5
             },
             "pattern": {
              "fillmode": "overlay",
              "size": 10,
              "solidity": 0.2
             }
            },
            "type": "barpolar"
           }
          ],
          "carpet": [
           {
            "aaxis": {
             "endlinecolor": "#2a3f5f",
             "gridcolor": "white",
             "linecolor": "white",
             "minorgridcolor": "white",
             "startlinecolor": "#2a3f5f"
            },
            "baxis": {
             "endlinecolor": "#2a3f5f",
             "gridcolor": "white",
             "linecolor": "white",
             "minorgridcolor": "white",
             "startlinecolor": "#2a3f5f"
            },
            "type": "carpet"
           }
          ],
          "choropleth": [
           {
            "colorbar": {
             "outlinewidth": 0,
             "ticks": ""
            },
            "type": "choropleth"
           }
          ],
          "contour": [
           {
            "colorbar": {
             "outlinewidth": 0,
             "ticks": ""
            },
            "colorscale": [
             [
              0,
              "#0d0887"
             ],
             [
              0.1111111111111111,
              "#46039f"
             ],
             [
              0.2222222222222222,
              "#7201a8"
             ],
             [
              0.3333333333333333,
              "#9c179e"
             ],
             [
              0.4444444444444444,
              "#bd3786"
             ],
             [
              0.5555555555555556,
              "#d8576b"
             ],
             [
              0.6666666666666666,
              "#ed7953"
             ],
             [
              0.7777777777777778,
              "#fb9f3a"
             ],
             [
              0.8888888888888888,
              "#fdca26"
             ],
             [
              1,
              "#f0f921"
             ]
            ],
            "type": "contour"
           }
          ],
          "contourcarpet": [
           {
            "colorbar": {
             "outlinewidth": 0,
             "ticks": ""
            },
            "type": "contourcarpet"
           }
          ],
          "heatmap": [
           {
            "colorbar": {
             "outlinewidth": 0,
             "ticks": ""
            },
            "colorscale": [
             [
              0,
              "#0d0887"
             ],
             [
              0.1111111111111111,
              "#46039f"
             ],
             [
              0.2222222222222222,
              "#7201a8"
             ],
             [
              0.3333333333333333,
              "#9c179e"
             ],
             [
              0.4444444444444444,
              "#bd3786"
             ],
             [
              0.5555555555555556,
              "#d8576b"
             ],
             [
              0.6666666666666666,
              "#ed7953"
             ],
             [
              0.7777777777777778,
              "#fb9f3a"
             ],
             [
              0.8888888888888888,
              "#fdca26"
             ],
             [
              1,
              "#f0f921"
             ]
            ],
            "type": "heatmap"
           }
          ],
          "heatmapgl": [
           {
            "colorbar": {
             "outlinewidth": 0,
             "ticks": ""
            },
            "colorscale": [
             [
              0,
              "#0d0887"
             ],
             [
              0.1111111111111111,
              "#46039f"
             ],
             [
              0.2222222222222222,
              "#7201a8"
             ],
             [
              0.3333333333333333,
              "#9c179e"
             ],
             [
              0.4444444444444444,
              "#bd3786"
             ],
             [
              0.5555555555555556,
              "#d8576b"
             ],
             [
              0.6666666666666666,
              "#ed7953"
             ],
             [
              0.7777777777777778,
              "#fb9f3a"
             ],
             [
              0.8888888888888888,
              "#fdca26"
             ],
             [
              1,
              "#f0f921"
             ]
            ],
            "type": "heatmapgl"
           }
          ],
          "histogram": [
           {
            "marker": {
             "pattern": {
              "fillmode": "overlay",
              "size": 10,
              "solidity": 0.2
             }
            },
            "type": "histogram"
           }
          ],
          "histogram2d": [
           {
            "colorbar": {
             "outlinewidth": 0,
             "ticks": ""
            },
            "colorscale": [
             [
              0,
              "#0d0887"
             ],
             [
              0.1111111111111111,
              "#46039f"
             ],
             [
              0.2222222222222222,
              "#7201a8"
             ],
             [
              0.3333333333333333,
              "#9c179e"
             ],
             [
              0.4444444444444444,
              "#bd3786"
             ],
             [
              0.5555555555555556,
              "#d8576b"
             ],
             [
              0.6666666666666666,
              "#ed7953"
             ],
             [
              0.7777777777777778,
              "#fb9f3a"
             ],
             [
              0.8888888888888888,
              "#fdca26"
             ],
             [
              1,
              "#f0f921"
             ]
            ],
            "type": "histogram2d"
           }
          ],
          "histogram2dcontour": [
           {
            "colorbar": {
             "outlinewidth": 0,
             "ticks": ""
            },
            "colorscale": [
             [
              0,
              "#0d0887"
             ],
             [
              0.1111111111111111,
              "#46039f"
             ],
             [
              0.2222222222222222,
              "#7201a8"
             ],
             [
              0.3333333333333333,
              "#9c179e"
             ],
             [
              0.4444444444444444,
              "#bd3786"
             ],
             [
              0.5555555555555556,
              "#d8576b"
             ],
             [
              0.6666666666666666,
              "#ed7953"
             ],
             [
              0.7777777777777778,
              "#fb9f3a"
             ],
             [
              0.8888888888888888,
              "#fdca26"
             ],
             [
              1,
              "#f0f921"
             ]
            ],
            "type": "histogram2dcontour"
           }
          ],
          "mesh3d": [
           {
            "colorbar": {
             "outlinewidth": 0,
             "ticks": ""
            },
            "type": "mesh3d"
           }
          ],
          "parcoords": [
           {
            "line": {
             "colorbar": {
              "outlinewidth": 0,
              "ticks": ""
             }
            },
            "type": "parcoords"
           }
          ],
          "pie": [
           {
            "automargin": true,
            "type": "pie"
           }
          ],
          "scatter": [
           {
            "fillpattern": {
             "fillmode": "overlay",
             "size": 10,
             "solidity": 0.2
            },
            "type": "scatter"
           }
          ],
          "scatter3d": [
           {
            "line": {
             "colorbar": {
              "outlinewidth": 0,
              "ticks": ""
             }
            },
            "marker": {
             "colorbar": {
              "outlinewidth": 0,
              "ticks": ""
             }
            },
            "type": "scatter3d"
           }
          ],
          "scattercarpet": [
           {
            "marker": {
             "colorbar": {
              "outlinewidth": 0,
              "ticks": ""
             }
            },
            "type": "scattercarpet"
           }
          ],
          "scattergeo": [
           {
            "marker": {
             "colorbar": {
              "outlinewidth": 0,
              "ticks": ""
             }
            },
            "type": "scattergeo"
           }
          ],
          "scattergl": [
           {
            "marker": {
             "colorbar": {
              "outlinewidth": 0,
              "ticks": ""
             }
            },
            "type": "scattergl"
           }
          ],
          "scattermapbox": [
           {
            "marker": {
             "colorbar": {
              "outlinewidth": 0,
              "ticks": ""
             }
            },
            "type": "scattermapbox"
           }
          ],
          "scatterpolar": [
           {
            "marker": {
             "colorbar": {
              "outlinewidth": 0,
              "ticks": ""
             }
            },
            "type": "scatterpolar"
           }
          ],
          "scatterpolargl": [
           {
            "marker": {
             "colorbar": {
              "outlinewidth": 0,
              "ticks": ""
             }
            },
            "type": "scatterpolargl"
           }
          ],
          "scatterternary": [
           {
            "marker": {
             "colorbar": {
              "outlinewidth": 0,
              "ticks": ""
             }
            },
            "type": "scatterternary"
           }
          ],
          "surface": [
           {
            "colorbar": {
             "outlinewidth": 0,
             "ticks": ""
            },
            "colorscale": [
             [
              0,
              "#0d0887"
             ],
             [
              0.1111111111111111,
              "#46039f"
             ],
             [
              0.2222222222222222,
              "#7201a8"
             ],
             [
              0.3333333333333333,
              "#9c179e"
             ],
             [
              0.4444444444444444,
              "#bd3786"
             ],
             [
              0.5555555555555556,
              "#d8576b"
             ],
             [
              0.6666666666666666,
              "#ed7953"
             ],
             [
              0.7777777777777778,
              "#fb9f3a"
             ],
             [
              0.8888888888888888,
              "#fdca26"
             ],
             [
              1,
              "#f0f921"
             ]
            ],
            "type": "surface"
           }
          ],
          "table": [
           {
            "cells": {
             "fill": {
              "color": "#EBF0F8"
             },
             "line": {
              "color": "white"
             }
            },
            "header": {
             "fill": {
              "color": "#C8D4E3"
             },
             "line": {
              "color": "white"
             }
            },
            "type": "table"
           }
          ]
         },
         "layout": {
          "annotationdefaults": {
           "arrowcolor": "#2a3f5f",
           "arrowhead": 0,
           "arrowwidth": 1
          },
          "autotypenumbers": "strict",
          "coloraxis": {
           "colorbar": {
            "outlinewidth": 0,
            "ticks": ""
           }
          },
          "colorscale": {
           "diverging": [
            [
             0,
             "#8e0152"
            ],
            [
             0.1,
             "#c51b7d"
            ],
            [
             0.2,
             "#de77ae"
            ],
            [
             0.3,
             "#f1b6da"
            ],
            [
             0.4,
             "#fde0ef"
            ],
            [
             0.5,
             "#f7f7f7"
            ],
            [
             0.6,
             "#e6f5d0"
            ],
            [
             0.7,
             "#b8e186"
            ],
            [
             0.8,
             "#7fbc41"
            ],
            [
             0.9,
             "#4d9221"
            ],
            [
             1,
             "#276419"
            ]
           ],
           "sequential": [
            [
             0,
             "#0d0887"
            ],
            [
             0.1111111111111111,
             "#46039f"
            ],
            [
             0.2222222222222222,
             "#7201a8"
            ],
            [
             0.3333333333333333,
             "#9c179e"
            ],
            [
             0.4444444444444444,
             "#bd3786"
            ],
            [
             0.5555555555555556,
             "#d8576b"
            ],
            [
             0.6666666666666666,
             "#ed7953"
            ],
            [
             0.7777777777777778,
             "#fb9f3a"
            ],
            [
             0.8888888888888888,
             "#fdca26"
            ],
            [
             1,
             "#f0f921"
            ]
           ],
           "sequentialminus": [
            [
             0,
             "#0d0887"
            ],
            [
             0.1111111111111111,
             "#46039f"
            ],
            [
             0.2222222222222222,
             "#7201a8"
            ],
            [
             0.3333333333333333,
             "#9c179e"
            ],
            [
             0.4444444444444444,
             "#bd3786"
            ],
            [
             0.5555555555555556,
             "#d8576b"
            ],
            [
             0.6666666666666666,
             "#ed7953"
            ],
            [
             0.7777777777777778,
             "#fb9f3a"
            ],
            [
             0.8888888888888888,
             "#fdca26"
            ],
            [
             1,
             "#f0f921"
            ]
           ]
          },
          "colorway": [
           "#636efa",
           "#EF553B",
           "#00cc96",
           "#ab63fa",
           "#FFA15A",
           "#19d3f3",
           "#FF6692",
           "#B6E880",
           "#FF97FF",
           "#FECB52"
          ],
          "font": {
           "color": "#2a3f5f"
          },
          "geo": {
           "bgcolor": "white",
           "lakecolor": "white",
           "landcolor": "#E5ECF6",
           "showlakes": true,
           "showland": true,
           "subunitcolor": "white"
          },
          "hoverlabel": {
           "align": "left"
          },
          "hovermode": "closest",
          "mapbox": {
           "style": "light"
          },
          "paper_bgcolor": "white",
          "plot_bgcolor": "#E5ECF6",
          "polar": {
           "angularaxis": {
            "gridcolor": "white",
            "linecolor": "white",
            "ticks": ""
           },
           "bgcolor": "#E5ECF6",
           "radialaxis": {
            "gridcolor": "white",
            "linecolor": "white",
            "ticks": ""
           }
          },
          "scene": {
           "xaxis": {
            "backgroundcolor": "#E5ECF6",
            "gridcolor": "white",
            "gridwidth": 2,
            "linecolor": "white",
            "showbackground": true,
            "ticks": "",
            "zerolinecolor": "white"
           },
           "yaxis": {
            "backgroundcolor": "#E5ECF6",
            "gridcolor": "white",
            "gridwidth": 2,
            "linecolor": "white",
            "showbackground": true,
            "ticks": "",
            "zerolinecolor": "white"
           },
           "zaxis": {
            "backgroundcolor": "#E5ECF6",
            "gridcolor": "white",
            "gridwidth": 2,
            "linecolor": "white",
            "showbackground": true,
            "ticks": "",
            "zerolinecolor": "white"
           }
          },
          "shapedefaults": {
           "line": {
            "color": "#2a3f5f"
           }
          },
          "ternary": {
           "aaxis": {
            "gridcolor": "white",
            "linecolor": "white",
            "ticks": ""
           },
           "baxis": {
            "gridcolor": "white",
            "linecolor": "white",
            "ticks": ""
           },
           "bgcolor": "#E5ECF6",
           "caxis": {
            "gridcolor": "white",
            "linecolor": "white",
            "ticks": ""
           }
          },
          "title": {
           "x": 0.05
          },
          "xaxis": {
           "automargin": true,
           "gridcolor": "white",
           "linecolor": "white",
           "ticks": "",
           "title": {
            "standoff": 15
           },
           "zerolinecolor": "white",
           "zerolinewidth": 2
          },
          "yaxis": {
           "automargin": true,
           "gridcolor": "white",
           "linecolor": "white",
           "ticks": "",
           "title": {
            "standoff": 15
           },
           "zerolinecolor": "white",
           "zerolinewidth": 2
          }
         }
        }
       }
      }
     },
     "metadata": {},
     "output_type": "display_data"
    }
   ],
   "source": [
    "fig = px.choropleth(countries,locationmode=\"country names\",locations=\"Production Country\",\n",
    "                    color=\"Total Budget\", \n",
    "                    hover_name=\"Production Country\", \n",
    "                    color_continuous_scale=['#f0f9e8','#ccebc5','#a8ddb5','#7bccc4','#4eb3d3','#2b8cbe','#08589e']\n",
    "                    )\n",
    "\n",
    "fig.update_layout(\n",
    "    margin=dict(l=20, r=20, t=20, b=20),\n",
    "    paper_bgcolor=\"White\",\n",
    ")\n",
    "fig.show()"
   ]
  },
  {
   "cell_type": "markdown",
   "metadata": {},
   "source": [
    "# b)\n",
    " Evaluad de forma interactiva y dinámica cómo ha sido la evolución cuantitativa de los \n",
    "géneros  Drama,  Aventura,  Comedia  y  Acción  durante  el  periodo  1995-2005.  Utilizad \n",
    "para ello, por ejemplo, la herramienta Flourish (https://flourish.studio)."
   ]
  },
  {
   "cell_type": "markdown",
   "metadata": {},
   "source": [
    "### Preprocesado"
   ]
  },
  {
   "cell_type": "markdown",
   "metadata": {},
   "source": [
    "Filtramos por los años deseados"
   ]
  },
  {
   "cell_type": "code",
   "execution_count": 53,
   "metadata": {},
   "outputs": [
    {
     "data": {
      "text/plain": [
       "array([1927, 1962, 1976, 1978, 1979, 1980, 1982, 1983, 1984, 1985, 1986,\n",
       "       1987, 1988, 1989, 1990, 1991, 1992, 1993, 1994, 1995, 1996, 1997,\n",
       "       1998, 1999, 2000, 2001, 2002, 2003, 2004, 2005, 2006, 2007, 2008,\n",
       "       2009, 2011], dtype=int64)"
      ]
     },
     "execution_count": 53,
     "metadata": {},
     "output_type": "execute_result"
    }
   ],
   "source": [
    "pd.unique(df[\"Year\"].sort_values())"
   ]
  },
  {
   "cell_type": "code",
   "execution_count": 54,
   "metadata": {},
   "outputs": [
    {
     "data": {
      "text/plain": [
       "array([1995, 1996, 1997, 1998, 1999, 2000, 2001, 2002, 2003, 2004, 2005],\n",
       "      dtype=int64)"
      ]
     },
     "execution_count": 54,
     "metadata": {},
     "output_type": "execute_result"
    }
   ],
   "source": [
    "genres = df.copy()\n",
    "genres = genres[(genres.Year > 1994) & (genres.Year < 2006)]\n",
    "pd.unique(genres[\"Year\"].sort_values())"
   ]
  },
  {
   "cell_type": "markdown",
   "metadata": {},
   "source": [
    "Replicamos las filas para que solo exista un género en cada una."
   ]
  },
  {
   "cell_type": "code",
   "execution_count": 55,
   "metadata": {},
   "outputs": [
    {
     "data": {
      "text/plain": [
       "array(['Adventure', 'Drama', 'Action', 'Romance', 'Thriller',\n",
       "       'Science Fiction', 'Fantasy', 'Family', 'War', 'Comedy', 'Western',\n",
       "       'Animation', 'Horror', 'History', 'Crime', 'Mystery', 'Music',\n",
       "       'Documentary'], dtype=object)"
      ]
     },
     "execution_count": 55,
     "metadata": {},
     "output_type": "execute_result"
    }
   ],
   "source": [
    "genres['Genres'] = genres['Genres'].str.split(', ')\n",
    "genres = genres.explode('Genres')\n",
    "pd.unique(genres['Genres'])"
   ]
  },
  {
   "cell_type": "markdown",
   "metadata": {},
   "source": [
    "Filtramos para quedarnos solo con drama, comedia, aventura y acción."
   ]
  },
  {
   "cell_type": "code",
   "execution_count": 56,
   "metadata": {},
   "outputs": [
    {
     "data": {
      "text/plain": [
       "array(['Adventure', 'Drama', 'Action', 'Comedy'], dtype=object)"
      ]
     },
     "execution_count": 56,
     "metadata": {},
     "output_type": "execute_result"
    }
   ],
   "source": [
    "genres = genres[(genres.Genres == 'Drama') | (genres.Genres == 'Adventure') | (genres.Genres == 'Action')| (genres.Genres == 'Comedy')]\n",
    "pd.unique(genres['Genres'])"
   ]
  },
  {
   "cell_type": "markdown",
   "metadata": {},
   "source": [
    "Contamos el número de peliculas por genero y año"
   ]
  },
  {
   "cell_type": "code",
   "execution_count": 61,
   "metadata": {},
   "outputs": [
    {
     "data": {
      "text/html": [
       "<div>\n",
       "<style scoped>\n",
       "    .dataframe tbody tr th:only-of-type {\n",
       "        vertical-align: middle;\n",
       "    }\n",
       "\n",
       "    .dataframe tbody tr th {\n",
       "        vertical-align: top;\n",
       "    }\n",
       "\n",
       "    .dataframe thead th {\n",
       "        text-align: right;\n",
       "    }\n",
       "</style>\n",
       "<table border=\"1\" class=\"dataframe\">\n",
       "  <thead>\n",
       "    <tr style=\"text-align: right;\">\n",
       "      <th></th>\n",
       "      <th>Genres</th>\n",
       "      <th>Year</th>\n",
       "      <th>Number of Films</th>\n",
       "    </tr>\n",
       "  </thead>\n",
       "  <tbody>\n",
       "    <tr>\n",
       "      <th>0</th>\n",
       "      <td>Action</td>\n",
       "      <td>1995</td>\n",
       "      <td>18</td>\n",
       "    </tr>\n",
       "    <tr>\n",
       "      <th>1</th>\n",
       "      <td>Comedy</td>\n",
       "      <td>1995</td>\n",
       "      <td>3</td>\n",
       "    </tr>\n",
       "    <tr>\n",
       "      <th>2</th>\n",
       "      <td>Adventure</td>\n",
       "      <td>1995</td>\n",
       "      <td>10</td>\n",
       "    </tr>\n",
       "    <tr>\n",
       "      <th>3</th>\n",
       "      <td>Drama</td>\n",
       "      <td>1995</td>\n",
       "      <td>15</td>\n",
       "    </tr>\n",
       "    <tr>\n",
       "      <th>4</th>\n",
       "      <td>Comedy</td>\n",
       "      <td>1996</td>\n",
       "      <td>11</td>\n",
       "    </tr>\n",
       "    <tr>\n",
       "      <th>5</th>\n",
       "      <td>Drama</td>\n",
       "      <td>1996</td>\n",
       "      <td>24</td>\n",
       "    </tr>\n",
       "    <tr>\n",
       "      <th>6</th>\n",
       "      <td>Adventure</td>\n",
       "      <td>1996</td>\n",
       "      <td>12</td>\n",
       "    </tr>\n",
       "    <tr>\n",
       "      <th>7</th>\n",
       "      <td>Action</td>\n",
       "      <td>1996</td>\n",
       "      <td>16</td>\n",
       "    </tr>\n",
       "    <tr>\n",
       "      <th>8</th>\n",
       "      <td>Comedy</td>\n",
       "      <td>1997</td>\n",
       "      <td>9</td>\n",
       "    </tr>\n",
       "    <tr>\n",
       "      <th>9</th>\n",
       "      <td>Drama</td>\n",
       "      <td>1997</td>\n",
       "      <td>19</td>\n",
       "    </tr>\n",
       "  </tbody>\n",
       "</table>\n",
       "</div>"
      ],
      "text/plain": [
       "      Genres  Year  Number of Films\n",
       "0     Action  1995               18\n",
       "1     Comedy  1995                3\n",
       "2  Adventure  1995               10\n",
       "3      Drama  1995               15\n",
       "4     Comedy  1996               11\n",
       "5      Drama  1996               24\n",
       "6  Adventure  1996               12\n",
       "7     Action  1996               16\n",
       "8     Comedy  1997                9\n",
       "9      Drama  1997               19"
      ]
     },
     "execution_count": 61,
     "metadata": {},
     "output_type": "execute_result"
    }
   ],
   "source": [
    "genresGrouped = (genres.groupby(by=['Genres','Year'])\n",
    "                    .agg({'Title':'count'})\n",
    "                    .sort_values(by='Year',ascending=True)\n",
    "                    .reset_index()\n",
    "                    .rename(columns={'Title':'Number of Films'})\n",
    ")\n",
    "genresGrouped.head(10)"
   ]
  },
  {
   "cell_type": "code",
   "execution_count": 62,
   "metadata": {},
   "outputs": [
    {
     "data": {
      "text/html": [
       "<div>\n",
       "<style scoped>\n",
       "    .dataframe tbody tr th:only-of-type {\n",
       "        vertical-align: middle;\n",
       "    }\n",
       "\n",
       "    .dataframe tbody tr th {\n",
       "        vertical-align: top;\n",
       "    }\n",
       "\n",
       "    .dataframe thead th {\n",
       "        text-align: right;\n",
       "    }\n",
       "</style>\n",
       "<table border=\"1\" class=\"dataframe\">\n",
       "  <thead>\n",
       "    <tr style=\"text-align: right;\">\n",
       "      <th></th>\n",
       "      <th>Year</th>\n",
       "      <th>Action</th>\n",
       "      <th>Adventure</th>\n",
       "      <th>Comedy</th>\n",
       "      <th>Drama</th>\n",
       "    </tr>\n",
       "  </thead>\n",
       "  <tbody>\n",
       "    <tr>\n",
       "      <th>0</th>\n",
       "      <td>1995</td>\n",
       "      <td>18</td>\n",
       "      <td>10</td>\n",
       "      <td>3</td>\n",
       "      <td>15</td>\n",
       "    </tr>\n",
       "    <tr>\n",
       "      <th>1</th>\n",
       "      <td>1996</td>\n",
       "      <td>16</td>\n",
       "      <td>12</td>\n",
       "      <td>11</td>\n",
       "      <td>24</td>\n",
       "    </tr>\n",
       "    <tr>\n",
       "      <th>2</th>\n",
       "      <td>1997</td>\n",
       "      <td>24</td>\n",
       "      <td>17</td>\n",
       "      <td>9</td>\n",
       "      <td>19</td>\n",
       "    </tr>\n",
       "    <tr>\n",
       "      <th>3</th>\n",
       "      <td>1998</td>\n",
       "      <td>17</td>\n",
       "      <td>15</td>\n",
       "      <td>12</td>\n",
       "      <td>18</td>\n",
       "    </tr>\n",
       "    <tr>\n",
       "      <th>4</th>\n",
       "      <td>1999</td>\n",
       "      <td>17</td>\n",
       "      <td>10</td>\n",
       "      <td>21</td>\n",
       "      <td>28</td>\n",
       "    </tr>\n",
       "    <tr>\n",
       "      <th>5</th>\n",
       "      <td>2000</td>\n",
       "      <td>21</td>\n",
       "      <td>17</td>\n",
       "      <td>20</td>\n",
       "      <td>21</td>\n",
       "    </tr>\n",
       "    <tr>\n",
       "      <th>6</th>\n",
       "      <td>2001</td>\n",
       "      <td>30</td>\n",
       "      <td>17</td>\n",
       "      <td>20</td>\n",
       "      <td>21</td>\n",
       "    </tr>\n",
       "    <tr>\n",
       "      <th>7</th>\n",
       "      <td>2002</td>\n",
       "      <td>29</td>\n",
       "      <td>23</td>\n",
       "      <td>20</td>\n",
       "      <td>29</td>\n",
       "    </tr>\n",
       "    <tr>\n",
       "      <th>8</th>\n",
       "      <td>2003</td>\n",
       "      <td>30</td>\n",
       "      <td>20</td>\n",
       "      <td>25</td>\n",
       "      <td>19</td>\n",
       "    </tr>\n",
       "    <tr>\n",
       "      <th>9</th>\n",
       "      <td>2004</td>\n",
       "      <td>27</td>\n",
       "      <td>23</td>\n",
       "      <td>27</td>\n",
       "      <td>24</td>\n",
       "    </tr>\n",
       "    <tr>\n",
       "      <th>10</th>\n",
       "      <td>2005</td>\n",
       "      <td>26</td>\n",
       "      <td>24</td>\n",
       "      <td>29</td>\n",
       "      <td>27</td>\n",
       "    </tr>\n",
       "  </tbody>\n",
       "</table>\n",
       "</div>"
      ],
      "text/plain": [
       "    Year  Action  Adventure  Comedy  Drama\n",
       "0   1995      18         10       3     15\n",
       "1   1996      16         12      11     24\n",
       "2   1997      24         17       9     19\n",
       "3   1998      17         15      12     18\n",
       "4   1999      17         10      21     28\n",
       "5   2000      21         17      20     21\n",
       "6   2001      30         17      20     21\n",
       "7   2002      29         23      20     29\n",
       "8   2003      30         20      25     19\n",
       "9   2004      27         23      27     24\n",
       "10  2005      26         24      29     27"
      ]
     },
     "execution_count": 62,
     "metadata": {},
     "output_type": "execute_result"
    }
   ],
   "source": [
    "genresPivoted = genresGrouped.pivot(index='Year', columns='Genres', values='Number of Films').rename_axis(None, axis=1).reset_index()\n",
    "genresPivoted"
   ]
  },
  {
   "cell_type": "code",
   "execution_count": 59,
   "metadata": {},
   "outputs": [],
   "source": [
    "genresPivoted.to_csv(\"EjercicioB.csv\",index=False)"
   ]
  },
  {
   "cell_type": "markdown",
   "metadata": {},
   "source": [
    "### Visualización:\n",
    "https://public.flourish.studio/visualisation/10154708/"
   ]
  },
  {
   "cell_type": "markdown",
   "metadata": {},
   "source": [
    "# c)\n",
    "Identificad  cuál  ha  sido  la  película  más  taquillera  y  cuál  fue  la  décima  que  más \n",
    "recaudó. ¿Cómo quedan el resto de las películas que forman el top-ten de la taquilla?"
   ]
  },
  {
   "cell_type": "code",
   "execution_count": 52,
   "metadata": {},
   "outputs": [
    {
     "data": {
      "text/html": [
       "<div>\n",
       "<style scoped>\n",
       "    .dataframe tbody tr th:only-of-type {\n",
       "        vertical-align: middle;\n",
       "    }\n",
       "\n",
       "    .dataframe tbody tr th {\n",
       "        vertical-align: top;\n",
       "    }\n",
       "\n",
       "    .dataframe thead th {\n",
       "        text-align: right;\n",
       "    }\n",
       "</style>\n",
       "<table border=\"1\" class=\"dataframe\">\n",
       "  <thead>\n",
       "    <tr style=\"text-align: right;\">\n",
       "      <th></th>\n",
       "      <th>Title</th>\n",
       "      <th>Revenue</th>\n",
       "    </tr>\n",
       "  </thead>\n",
       "  <tbody>\n",
       "    <tr>\n",
       "      <th>0</th>\n",
       "      <td>Avatar</td>\n",
       "      <td>2787965087</td>\n",
       "    </tr>\n",
       "    <tr>\n",
       "      <th>1</th>\n",
       "      <td>Titanic</td>\n",
       "      <td>1845034188</td>\n",
       "    </tr>\n",
       "    <tr>\n",
       "      <th>2</th>\n",
       "      <td>The Lord of the Rings: The Return of the King</td>\n",
       "      <td>1118888979</td>\n",
       "    </tr>\n",
       "    <tr>\n",
       "      <th>3</th>\n",
       "      <td>Pirates of the Caribbean: Dead Man's Chest</td>\n",
       "      <td>1065659812</td>\n",
       "    </tr>\n",
       "    <tr>\n",
       "      <th>4</th>\n",
       "      <td>The Dark Knight</td>\n",
       "      <td>1004558444</td>\n",
       "    </tr>\n",
       "    <tr>\n",
       "      <th>5</th>\n",
       "      <td>Harry Potter and the Philosopher's Stone</td>\n",
       "      <td>976475550</td>\n",
       "    </tr>\n",
       "    <tr>\n",
       "      <th>6</th>\n",
       "      <td>Pirates of the Caribbean: At World's End</td>\n",
       "      <td>961000000</td>\n",
       "    </tr>\n",
       "    <tr>\n",
       "      <th>7</th>\n",
       "      <td>Finding Nemo</td>\n",
       "      <td>940335536</td>\n",
       "    </tr>\n",
       "    <tr>\n",
       "      <th>8</th>\n",
       "      <td>Harry Potter and the Order of the Phoenix</td>\n",
       "      <td>938212738</td>\n",
       "    </tr>\n",
       "    <tr>\n",
       "      <th>9</th>\n",
       "      <td>Harry Potter and the Half-Blood Prince</td>\n",
       "      <td>933959197</td>\n",
       "    </tr>\n",
       "  </tbody>\n",
       "</table>\n",
       "</div>"
      ],
      "text/plain": [
       "                                           Title     Revenue\n",
       "0                                         Avatar  2787965087\n",
       "1                                        Titanic  1845034188\n",
       "2  The Lord of the Rings: The Return of the King  1118888979\n",
       "3     Pirates of the Caribbean: Dead Man's Chest  1065659812\n",
       "4                                The Dark Knight  1004558444\n",
       "5       Harry Potter and the Philosopher's Stone   976475550\n",
       "6       Pirates of the Caribbean: At World's End   961000000\n",
       "7                                   Finding Nemo   940335536\n",
       "8      Harry Potter and the Order of the Phoenix   938212738\n",
       "9         Harry Potter and the Half-Blood Prince   933959197"
      ]
     },
     "execution_count": 52,
     "metadata": {},
     "output_type": "execute_result"
    }
   ],
   "source": [
    "df[[\"Title\",\"Revenue\"]].sort_values(by=\"Revenue\",ascending=False).reset_index(drop=True).head(10)"
   ]
  },
  {
   "cell_type": "markdown",
   "metadata": {},
   "source": [
    "La película más taquillera es Avatar y la décima es Harry Potter and the Half-Blood Prince. El top-ten se puede visualizar en la tabla anterior."
   ]
  },
  {
   "cell_type": "markdown",
   "metadata": {},
   "source": [
    "# d)\n",
    "Describid, de forma estática, la evolución cuantitativa de los géneros \n",
    "cinematográficos durante el periodo 1995-2005"
   ]
  },
  {
   "cell_type": "code",
   "execution_count": 81,
   "metadata": {},
   "outputs": [
    {
     "data": {
      "text/html": [
       "<div>\n",
       "<style scoped>\n",
       "    .dataframe tbody tr th:only-of-type {\n",
       "        vertical-align: middle;\n",
       "    }\n",
       "\n",
       "    .dataframe tbody tr th {\n",
       "        vertical-align: top;\n",
       "    }\n",
       "\n",
       "    .dataframe thead th {\n",
       "        text-align: right;\n",
       "    }\n",
       "</style>\n",
       "<table border=\"1\" class=\"dataframe\">\n",
       "  <thead>\n",
       "    <tr style=\"text-align: right;\">\n",
       "      <th></th>\n",
       "      <th>Year</th>\n",
       "      <th>Action</th>\n",
       "      <th>Adventure</th>\n",
       "      <th>Comedy</th>\n",
       "      <th>Drama</th>\n",
       "    </tr>\n",
       "  </thead>\n",
       "  <tbody>\n",
       "    <tr>\n",
       "      <th>0</th>\n",
       "      <td>1995</td>\n",
       "      <td>18</td>\n",
       "      <td>10</td>\n",
       "      <td>3</td>\n",
       "      <td>15</td>\n",
       "    </tr>\n",
       "    <tr>\n",
       "      <th>1</th>\n",
       "      <td>1996</td>\n",
       "      <td>16</td>\n",
       "      <td>12</td>\n",
       "      <td>11</td>\n",
       "      <td>24</td>\n",
       "    </tr>\n",
       "    <tr>\n",
       "      <th>2</th>\n",
       "      <td>1997</td>\n",
       "      <td>24</td>\n",
       "      <td>17</td>\n",
       "      <td>9</td>\n",
       "      <td>19</td>\n",
       "    </tr>\n",
       "    <tr>\n",
       "      <th>3</th>\n",
       "      <td>1998</td>\n",
       "      <td>17</td>\n",
       "      <td>15</td>\n",
       "      <td>12</td>\n",
       "      <td>18</td>\n",
       "    </tr>\n",
       "    <tr>\n",
       "      <th>4</th>\n",
       "      <td>1999</td>\n",
       "      <td>17</td>\n",
       "      <td>10</td>\n",
       "      <td>21</td>\n",
       "      <td>28</td>\n",
       "    </tr>\n",
       "    <tr>\n",
       "      <th>5</th>\n",
       "      <td>2000</td>\n",
       "      <td>21</td>\n",
       "      <td>17</td>\n",
       "      <td>20</td>\n",
       "      <td>21</td>\n",
       "    </tr>\n",
       "    <tr>\n",
       "      <th>6</th>\n",
       "      <td>2001</td>\n",
       "      <td>30</td>\n",
       "      <td>17</td>\n",
       "      <td>20</td>\n",
       "      <td>21</td>\n",
       "    </tr>\n",
       "    <tr>\n",
       "      <th>7</th>\n",
       "      <td>2002</td>\n",
       "      <td>29</td>\n",
       "      <td>23</td>\n",
       "      <td>20</td>\n",
       "      <td>29</td>\n",
       "    </tr>\n",
       "    <tr>\n",
       "      <th>8</th>\n",
       "      <td>2003</td>\n",
       "      <td>30</td>\n",
       "      <td>20</td>\n",
       "      <td>25</td>\n",
       "      <td>19</td>\n",
       "    </tr>\n",
       "    <tr>\n",
       "      <th>9</th>\n",
       "      <td>2004</td>\n",
       "      <td>27</td>\n",
       "      <td>23</td>\n",
       "      <td>27</td>\n",
       "      <td>24</td>\n",
       "    </tr>\n",
       "    <tr>\n",
       "      <th>10</th>\n",
       "      <td>2005</td>\n",
       "      <td>26</td>\n",
       "      <td>24</td>\n",
       "      <td>29</td>\n",
       "      <td>27</td>\n",
       "    </tr>\n",
       "  </tbody>\n",
       "</table>\n",
       "</div>"
      ],
      "text/plain": [
       "    Year  Action  Adventure  Comedy  Drama\n",
       "0   1995      18         10       3     15\n",
       "1   1996      16         12      11     24\n",
       "2   1997      24         17       9     19\n",
       "3   1998      17         15      12     18\n",
       "4   1999      17         10      21     28\n",
       "5   2000      21         17      20     21\n",
       "6   2001      30         17      20     21\n",
       "7   2002      29         23      20     29\n",
       "8   2003      30         20      25     19\n",
       "9   2004      27         23      27     24\n",
       "10  2005      26         24      29     27"
      ]
     },
     "execution_count": 81,
     "metadata": {},
     "output_type": "execute_result"
    }
   ],
   "source": [
    "genresPivoted"
   ]
  },
  {
   "cell_type": "code",
   "execution_count": 80,
   "metadata": {},
   "outputs": [
    {
     "data": {
      "application/vnd.plotly.v1+json": {
       "config": {
        "plotlyServerURL": "https://plot.ly"
       },
       "data": [
        {
         "hovertemplate": "Genres=Action<br>Year=%{x}<br>Number of Films=%{y}<extra></extra>",
         "legendgroup": "Action",
         "line": {
          "color": "#636efa",
          "dash": "solid"
         },
         "marker": {
          "symbol": "circle"
         },
         "mode": "lines",
         "name": "Action",
         "orientation": "v",
         "showlegend": true,
         "type": "scatter",
         "x": [
          1995,
          1996,
          1997,
          1998,
          1999,
          2000,
          2001,
          2002,
          2003,
          2004,
          2005
         ],
         "xaxis": "x",
         "y": [
          18,
          16,
          24,
          17,
          17,
          21,
          30,
          29,
          30,
          27,
          26
         ],
         "yaxis": "y"
        },
        {
         "hovertemplate": "Genres=Comedy<br>Year=%{x}<br>Number of Films=%{y}<extra></extra>",
         "legendgroup": "Comedy",
         "line": {
          "color": "#EF553B",
          "dash": "solid"
         },
         "marker": {
          "symbol": "circle"
         },
         "mode": "lines",
         "name": "Comedy",
         "orientation": "v",
         "showlegend": true,
         "type": "scatter",
         "x": [
          1995,
          1996,
          1997,
          1998,
          1999,
          2000,
          2001,
          2002,
          2003,
          2004,
          2005
         ],
         "xaxis": "x",
         "y": [
          3,
          11,
          9,
          12,
          21,
          20,
          20,
          20,
          25,
          27,
          29
         ],
         "yaxis": "y"
        },
        {
         "hovertemplate": "Genres=Adventure<br>Year=%{x}<br>Number of Films=%{y}<extra></extra>",
         "legendgroup": "Adventure",
         "line": {
          "color": "#00cc96",
          "dash": "solid"
         },
         "marker": {
          "symbol": "circle"
         },
         "mode": "lines",
         "name": "Adventure",
         "orientation": "v",
         "showlegend": true,
         "type": "scatter",
         "x": [
          1995,
          1996,
          1997,
          1998,
          1999,
          2000,
          2001,
          2002,
          2003,
          2004,
          2005
         ],
         "xaxis": "x",
         "y": [
          10,
          12,
          17,
          15,
          10,
          17,
          17,
          23,
          20,
          23,
          24
         ],
         "yaxis": "y"
        },
        {
         "hovertemplate": "Genres=Drama<br>Year=%{x}<br>Number of Films=%{y}<extra></extra>",
         "legendgroup": "Drama",
         "line": {
          "color": "#ab63fa",
          "dash": "solid"
         },
         "marker": {
          "symbol": "circle"
         },
         "mode": "lines",
         "name": "Drama",
         "orientation": "v",
         "showlegend": true,
         "type": "scatter",
         "x": [
          1995,
          1996,
          1997,
          1998,
          1999,
          2000,
          2001,
          2002,
          2003,
          2004,
          2005
         ],
         "xaxis": "x",
         "y": [
          15,
          24,
          19,
          18,
          28,
          21,
          21,
          29,
          19,
          24,
          27
         ],
         "yaxis": "y"
        }
       ],
       "layout": {
        "legend": {
         "title": {
          "text": "Genres"
         },
         "tracegroupgap": 0
        },
        "margin": {
         "t": 60
        },
        "template": {
         "data": {
          "bar": [
           {
            "error_x": {
             "color": "#2a3f5f"
            },
            "error_y": {
             "color": "#2a3f5f"
            },
            "marker": {
             "line": {
              "color": "#E5ECF6",
              "width": 0.5
             },
             "pattern": {
              "fillmode": "overlay",
              "size": 10,
              "solidity": 0.2
             }
            },
            "type": "bar"
           }
          ],
          "barpolar": [
           {
            "marker": {
             "line": {
              "color": "#E5ECF6",
              "width": 0.5
             },
             "pattern": {
              "fillmode": "overlay",
              "size": 10,
              "solidity": 0.2
             }
            },
            "type": "barpolar"
           }
          ],
          "carpet": [
           {
            "aaxis": {
             "endlinecolor": "#2a3f5f",
             "gridcolor": "white",
             "linecolor": "white",
             "minorgridcolor": "white",
             "startlinecolor": "#2a3f5f"
            },
            "baxis": {
             "endlinecolor": "#2a3f5f",
             "gridcolor": "white",
             "linecolor": "white",
             "minorgridcolor": "white",
             "startlinecolor": "#2a3f5f"
            },
            "type": "carpet"
           }
          ],
          "choropleth": [
           {
            "colorbar": {
             "outlinewidth": 0,
             "ticks": ""
            },
            "type": "choropleth"
           }
          ],
          "contour": [
           {
            "colorbar": {
             "outlinewidth": 0,
             "ticks": ""
            },
            "colorscale": [
             [
              0,
              "#0d0887"
             ],
             [
              0.1111111111111111,
              "#46039f"
             ],
             [
              0.2222222222222222,
              "#7201a8"
             ],
             [
              0.3333333333333333,
              "#9c179e"
             ],
             [
              0.4444444444444444,
              "#bd3786"
             ],
             [
              0.5555555555555556,
              "#d8576b"
             ],
             [
              0.6666666666666666,
              "#ed7953"
             ],
             [
              0.7777777777777778,
              "#fb9f3a"
             ],
             [
              0.8888888888888888,
              "#fdca26"
             ],
             [
              1,
              "#f0f921"
             ]
            ],
            "type": "contour"
           }
          ],
          "contourcarpet": [
           {
            "colorbar": {
             "outlinewidth": 0,
             "ticks": ""
            },
            "type": "contourcarpet"
           }
          ],
          "heatmap": [
           {
            "colorbar": {
             "outlinewidth": 0,
             "ticks": ""
            },
            "colorscale": [
             [
              0,
              "#0d0887"
             ],
             [
              0.1111111111111111,
              "#46039f"
             ],
             [
              0.2222222222222222,
              "#7201a8"
             ],
             [
              0.3333333333333333,
              "#9c179e"
             ],
             [
              0.4444444444444444,
              "#bd3786"
             ],
             [
              0.5555555555555556,
              "#d8576b"
             ],
             [
              0.6666666666666666,
              "#ed7953"
             ],
             [
              0.7777777777777778,
              "#fb9f3a"
             ],
             [
              0.8888888888888888,
              "#fdca26"
             ],
             [
              1,
              "#f0f921"
             ]
            ],
            "type": "heatmap"
           }
          ],
          "heatmapgl": [
           {
            "colorbar": {
             "outlinewidth": 0,
             "ticks": ""
            },
            "colorscale": [
             [
              0,
              "#0d0887"
             ],
             [
              0.1111111111111111,
              "#46039f"
             ],
             [
              0.2222222222222222,
              "#7201a8"
             ],
             [
              0.3333333333333333,
              "#9c179e"
             ],
             [
              0.4444444444444444,
              "#bd3786"
             ],
             [
              0.5555555555555556,
              "#d8576b"
             ],
             [
              0.6666666666666666,
              "#ed7953"
             ],
             [
              0.7777777777777778,
              "#fb9f3a"
             ],
             [
              0.8888888888888888,
              "#fdca26"
             ],
             [
              1,
              "#f0f921"
             ]
            ],
            "type": "heatmapgl"
           }
          ],
          "histogram": [
           {
            "marker": {
             "pattern": {
              "fillmode": "overlay",
              "size": 10,
              "solidity": 0.2
             }
            },
            "type": "histogram"
           }
          ],
          "histogram2d": [
           {
            "colorbar": {
             "outlinewidth": 0,
             "ticks": ""
            },
            "colorscale": [
             [
              0,
              "#0d0887"
             ],
             [
              0.1111111111111111,
              "#46039f"
             ],
             [
              0.2222222222222222,
              "#7201a8"
             ],
             [
              0.3333333333333333,
              "#9c179e"
             ],
             [
              0.4444444444444444,
              "#bd3786"
             ],
             [
              0.5555555555555556,
              "#d8576b"
             ],
             [
              0.6666666666666666,
              "#ed7953"
             ],
             [
              0.7777777777777778,
              "#fb9f3a"
             ],
             [
              0.8888888888888888,
              "#fdca26"
             ],
             [
              1,
              "#f0f921"
             ]
            ],
            "type": "histogram2d"
           }
          ],
          "histogram2dcontour": [
           {
            "colorbar": {
             "outlinewidth": 0,
             "ticks": ""
            },
            "colorscale": [
             [
              0,
              "#0d0887"
             ],
             [
              0.1111111111111111,
              "#46039f"
             ],
             [
              0.2222222222222222,
              "#7201a8"
             ],
             [
              0.3333333333333333,
              "#9c179e"
             ],
             [
              0.4444444444444444,
              "#bd3786"
             ],
             [
              0.5555555555555556,
              "#d8576b"
             ],
             [
              0.6666666666666666,
              "#ed7953"
             ],
             [
              0.7777777777777778,
              "#fb9f3a"
             ],
             [
              0.8888888888888888,
              "#fdca26"
             ],
             [
              1,
              "#f0f921"
             ]
            ],
            "type": "histogram2dcontour"
           }
          ],
          "mesh3d": [
           {
            "colorbar": {
             "outlinewidth": 0,
             "ticks": ""
            },
            "type": "mesh3d"
           }
          ],
          "parcoords": [
           {
            "line": {
             "colorbar": {
              "outlinewidth": 0,
              "ticks": ""
             }
            },
            "type": "parcoords"
           }
          ],
          "pie": [
           {
            "automargin": true,
            "type": "pie"
           }
          ],
          "scatter": [
           {
            "fillpattern": {
             "fillmode": "overlay",
             "size": 10,
             "solidity": 0.2
            },
            "type": "scatter"
           }
          ],
          "scatter3d": [
           {
            "line": {
             "colorbar": {
              "outlinewidth": 0,
              "ticks": ""
             }
            },
            "marker": {
             "colorbar": {
              "outlinewidth": 0,
              "ticks": ""
             }
            },
            "type": "scatter3d"
           }
          ],
          "scattercarpet": [
           {
            "marker": {
             "colorbar": {
              "outlinewidth": 0,
              "ticks": ""
             }
            },
            "type": "scattercarpet"
           }
          ],
          "scattergeo": [
           {
            "marker": {
             "colorbar": {
              "outlinewidth": 0,
              "ticks": ""
             }
            },
            "type": "scattergeo"
           }
          ],
          "scattergl": [
           {
            "marker": {
             "colorbar": {
              "outlinewidth": 0,
              "ticks": ""
             }
            },
            "type": "scattergl"
           }
          ],
          "scattermapbox": [
           {
            "marker": {
             "colorbar": {
              "outlinewidth": 0,
              "ticks": ""
             }
            },
            "type": "scattermapbox"
           }
          ],
          "scatterpolar": [
           {
            "marker": {
             "colorbar": {
              "outlinewidth": 0,
              "ticks": ""
             }
            },
            "type": "scatterpolar"
           }
          ],
          "scatterpolargl": [
           {
            "marker": {
             "colorbar": {
              "outlinewidth": 0,
              "ticks": ""
             }
            },
            "type": "scatterpolargl"
           }
          ],
          "scatterternary": [
           {
            "marker": {
             "colorbar": {
              "outlinewidth": 0,
              "ticks": ""
             }
            },
            "type": "scatterternary"
           }
          ],
          "surface": [
           {
            "colorbar": {
             "outlinewidth": 0,
             "ticks": ""
            },
            "colorscale": [
             [
              0,
              "#0d0887"
             ],
             [
              0.1111111111111111,
              "#46039f"
             ],
             [
              0.2222222222222222,
              "#7201a8"
             ],
             [
              0.3333333333333333,
              "#9c179e"
             ],
             [
              0.4444444444444444,
              "#bd3786"
             ],
             [
              0.5555555555555556,
              "#d8576b"
             ],
             [
              0.6666666666666666,
              "#ed7953"
             ],
             [
              0.7777777777777778,
              "#fb9f3a"
             ],
             [
              0.8888888888888888,
              "#fdca26"
             ],
             [
              1,
              "#f0f921"
             ]
            ],
            "type": "surface"
           }
          ],
          "table": [
           {
            "cells": {
             "fill": {
              "color": "#EBF0F8"
             },
             "line": {
              "color": "white"
             }
            },
            "header": {
             "fill": {
              "color": "#C8D4E3"
             },
             "line": {
              "color": "white"
             }
            },
            "type": "table"
           }
          ]
         },
         "layout": {
          "annotationdefaults": {
           "arrowcolor": "#2a3f5f",
           "arrowhead": 0,
           "arrowwidth": 1
          },
          "autotypenumbers": "strict",
          "coloraxis": {
           "colorbar": {
            "outlinewidth": 0,
            "ticks": ""
           }
          },
          "colorscale": {
           "diverging": [
            [
             0,
             "#8e0152"
            ],
            [
             0.1,
             "#c51b7d"
            ],
            [
             0.2,
             "#de77ae"
            ],
            [
             0.3,
             "#f1b6da"
            ],
            [
             0.4,
             "#fde0ef"
            ],
            [
             0.5,
             "#f7f7f7"
            ],
            [
             0.6,
             "#e6f5d0"
            ],
            [
             0.7,
             "#b8e186"
            ],
            [
             0.8,
             "#7fbc41"
            ],
            [
             0.9,
             "#4d9221"
            ],
            [
             1,
             "#276419"
            ]
           ],
           "sequential": [
            [
             0,
             "#0d0887"
            ],
            [
             0.1111111111111111,
             "#46039f"
            ],
            [
             0.2222222222222222,
             "#7201a8"
            ],
            [
             0.3333333333333333,
             "#9c179e"
            ],
            [
             0.4444444444444444,
             "#bd3786"
            ],
            [
             0.5555555555555556,
             "#d8576b"
            ],
            [
             0.6666666666666666,
             "#ed7953"
            ],
            [
             0.7777777777777778,
             "#fb9f3a"
            ],
            [
             0.8888888888888888,
             "#fdca26"
            ],
            [
             1,
             "#f0f921"
            ]
           ],
           "sequentialminus": [
            [
             0,
             "#0d0887"
            ],
            [
             0.1111111111111111,
             "#46039f"
            ],
            [
             0.2222222222222222,
             "#7201a8"
            ],
            [
             0.3333333333333333,
             "#9c179e"
            ],
            [
             0.4444444444444444,
             "#bd3786"
            ],
            [
             0.5555555555555556,
             "#d8576b"
            ],
            [
             0.6666666666666666,
             "#ed7953"
            ],
            [
             0.7777777777777778,
             "#fb9f3a"
            ],
            [
             0.8888888888888888,
             "#fdca26"
            ],
            [
             1,
             "#f0f921"
            ]
           ]
          },
          "colorway": [
           "#636efa",
           "#EF553B",
           "#00cc96",
           "#ab63fa",
           "#FFA15A",
           "#19d3f3",
           "#FF6692",
           "#B6E880",
           "#FF97FF",
           "#FECB52"
          ],
          "font": {
           "color": "#2a3f5f"
          },
          "geo": {
           "bgcolor": "white",
           "lakecolor": "white",
           "landcolor": "#E5ECF6",
           "showlakes": true,
           "showland": true,
           "subunitcolor": "white"
          },
          "hoverlabel": {
           "align": "left"
          },
          "hovermode": "closest",
          "mapbox": {
           "style": "light"
          },
          "paper_bgcolor": "white",
          "plot_bgcolor": "#E5ECF6",
          "polar": {
           "angularaxis": {
            "gridcolor": "white",
            "linecolor": "white",
            "ticks": ""
           },
           "bgcolor": "#E5ECF6",
           "radialaxis": {
            "gridcolor": "white",
            "linecolor": "white",
            "ticks": ""
           }
          },
          "scene": {
           "xaxis": {
            "backgroundcolor": "#E5ECF6",
            "gridcolor": "white",
            "gridwidth": 2,
            "linecolor": "white",
            "showbackground": true,
            "ticks": "",
            "zerolinecolor": "white"
           },
           "yaxis": {
            "backgroundcolor": "#E5ECF6",
            "gridcolor": "white",
            "gridwidth": 2,
            "linecolor": "white",
            "showbackground": true,
            "ticks": "",
            "zerolinecolor": "white"
           },
           "zaxis": {
            "backgroundcolor": "#E5ECF6",
            "gridcolor": "white",
            "gridwidth": 2,
            "linecolor": "white",
            "showbackground": true,
            "ticks": "",
            "zerolinecolor": "white"
           }
          },
          "shapedefaults": {
           "line": {
            "color": "#2a3f5f"
           }
          },
          "ternary": {
           "aaxis": {
            "gridcolor": "white",
            "linecolor": "white",
            "ticks": ""
           },
           "baxis": {
            "gridcolor": "white",
            "linecolor": "white",
            "ticks": ""
           },
           "bgcolor": "#E5ECF6",
           "caxis": {
            "gridcolor": "white",
            "linecolor": "white",
            "ticks": ""
           }
          },
          "title": {
           "x": 0.05
          },
          "xaxis": {
           "automargin": true,
           "gridcolor": "white",
           "linecolor": "white",
           "ticks": "",
           "title": {
            "standoff": 15
           },
           "zerolinecolor": "white",
           "zerolinewidth": 2
          },
          "yaxis": {
           "automargin": true,
           "gridcolor": "white",
           "linecolor": "white",
           "ticks": "",
           "title": {
            "standoff": 15
           },
           "zerolinecolor": "white",
           "zerolinewidth": 2
          }
         }
        },
        "xaxis": {
         "anchor": "y",
         "domain": [
          0,
          1
         ],
         "title": {
          "text": "Year"
         }
        },
        "yaxis": {
         "anchor": "x",
         "domain": [
          0,
          1
         ],
         "title": {
          "text": "Number of Films"
         }
        }
       }
      }
     },
     "metadata": {},
     "output_type": "display_data"
    }
   ],
   "source": [
    "fig = px.line(genresGrouped, x=\"Year\", y=\"Number of Films\", color='Genres')\n",
    "fig.show()"
   ]
  },
  {
   "cell_type": "markdown",
   "metadata": {},
   "source": [
    "# e)\n",
    "Comparad,  respecto  a  la  película  The  Lord  of  the  Rings:  The  Two  Towers,  los \n",
    "ingresos que obtuvieron las veinte películas más taquilleras.\n"
   ]
  },
  {
   "cell_type": "code",
   "execution_count": 8,
   "metadata": {},
   "outputs": [
    {
     "data": {
      "text/html": [
       "<div>\n",
       "<style scoped>\n",
       "    .dataframe tbody tr th:only-of-type {\n",
       "        vertical-align: middle;\n",
       "    }\n",
       "\n",
       "    .dataframe tbody tr th {\n",
       "        vertical-align: top;\n",
       "    }\n",
       "\n",
       "    .dataframe thead th {\n",
       "        text-align: right;\n",
       "    }\n",
       "</style>\n",
       "<table border=\"1\" class=\"dataframe\">\n",
       "  <thead>\n",
       "    <tr style=\"text-align: right;\">\n",
       "      <th></th>\n",
       "      <th>Title</th>\n",
       "      <th>Revenue</th>\n",
       "    </tr>\n",
       "  </thead>\n",
       "  <tbody>\n",
       "    <tr>\n",
       "      <th>0</th>\n",
       "      <td>Avatar</td>\n",
       "      <td>2787965087</td>\n",
       "    </tr>\n",
       "    <tr>\n",
       "      <th>1</th>\n",
       "      <td>Titanic</td>\n",
       "      <td>1845034188</td>\n",
       "    </tr>\n",
       "    <tr>\n",
       "      <th>2</th>\n",
       "      <td>The Lord of the Rings: The Return of the King</td>\n",
       "      <td>1118888979</td>\n",
       "    </tr>\n",
       "    <tr>\n",
       "      <th>3</th>\n",
       "      <td>Pirates of the Caribbean: Dead Man's Chest</td>\n",
       "      <td>1065659812</td>\n",
       "    </tr>\n",
       "    <tr>\n",
       "      <th>4</th>\n",
       "      <td>The Dark Knight</td>\n",
       "      <td>1004558444</td>\n",
       "    </tr>\n",
       "    <tr>\n",
       "      <th>5</th>\n",
       "      <td>Harry Potter and the Philosopher's Stone</td>\n",
       "      <td>976475550</td>\n",
       "    </tr>\n",
       "    <tr>\n",
       "      <th>6</th>\n",
       "      <td>Pirates of the Caribbean: At World's End</td>\n",
       "      <td>961000000</td>\n",
       "    </tr>\n",
       "    <tr>\n",
       "      <th>7</th>\n",
       "      <td>Finding Nemo</td>\n",
       "      <td>940335536</td>\n",
       "    </tr>\n",
       "    <tr>\n",
       "      <th>8</th>\n",
       "      <td>Harry Potter and the Order of the Phoenix</td>\n",
       "      <td>938212738</td>\n",
       "    </tr>\n",
       "    <tr>\n",
       "      <th>9</th>\n",
       "      <td>Harry Potter and the Half-Blood Prince</td>\n",
       "      <td>933959197</td>\n",
       "    </tr>\n",
       "    <tr>\n",
       "      <th>10</th>\n",
       "      <td>The Lord of the Rings: The Two Towers</td>\n",
       "      <td>926287400</td>\n",
       "    </tr>\n",
       "    <tr>\n",
       "      <th>11</th>\n",
       "      <td>Star Wars: Episode I - The Phantom Menace</td>\n",
       "      <td>924317558</td>\n",
       "    </tr>\n",
       "    <tr>\n",
       "      <th>12</th>\n",
       "      <td>Jurassic Park</td>\n",
       "      <td>920100000</td>\n",
       "    </tr>\n",
       "    <tr>\n",
       "      <th>13</th>\n",
       "      <td>Shrek 2</td>\n",
       "      <td>919838758</td>\n",
       "    </tr>\n",
       "    <tr>\n",
       "      <th>14</th>\n",
       "      <td>Harry Potter and the Goblet of Fire</td>\n",
       "      <td>895921036</td>\n",
       "    </tr>\n",
       "    <tr>\n",
       "      <th>15</th>\n",
       "      <td>Spider-Man 3</td>\n",
       "      <td>890871626</td>\n",
       "    </tr>\n",
       "    <tr>\n",
       "      <th>16</th>\n",
       "      <td>Ice Age: Dawn of the Dinosaurs</td>\n",
       "      <td>886686817</td>\n",
       "    </tr>\n",
       "    <tr>\n",
       "      <th>17</th>\n",
       "      <td>Harry Potter and the Chamber of Secrets</td>\n",
       "      <td>876688482</td>\n",
       "    </tr>\n",
       "    <tr>\n",
       "      <th>18</th>\n",
       "      <td>The Lord of the Rings: The Fellowship of the Ring</td>\n",
       "      <td>871368364</td>\n",
       "    </tr>\n",
       "    <tr>\n",
       "      <th>19</th>\n",
       "      <td>Star Wars: Episode III - Revenge of the Sith</td>\n",
       "      <td>850000000</td>\n",
       "    </tr>\n",
       "  </tbody>\n",
       "</table>\n",
       "</div>"
      ],
      "text/plain": [
       "                                                Title     Revenue\n",
       "0                                              Avatar  2787965087\n",
       "1                                             Titanic  1845034188\n",
       "2       The Lord of the Rings: The Return of the King  1118888979\n",
       "3          Pirates of the Caribbean: Dead Man's Chest  1065659812\n",
       "4                                     The Dark Knight  1004558444\n",
       "5            Harry Potter and the Philosopher's Stone   976475550\n",
       "6            Pirates of the Caribbean: At World's End   961000000\n",
       "7                                        Finding Nemo   940335536\n",
       "8           Harry Potter and the Order of the Phoenix   938212738\n",
       "9              Harry Potter and the Half-Blood Prince   933959197\n",
       "10              The Lord of the Rings: The Two Towers   926287400\n",
       "11          Star Wars: Episode I - The Phantom Menace   924317558\n",
       "12                                      Jurassic Park   920100000\n",
       "13                                            Shrek 2   919838758\n",
       "14                Harry Potter and the Goblet of Fire   895921036\n",
       "15                                       Spider-Man 3   890871626\n",
       "16                     Ice Age: Dawn of the Dinosaurs   886686817\n",
       "17            Harry Potter and the Chamber of Secrets   876688482\n",
       "18  The Lord of the Rings: The Fellowship of the Ring   871368364\n",
       "19       Star Wars: Episode III - Revenge of the Sith   850000000"
      ]
     },
     "execution_count": 8,
     "metadata": {},
     "output_type": "execute_result"
    }
   ],
   "source": [
    "top20 = df[[\"Title\",\"Revenue\"]].sort_values(by=\"Revenue\",ascending=False).reset_index(drop=True).head(20)\n",
    "top20"
   ]
  },
  {
   "cell_type": "code",
   "execution_count": 9,
   "metadata": {},
   "outputs": [
    {
     "data": {
      "application/vnd.plotly.v1+json": {
       "config": {
        "plotlyServerURL": "https://plot.ly"
       },
       "data": [
        {
         "alignmentgroup": "True",
         "hovertemplate": "Revenue=%{x}<br>Title=%{y}<extra></extra>",
         "legendgroup": "",
         "marker": {
          "color": "gray",
          "pattern": {
           "shape": ""
          }
         },
         "name": "",
         "offsetgroup": "",
         "orientation": "h",
         "showlegend": false,
         "textposition": "auto",
         "type": "bar",
         "x": [
          2787965087,
          1845034188,
          1118888979,
          1065659812,
          1004558444,
          976475550,
          961000000,
          940335536,
          938212738,
          933959197,
          926287400,
          924317558,
          920100000,
          919838758,
          895921036,
          890871626,
          886686817,
          876688482,
          871368364,
          850000000
         ],
         "xaxis": "x",
         "y": [
          "Avatar",
          "Titanic",
          "The Lord of the Rings: The Return of the King",
          "Pirates of the Caribbean: Dead Man's Chest",
          "The Dark Knight",
          "Harry Potter and the Philosopher's Stone",
          "Pirates of the Caribbean: At World's End",
          "Finding Nemo",
          "Harry Potter and the Order of the Phoenix",
          "Harry Potter and the Half-Blood Prince",
          "The Lord of the Rings: The Two Towers",
          "Star Wars: Episode I - The Phantom Menace",
          "Jurassic Park",
          "Shrek 2",
          "Harry Potter and the Goblet of Fire",
          "Spider-Man 3",
          "Ice Age: Dawn of the Dinosaurs",
          "Harry Potter and the Chamber of Secrets",
          "The Lord of the Rings: The Fellowship of the Ring",
          "Star Wars: Episode III - Revenge of the Sith"
         ],
         "yaxis": "y"
        }
       ],
       "layout": {
        "barmode": "relative",
        "legend": {
         "tracegroupgap": 0
        },
        "margin": {
         "t": 60
        },
        "shapes": [
         {
          "line": {
           "color": "blue",
           "dash": "dash",
           "width": 3
          },
          "type": "line",
          "x0": 926287400,
          "x1": 926287400,
          "xref": "x",
          "y0": 0,
          "y1": 1,
          "yref": "y domain"
         }
        ],
        "template": {
         "data": {
          "bar": [
           {
            "error_x": {
             "color": "#2a3f5f"
            },
            "error_y": {
             "color": "#2a3f5f"
            },
            "marker": {
             "line": {
              "color": "#E5ECF6",
              "width": 0.5
             },
             "pattern": {
              "fillmode": "overlay",
              "size": 10,
              "solidity": 0.2
             }
            },
            "type": "bar"
           }
          ],
          "barpolar": [
           {
            "marker": {
             "line": {
              "color": "#E5ECF6",
              "width": 0.5
             },
             "pattern": {
              "fillmode": "overlay",
              "size": 10,
              "solidity": 0.2
             }
            },
            "type": "barpolar"
           }
          ],
          "carpet": [
           {
            "aaxis": {
             "endlinecolor": "#2a3f5f",
             "gridcolor": "white",
             "linecolor": "white",
             "minorgridcolor": "white",
             "startlinecolor": "#2a3f5f"
            },
            "baxis": {
             "endlinecolor": "#2a3f5f",
             "gridcolor": "white",
             "linecolor": "white",
             "minorgridcolor": "white",
             "startlinecolor": "#2a3f5f"
            },
            "type": "carpet"
           }
          ],
          "choropleth": [
           {
            "colorbar": {
             "outlinewidth": 0,
             "ticks": ""
            },
            "type": "choropleth"
           }
          ],
          "contour": [
           {
            "colorbar": {
             "outlinewidth": 0,
             "ticks": ""
            },
            "colorscale": [
             [
              0,
              "#0d0887"
             ],
             [
              0.1111111111111111,
              "#46039f"
             ],
             [
              0.2222222222222222,
              "#7201a8"
             ],
             [
              0.3333333333333333,
              "#9c179e"
             ],
             [
              0.4444444444444444,
              "#bd3786"
             ],
             [
              0.5555555555555556,
              "#d8576b"
             ],
             [
              0.6666666666666666,
              "#ed7953"
             ],
             [
              0.7777777777777778,
              "#fb9f3a"
             ],
             [
              0.8888888888888888,
              "#fdca26"
             ],
             [
              1,
              "#f0f921"
             ]
            ],
            "type": "contour"
           }
          ],
          "contourcarpet": [
           {
            "colorbar": {
             "outlinewidth": 0,
             "ticks": ""
            },
            "type": "contourcarpet"
           }
          ],
          "heatmap": [
           {
            "colorbar": {
             "outlinewidth": 0,
             "ticks": ""
            },
            "colorscale": [
             [
              0,
              "#0d0887"
             ],
             [
              0.1111111111111111,
              "#46039f"
             ],
             [
              0.2222222222222222,
              "#7201a8"
             ],
             [
              0.3333333333333333,
              "#9c179e"
             ],
             [
              0.4444444444444444,
              "#bd3786"
             ],
             [
              0.5555555555555556,
              "#d8576b"
             ],
             [
              0.6666666666666666,
              "#ed7953"
             ],
             [
              0.7777777777777778,
              "#fb9f3a"
             ],
             [
              0.8888888888888888,
              "#fdca26"
             ],
             [
              1,
              "#f0f921"
             ]
            ],
            "type": "heatmap"
           }
          ],
          "heatmapgl": [
           {
            "colorbar": {
             "outlinewidth": 0,
             "ticks": ""
            },
            "colorscale": [
             [
              0,
              "#0d0887"
             ],
             [
              0.1111111111111111,
              "#46039f"
             ],
             [
              0.2222222222222222,
              "#7201a8"
             ],
             [
              0.3333333333333333,
              "#9c179e"
             ],
             [
              0.4444444444444444,
              "#bd3786"
             ],
             [
              0.5555555555555556,
              "#d8576b"
             ],
             [
              0.6666666666666666,
              "#ed7953"
             ],
             [
              0.7777777777777778,
              "#fb9f3a"
             ],
             [
              0.8888888888888888,
              "#fdca26"
             ],
             [
              1,
              "#f0f921"
             ]
            ],
            "type": "heatmapgl"
           }
          ],
          "histogram": [
           {
            "marker": {
             "pattern": {
              "fillmode": "overlay",
              "size": 10,
              "solidity": 0.2
             }
            },
            "type": "histogram"
           }
          ],
          "histogram2d": [
           {
            "colorbar": {
             "outlinewidth": 0,
             "ticks": ""
            },
            "colorscale": [
             [
              0,
              "#0d0887"
             ],
             [
              0.1111111111111111,
              "#46039f"
             ],
             [
              0.2222222222222222,
              "#7201a8"
             ],
             [
              0.3333333333333333,
              "#9c179e"
             ],
             [
              0.4444444444444444,
              "#bd3786"
             ],
             [
              0.5555555555555556,
              "#d8576b"
             ],
             [
              0.6666666666666666,
              "#ed7953"
             ],
             [
              0.7777777777777778,
              "#fb9f3a"
             ],
             [
              0.8888888888888888,
              "#fdca26"
             ],
             [
              1,
              "#f0f921"
             ]
            ],
            "type": "histogram2d"
           }
          ],
          "histogram2dcontour": [
           {
            "colorbar": {
             "outlinewidth": 0,
             "ticks": ""
            },
            "colorscale": [
             [
              0,
              "#0d0887"
             ],
             [
              0.1111111111111111,
              "#46039f"
             ],
             [
              0.2222222222222222,
              "#7201a8"
             ],
             [
              0.3333333333333333,
              "#9c179e"
             ],
             [
              0.4444444444444444,
              "#bd3786"
             ],
             [
              0.5555555555555556,
              "#d8576b"
             ],
             [
              0.6666666666666666,
              "#ed7953"
             ],
             [
              0.7777777777777778,
              "#fb9f3a"
             ],
             [
              0.8888888888888888,
              "#fdca26"
             ],
             [
              1,
              "#f0f921"
             ]
            ],
            "type": "histogram2dcontour"
           }
          ],
          "mesh3d": [
           {
            "colorbar": {
             "outlinewidth": 0,
             "ticks": ""
            },
            "type": "mesh3d"
           }
          ],
          "parcoords": [
           {
            "line": {
             "colorbar": {
              "outlinewidth": 0,
              "ticks": ""
             }
            },
            "type": "parcoords"
           }
          ],
          "pie": [
           {
            "automargin": true,
            "type": "pie"
           }
          ],
          "scatter": [
           {
            "fillpattern": {
             "fillmode": "overlay",
             "size": 10,
             "solidity": 0.2
            },
            "type": "scatter"
           }
          ],
          "scatter3d": [
           {
            "line": {
             "colorbar": {
              "outlinewidth": 0,
              "ticks": ""
             }
            },
            "marker": {
             "colorbar": {
              "outlinewidth": 0,
              "ticks": ""
             }
            },
            "type": "scatter3d"
           }
          ],
          "scattercarpet": [
           {
            "marker": {
             "colorbar": {
              "outlinewidth": 0,
              "ticks": ""
             }
            },
            "type": "scattercarpet"
           }
          ],
          "scattergeo": [
           {
            "marker": {
             "colorbar": {
              "outlinewidth": 0,
              "ticks": ""
             }
            },
            "type": "scattergeo"
           }
          ],
          "scattergl": [
           {
            "marker": {
             "colorbar": {
              "outlinewidth": 0,
              "ticks": ""
             }
            },
            "type": "scattergl"
           }
          ],
          "scattermapbox": [
           {
            "marker": {
             "colorbar": {
              "outlinewidth": 0,
              "ticks": ""
             }
            },
            "type": "scattermapbox"
           }
          ],
          "scatterpolar": [
           {
            "marker": {
             "colorbar": {
              "outlinewidth": 0,
              "ticks": ""
             }
            },
            "type": "scatterpolar"
           }
          ],
          "scatterpolargl": [
           {
            "marker": {
             "colorbar": {
              "outlinewidth": 0,
              "ticks": ""
             }
            },
            "type": "scatterpolargl"
           }
          ],
          "scatterternary": [
           {
            "marker": {
             "colorbar": {
              "outlinewidth": 0,
              "ticks": ""
             }
            },
            "type": "scatterternary"
           }
          ],
          "surface": [
           {
            "colorbar": {
             "outlinewidth": 0,
             "ticks": ""
            },
            "colorscale": [
             [
              0,
              "#0d0887"
             ],
             [
              0.1111111111111111,
              "#46039f"
             ],
             [
              0.2222222222222222,
              "#7201a8"
             ],
             [
              0.3333333333333333,
              "#9c179e"
             ],
             [
              0.4444444444444444,
              "#bd3786"
             ],
             [
              0.5555555555555556,
              "#d8576b"
             ],
             [
              0.6666666666666666,
              "#ed7953"
             ],
             [
              0.7777777777777778,
              "#fb9f3a"
             ],
             [
              0.8888888888888888,
              "#fdca26"
             ],
             [
              1,
              "#f0f921"
             ]
            ],
            "type": "surface"
           }
          ],
          "table": [
           {
            "cells": {
             "fill": {
              "color": "#EBF0F8"
             },
             "line": {
              "color": "white"
             }
            },
            "header": {
             "fill": {
              "color": "#C8D4E3"
             },
             "line": {
              "color": "white"
             }
            },
            "type": "table"
           }
          ]
         },
         "layout": {
          "annotationdefaults": {
           "arrowcolor": "#2a3f5f",
           "arrowhead": 0,
           "arrowwidth": 1
          },
          "autotypenumbers": "strict",
          "coloraxis": {
           "colorbar": {
            "outlinewidth": 0,
            "ticks": ""
           }
          },
          "colorscale": {
           "diverging": [
            [
             0,
             "#8e0152"
            ],
            [
             0.1,
             "#c51b7d"
            ],
            [
             0.2,
             "#de77ae"
            ],
            [
             0.3,
             "#f1b6da"
            ],
            [
             0.4,
             "#fde0ef"
            ],
            [
             0.5,
             "#f7f7f7"
            ],
            [
             0.6,
             "#e6f5d0"
            ],
            [
             0.7,
             "#b8e186"
            ],
            [
             0.8,
             "#7fbc41"
            ],
            [
             0.9,
             "#4d9221"
            ],
            [
             1,
             "#276419"
            ]
           ],
           "sequential": [
            [
             0,
             "#0d0887"
            ],
            [
             0.1111111111111111,
             "#46039f"
            ],
            [
             0.2222222222222222,
             "#7201a8"
            ],
            [
             0.3333333333333333,
             "#9c179e"
            ],
            [
             0.4444444444444444,
             "#bd3786"
            ],
            [
             0.5555555555555556,
             "#d8576b"
            ],
            [
             0.6666666666666666,
             "#ed7953"
            ],
            [
             0.7777777777777778,
             "#fb9f3a"
            ],
            [
             0.8888888888888888,
             "#fdca26"
            ],
            [
             1,
             "#f0f921"
            ]
           ],
           "sequentialminus": [
            [
             0,
             "#0d0887"
            ],
            [
             0.1111111111111111,
             "#46039f"
            ],
            [
             0.2222222222222222,
             "#7201a8"
            ],
            [
             0.3333333333333333,
             "#9c179e"
            ],
            [
             0.4444444444444444,
             "#bd3786"
            ],
            [
             0.5555555555555556,
             "#d8576b"
            ],
            [
             0.6666666666666666,
             "#ed7953"
            ],
            [
             0.7777777777777778,
             "#fb9f3a"
            ],
            [
             0.8888888888888888,
             "#fdca26"
            ],
            [
             1,
             "#f0f921"
            ]
           ]
          },
          "colorway": [
           "#636efa",
           "#EF553B",
           "#00cc96",
           "#ab63fa",
           "#FFA15A",
           "#19d3f3",
           "#FF6692",
           "#B6E880",
           "#FF97FF",
           "#FECB52"
          ],
          "font": {
           "color": "#2a3f5f"
          },
          "geo": {
           "bgcolor": "white",
           "lakecolor": "white",
           "landcolor": "#E5ECF6",
           "showlakes": true,
           "showland": true,
           "subunitcolor": "white"
          },
          "hoverlabel": {
           "align": "left"
          },
          "hovermode": "closest",
          "mapbox": {
           "style": "light"
          },
          "paper_bgcolor": "white",
          "plot_bgcolor": "#E5ECF6",
          "polar": {
           "angularaxis": {
            "gridcolor": "white",
            "linecolor": "white",
            "ticks": ""
           },
           "bgcolor": "#E5ECF6",
           "radialaxis": {
            "gridcolor": "white",
            "linecolor": "white",
            "ticks": ""
           }
          },
          "scene": {
           "xaxis": {
            "backgroundcolor": "#E5ECF6",
            "gridcolor": "white",
            "gridwidth": 2,
            "linecolor": "white",
            "showbackground": true,
            "ticks": "",
            "zerolinecolor": "white"
           },
           "yaxis": {
            "backgroundcolor": "#E5ECF6",
            "gridcolor": "white",
            "gridwidth": 2,
            "linecolor": "white",
            "showbackground": true,
            "ticks": "",
            "zerolinecolor": "white"
           },
           "zaxis": {
            "backgroundcolor": "#E5ECF6",
            "gridcolor": "white",
            "gridwidth": 2,
            "linecolor": "white",
            "showbackground": true,
            "ticks": "",
            "zerolinecolor": "white"
           }
          },
          "shapedefaults": {
           "line": {
            "color": "#2a3f5f"
           }
          },
          "ternary": {
           "aaxis": {
            "gridcolor": "white",
            "linecolor": "white",
            "ticks": ""
           },
           "baxis": {
            "gridcolor": "white",
            "linecolor": "white",
            "ticks": ""
           },
           "bgcolor": "#E5ECF6",
           "caxis": {
            "gridcolor": "white",
            "linecolor": "white",
            "ticks": ""
           }
          },
          "title": {
           "x": 0.05
          },
          "xaxis": {
           "automargin": true,
           "gridcolor": "white",
           "linecolor": "white",
           "ticks": "",
           "title": {
            "standoff": 15
           },
           "zerolinecolor": "white",
           "zerolinewidth": 2
          },
          "yaxis": {
           "automargin": true,
           "gridcolor": "white",
           "linecolor": "white",
           "ticks": "",
           "title": {
            "standoff": 15
           },
           "zerolinecolor": "white",
           "zerolinewidth": 2
          }
         }
        },
        "xaxis": {
         "anchor": "y",
         "domain": [
          0,
          1
         ],
         "title": {
          "text": "Revenue"
         }
        },
        "yaxis": {
         "anchor": "x",
         "categoryorder": "total ascending",
         "domain": [
          0,
          1
         ],
         "title": {
          "text": "Title"
         }
        }
       }
      }
     },
     "metadata": {},
     "output_type": "display_data"
    }
   ],
   "source": [
    "LoTR2_Rev = top20[top20.Title == \"The Lord of the Rings: The Two Towers\"][\"Revenue\"].values[0]\n",
    "\n",
    "fig = px.bar(top20, x=\"Revenue\", y=\"Title\", orientation='h',color_discrete_sequence=['gray'])\n",
    "fig.add_vline(x=LoTR2_Rev, line_width=3, line_dash=\"dash\", line_color=\"blue\")\n",
    "fig.update_layout(yaxis={'categoryorder':'total ascending'})\n",
    "fig.show()"
   ]
  },
  {
   "cell_type": "markdown",
   "metadata": {},
   "source": [
    "# f)\n",
    "Mostrad si existe algún tipo de correlación (positiva o negativa) entre el presupuesto y \n",
    "los ingresos de las cien películas más taquilleras. Y ¿entre los ingresos recaudados y la \n",
    "puntuación media obtenida en las votaciones de los espectadores? y ¿entre el número \n",
    "de  visitantes  de  la  página  de  la  película  en  IMDb  (popularidad)  y  la  puntación  media \n",
    "obtenida en las votaciones de los espectadores? "
   ]
  },
  {
   "cell_type": "code",
   "execution_count": 12,
   "metadata": {},
   "outputs": [
    {
     "data": {
      "text/html": [
       "<div>\n",
       "<style scoped>\n",
       "    .dataframe tbody tr th:only-of-type {\n",
       "        vertical-align: middle;\n",
       "    }\n",
       "\n",
       "    .dataframe tbody tr th {\n",
       "        vertical-align: top;\n",
       "    }\n",
       "\n",
       "    .dataframe thead th {\n",
       "        text-align: right;\n",
       "    }\n",
       "</style>\n",
       "<table border=\"1\" class=\"dataframe\">\n",
       "  <thead>\n",
       "    <tr style=\"text-align: right;\">\n",
       "      <th></th>\n",
       "      <th>Title</th>\n",
       "      <th>Year</th>\n",
       "      <th>Genres</th>\n",
       "      <th>Runtime (Minutes)</th>\n",
       "      <th>Production Countries</th>\n",
       "      <th>Budget</th>\n",
       "      <th>Revenue</th>\n",
       "      <th>Popularity</th>\n",
       "      <th>Vote Average</th>\n",
       "    </tr>\n",
       "  </thead>\n",
       "  <tbody>\n",
       "    <tr>\n",
       "      <th>0</th>\n",
       "      <td>Avatar</td>\n",
       "      <td>2009</td>\n",
       "      <td>Action, Adventure, Fantasy, Science Fiction</td>\n",
       "      <td>162</td>\n",
       "      <td>United States of America, United Kingdom</td>\n",
       "      <td>237000000</td>\n",
       "      <td>2787965087</td>\n",
       "      <td>185070892.0</td>\n",
       "      <td>7.2</td>\n",
       "    </tr>\n",
       "    <tr>\n",
       "      <th>1</th>\n",
       "      <td>Titanic</td>\n",
       "      <td>1997</td>\n",
       "      <td>Drama, Romance, Thriller</td>\n",
       "      <td>194</td>\n",
       "      <td>United States of America</td>\n",
       "      <td>200000000</td>\n",
       "      <td>1845034188</td>\n",
       "      <td>2688907.0</td>\n",
       "      <td>7.5</td>\n",
       "    </tr>\n",
       "    <tr>\n",
       "      <th>2</th>\n",
       "      <td>The Lord of the Rings: The Return of the King</td>\n",
       "      <td>2003</td>\n",
       "      <td>Adventure, Fantasy, Action</td>\n",
       "      <td>201</td>\n",
       "      <td>New Zealand, United States of America</td>\n",
       "      <td>94000000</td>\n",
       "      <td>1118888979</td>\n",
       "      <td>29324358.0</td>\n",
       "      <td>8.1</td>\n",
       "    </tr>\n",
       "    <tr>\n",
       "      <th>3</th>\n",
       "      <td>Pirates of the Caribbean: Dead Man's Chest</td>\n",
       "      <td>2006</td>\n",
       "      <td>Adventure, Fantasy, Action</td>\n",
       "      <td>151</td>\n",
       "      <td>United States of America</td>\n",
       "      <td>200000000</td>\n",
       "      <td>1065659812</td>\n",
       "      <td>29455314.0</td>\n",
       "      <td>7.0</td>\n",
       "    </tr>\n",
       "    <tr>\n",
       "      <th>4</th>\n",
       "      <td>The Dark Knight</td>\n",
       "      <td>2008</td>\n",
       "      <td>Drama, Action, Crime, Thriller</td>\n",
       "      <td>152</td>\n",
       "      <td>United Kingdom, United States of America</td>\n",
       "      <td>185000000</td>\n",
       "      <td>1004558444</td>\n",
       "      <td>123167259.0</td>\n",
       "      <td>8.3</td>\n",
       "    </tr>\n",
       "    <tr>\n",
       "      <th>...</th>\n",
       "      <td>...</td>\n",
       "      <td>...</td>\n",
       "      <td>...</td>\n",
       "      <td>...</td>\n",
       "      <td>...</td>\n",
       "      <td>...</td>\n",
       "      <td>...</td>\n",
       "      <td>...</td>\n",
       "      <td>...</td>\n",
       "    </tr>\n",
       "    <tr>\n",
       "      <th>95</th>\n",
       "      <td>Sex and the City</td>\n",
       "      <td>2008</td>\n",
       "      <td>Comedy, Drama, Romance</td>\n",
       "      <td>145</td>\n",
       "      <td>United States of America</td>\n",
       "      <td>65000000</td>\n",
       "      <td>415252786</td>\n",
       "      <td>9170332.0</td>\n",
       "      <td>6.0</td>\n",
       "    </tr>\n",
       "    <tr>\n",
       "      <th>96</th>\n",
       "      <td>Night at the Museum: Battle of the Smithsonian</td>\n",
       "      <td>2009</td>\n",
       "      <td>Adventure, Fantasy, Action, Comedy, Family</td>\n",
       "      <td>105</td>\n",
       "      <td>United States of America, Canada</td>\n",
       "      <td>150000000</td>\n",
       "      <td>413106170</td>\n",
       "      <td>15417181.0</td>\n",
       "      <td>5.9</td>\n",
       "    </tr>\n",
       "    <tr>\n",
       "      <th>97</th>\n",
       "      <td>Batman</td>\n",
       "      <td>1989</td>\n",
       "      <td>Fantasy, Action</td>\n",
       "      <td>126</td>\n",
       "      <td>United Kingdom, United States of America</td>\n",
       "      <td>35000000</td>\n",
       "      <td>411348924</td>\n",
       "      <td>1910673.0</td>\n",
       "      <td>7.0</td>\n",
       "    </tr>\n",
       "    <tr>\n",
       "      <th>98</th>\n",
       "      <td>Signs</td>\n",
       "      <td>2002</td>\n",
       "      <td>Drama, Thriller, Science Fiction, Mystery</td>\n",
       "      <td>106</td>\n",
       "      <td>United States of America</td>\n",
       "      <td>72000000</td>\n",
       "      <td>408247917</td>\n",
       "      <td>11211568.0</td>\n",
       "      <td>6.4</td>\n",
       "    </tr>\n",
       "    <tr>\n",
       "      <th>99</th>\n",
       "      <td>X2</td>\n",
       "      <td>2003</td>\n",
       "      <td>Adventure, Action, Science Fiction, Thriller</td>\n",
       "      <td>133</td>\n",
       "      <td>United States of America</td>\n",
       "      <td>110000000</td>\n",
       "      <td>407711549</td>\n",
       "      <td>913096.0</td>\n",
       "      <td>6.8</td>\n",
       "    </tr>\n",
       "  </tbody>\n",
       "</table>\n",
       "<p>100 rows × 9 columns</p>\n",
       "</div>"
      ],
      "text/plain": [
       "                                             Title  Year  \\\n",
       "0                                           Avatar  2009   \n",
       "1                                          Titanic  1997   \n",
       "2    The Lord of the Rings: The Return of the King  2003   \n",
       "3       Pirates of the Caribbean: Dead Man's Chest  2006   \n",
       "4                                  The Dark Knight  2008   \n",
       "..                                             ...   ...   \n",
       "95                                Sex and the City  2008   \n",
       "96  Night at the Museum: Battle of the Smithsonian  2009   \n",
       "97                                          Batman  1989   \n",
       "98                                           Signs  2002   \n",
       "99                                              X2  2003   \n",
       "\n",
       "                                          Genres  Runtime (Minutes)  \\\n",
       "0    Action, Adventure, Fantasy, Science Fiction                162   \n",
       "1                       Drama, Romance, Thriller                194   \n",
       "2                     Adventure, Fantasy, Action                201   \n",
       "3                     Adventure, Fantasy, Action                151   \n",
       "4                 Drama, Action, Crime, Thriller                152   \n",
       "..                                           ...                ...   \n",
       "95                        Comedy, Drama, Romance                145   \n",
       "96    Adventure, Fantasy, Action, Comedy, Family                105   \n",
       "97                               Fantasy, Action                126   \n",
       "98     Drama, Thriller, Science Fiction, Mystery                106   \n",
       "99  Adventure, Action, Science Fiction, Thriller                133   \n",
       "\n",
       "                        Production Countries     Budget     Revenue  \\\n",
       "0   United States of America, United Kingdom  237000000  2787965087   \n",
       "1                   United States of America  200000000  1845034188   \n",
       "2      New Zealand, United States of America   94000000  1118888979   \n",
       "3                   United States of America  200000000  1065659812   \n",
       "4   United Kingdom, United States of America  185000000  1004558444   \n",
       "..                                       ...        ...         ...   \n",
       "95                  United States of America   65000000   415252786   \n",
       "96          United States of America, Canada  150000000   413106170   \n",
       "97  United Kingdom, United States of America   35000000   411348924   \n",
       "98                  United States of America   72000000   408247917   \n",
       "99                  United States of America  110000000   407711549   \n",
       "\n",
       "     Popularity  Vote Average  \n",
       "0   185070892.0           7.2  \n",
       "1     2688907.0           7.5  \n",
       "2    29324358.0           8.1  \n",
       "3    29455314.0           7.0  \n",
       "4   123167259.0           8.3  \n",
       "..          ...           ...  \n",
       "95    9170332.0           6.0  \n",
       "96   15417181.0           5.9  \n",
       "97    1910673.0           7.0  \n",
       "98   11211568.0           6.4  \n",
       "99     913096.0           6.8  \n",
       "\n",
       "[100 rows x 9 columns]"
      ]
     },
     "execution_count": 12,
     "metadata": {},
     "output_type": "execute_result"
    }
   ],
   "source": [
    "top100 = df.sort_values(by=\"Revenue\",ascending=False).reset_index(drop=True).head(100)\n",
    "top100"
   ]
  },
  {
   "cell_type": "markdown",
   "metadata": {},
   "source": [
    "Correlación Popularity y Vote Average, no parece que exista o es muy débil. (R2 = 0.13)"
   ]
  },
  {
   "cell_type": "code",
   "execution_count": 33,
   "metadata": {},
   "outputs": [
    {
     "data": {
      "application/vnd.plotly.v1+json": {
       "config": {
        "plotlyServerURL": "https://plot.ly"
       },
       "data": [
        {
         "customdata": [
          [
           "Avatar"
          ],
          [
           "Titanic"
          ],
          [
           "The Lord of the Rings: The Return of the King"
          ],
          [
           "Pirates of the Caribbean: Dead Man's Chest"
          ],
          [
           "The Dark Knight"
          ],
          [
           "Harry Potter and the Philosopher's Stone"
          ],
          [
           "Pirates of the Caribbean: At World's End"
          ],
          [
           "Finding Nemo"
          ],
          [
           "Harry Potter and the Order of the Phoenix"
          ],
          [
           "Harry Potter and the Half-Blood Prince"
          ],
          [
           "The Lord of the Rings: The Two Towers"
          ],
          [
           "Star Wars: Episode I - The Phantom Menace"
          ],
          [
           "Jurassic Park"
          ],
          [
           "Shrek 2"
          ],
          [
           "Harry Potter and the Goblet of Fire"
          ],
          [
           "Spider-Man 3"
          ],
          [
           "Ice Age: Dawn of the Dinosaurs"
          ],
          [
           "Harry Potter and the Chamber of Secrets"
          ],
          [
           "The Lord of the Rings: The Fellowship of the Ring"
          ],
          [
           "Star Wars: Episode III - Revenge of the Sith"
          ],
          [
           "Transformers: Revenge of the Fallen"
          ],
          [
           "Spider-Man"
          ],
          [
           "Independence Day"
          ],
          [
           "Shrek the Third"
          ],
          [
           "Harry Potter and the Prisoner of Azkaban"
          ],
          [
           "The Lion King"
          ],
          [
           "Indiana Jones and the Kingdom of the Crystal Skull"
          ],
          [
           "Spider-Man 2"
          ],
          [
           2012
          ],
          [
           "The Da Vinci Code"
          ],
          [
           "The Chronicles of Narnia: The Lion, the Witch and the Wardrobe"
          ],
          [
           "The Matrix Reloaded"
          ],
          [
           "Up"
          ],
          [
           "The Twilight Saga: New Moon"
          ],
          [
           "Transformers"
          ],
          [
           "Forrest Gump"
          ],
          [
           "The Sixth Sense"
          ],
          [
           "Ice Age: The Meltdown"
          ],
          [
           "Pirates of the Caribbean: The Curse of the Black Pearl"
          ],
          [
           "Star Wars: Episode II - Attack of the Clones"
          ],
          [
           "Kung Fu Panda"
          ],
          [
           "The Incredibles"
          ],
          [
           "Hancock"
          ],
          [
           "Ratatouille"
          ],
          [
           "Mamma Mia!"
          ],
          [
           "Madagascar: Escape 2 Africa"
          ],
          [
           "Casino Royale"
          ],
          [
           "War of the Worlds"
          ],
          [
           "Men in Black"
          ],
          [
           "Quantum of Solace"
          ],
          [
           "I Am Legend"
          ],
          [
           "Iron Man"
          ],
          [
           "Night at the Museum"
          ],
          [
           "Monsters, Inc."
          ],
          [
           "Armageddon"
          ],
          [
           "King Kong"
          ],
          [
           "Mission: Impossible II"
          ],
          [
           "The Day After Tomorrow"
          ],
          [
           "Madagascar"
          ],
          [
           "The Simpsons Movie"
          ],
          [
           "Sherlock Holmes"
          ],
          [
           "WALL¬∑E"
          ],
          [
           "Terminator 2: Judgment Day"
          ],
          [
           "Meet the Fockers"
          ],
          [
           "Troy"
          ],
          [
           "Toy Story 2"
          ],
          [
           "Twister"
          ],
          [
           "Bruce Almighty"
          ],
          [
           "Shrek"
          ],
          [
           "Saving Private Ryan"
          ],
          [
           "Mr. & Mrs. Smith"
          ],
          [
           "Charlie and the Chocolate Factory"
          ],
          [
           "Indiana Jones and the Last Crusade"
          ],
          [
           "The Matrix"
          ],
          [
           "Cars"
          ],
          [
           "X-Men: The Last Stand"
          ],
          [
           "The Hangover"
          ],
          [
           "Mission: Impossible"
          ],
          [
           "Gladiator"
          ],
          [
           "National Treasure: Book of Secrets"
          ],
          [
           "The Last Samurai"
          ],
          [
           "Ocean's Eleven"
          ],
          [
           "Pearl Harbor"
          ],
          [
           "Tarzan"
          ],
          [
           "Alvin and the Chipmunks: The Squeakquel"
          ],
          [
           "The Bourne Ultimatum"
          ],
          [
           "Men in Black II"
          ],
          [
           "Terminator 3: Rise of the Machines"
          ],
          [
           "The Mummy Returns"
          ],
          [
           "Die Another Day"
          ],
          [
           "Cast Away"
          ],
          [
           "The Matrix Revolutions"
          ],
          [
           300
          ],
          [
           "The Chronicles of Narnia: Prince Caspian"
          ],
          [
           "The Mummy"
          ],
          [
           "Sex and the City"
          ],
          [
           "Night at the Museum: Battle of the Smithsonian"
          ],
          [
           "Batman"
          ],
          [
           "Signs"
          ],
          [
           "X2"
          ]
         ],
         "hovertemplate": "Revenue=%{x}<br>Budget=%{y}<br>Title=%{customdata[0]}<extra></extra>",
         "legendgroup": "",
         "marker": {
          "color": "#636efa",
          "symbol": "circle"
         },
         "mode": "markers",
         "name": "",
         "orientation": "v",
         "showlegend": false,
         "type": "scatter",
         "x": [
          2787965087,
          1845034188,
          1118888979,
          1065659812,
          1004558444,
          976475550,
          961000000,
          940335536,
          938212738,
          933959197,
          926287400,
          924317558,
          920100000,
          919838758,
          895921036,
          890871626,
          886686817,
          876688482,
          871368364,
          850000000,
          836297228,
          821708551,
          816969268,
          798958165,
          789804554,
          788241776,
          786636033,
          783766341,
          769653595,
          767820459,
          748806957,
          738599701,
          735099082,
          709827462,
          709709780,
          677945399,
          672806292,
          660940780,
          655011224,
          649398328,
          631744560,
          631442092,
          624029371,
          623722818,
          609841637,
          603900354,
          599045960,
          591739379,
          589390539,
          586090727,
          585349010,
          585174222,
          574480841,
          562816256,
          553799566,
          550000000,
          546388105,
          544272402,
          532680671,
          527068851,
          524028679,
          521311860,
          520000000,
          516642939,
          497409852,
          497366869,
          494471524,
          484572835,
          484409218,
          481840909,
          478207520,
          474968763,
          474171806,
          463517383,
          461983149,
          459359555,
          459270619,
          457696359,
          457640427,
          457363168,
          456758981,
          450717150,
          449220945,
          448000000,
          443140005,
          442824138,
          441818803,
          435000000,
          433013274,
          431971116,
          429632142,
          424988211,
          422610419,
          419651413,
          415885488,
          415252786,
          413106170,
          411348924,
          408247917,
          407711549
         ],
         "xaxis": "x",
         "y": [
          237000000,
          200000000,
          94000000,
          200000000,
          185000000,
          125000000,
          300000000,
          94000000,
          150000000,
          250000000,
          79000000,
          115000000,
          63000000,
          150000000,
          150000000,
          258000000,
          90000000,
          100000000,
          93000000,
          113000000,
          150000000,
          139000000,
          75000000,
          160000000,
          130000000,
          45000000,
          185000000,
          200000000,
          200000000,
          125000000,
          180000000,
          150000000,
          175000000,
          50000000,
          150000000,
          55000000,
          40000000,
          80000000,
          140000000,
          120000000,
          130000000,
          92000000,
          150000000,
          150000000,
          52000000,
          150000000,
          150000000,
          132000000,
          90000000,
          200000000,
          150000000,
          140000000,
          110000000,
          115000000,
          140000000,
          207000000,
          125000000,
          125000000,
          75000000,
          75000000,
          90000000,
          180000000,
          100000000,
          80000000,
          175000000,
          90000000,
          92000000,
          80000000,
          60000000,
          70000000,
          110000000,
          150000000,
          48000000,
          63000000,
          120000000,
          210000000,
          35000000,
          80000000,
          103000000,
          130000000,
          140000000,
          85000000,
          140000000,
          150000000,
          75000000,
          70000000,
          140000000,
          200000000,
          98000000,
          140000000,
          90000000,
          150000000,
          65000000,
          225000000,
          80000000,
          65000000,
          150000000,
          35000000,
          72000000,
          110000000
         ],
         "yaxis": "y"
        },
        {
         "hovertemplate": "<b>OLS trendline</b><br>Budget = 0.0627359 * Revenue + 8.33508e+07<br>R<sup>2</sup>=0.131540<br><br>Revenue=%{x}<br>Budget=%{y} <b>(trend)</b><extra></extra>",
         "legendgroup": "",
         "marker": {
          "color": "#636efa",
          "symbol": "circle"
         },
         "mode": "lines",
         "name": "",
         "showlegend": false,
         "type": "scatter",
         "x": [
          407711549,
          408247917,
          411348924,
          413106170,
          415252786,
          415885488,
          419651413,
          422610419,
          424988211,
          429632142,
          431971116,
          433013274,
          435000000,
          441818803,
          442824138,
          443140005,
          448000000,
          449220945,
          450717150,
          456758981,
          457363168,
          457640427,
          457696359,
          459270619,
          459359555,
          461983149,
          463517383,
          474171806,
          474968763,
          478207520,
          481840909,
          484409218,
          484572835,
          494471524,
          497366869,
          497409852,
          516642939,
          520000000,
          521311860,
          524028679,
          527068851,
          532680671,
          544272402,
          546388105,
          550000000,
          553799566,
          562816256,
          574480841,
          585174222,
          585349010,
          586090727,
          589390539,
          591739379,
          599045960,
          603900354,
          609841637,
          623722818,
          624029371,
          631442092,
          631744560,
          649398328,
          655011224,
          660940780,
          672806292,
          677945399,
          709709780,
          709827462,
          735099082,
          738599701,
          748806957,
          767820459,
          769653595,
          783766341,
          786636033,
          788241776,
          789804554,
          798958165,
          816969268,
          821708551,
          836297228,
          850000000,
          871368364,
          876688482,
          886686817,
          890871626,
          895921036,
          919838758,
          920100000,
          924317558,
          926287400,
          933959197,
          938212738,
          940335536,
          961000000,
          976475550,
          1004558444,
          1065659812,
          1118888979,
          1845034188,
          2787965087
         ],
         "xaxis": "x",
         "y": [
          108928907.24193901,
          108962556.76283583,
          109157101.17981759,
          109267343.56190945,
          109402013.41534859,
          109441706.53494272,
          109677965.1707736,
          109863601.02942067,
          110012773.91369468,
          110304115.03253078,
          110450852.63524032,
          110516233.33915776,
          110640872.35202438,
          111068655.989452,
          111131726.56989455,
          111151542.76552351,
          111456438.85050793,
          111533035.91500723,
          111626901.65907367,
          112005941.27085054,
          112043845.47669819,
          112061239.56529841,
          112064748.5087902,
          112163511.10232118,
          112169090.58094496,
          112333684.07110053,
          112429935.59811856,
          113098350.24884722,
          113148348.05114968,
          113351534.33622114,
          113579478.20886412,
          113740603.34564519,
          113750868.0028592,
          114371871.0126521,
          114553513.0421561,
          114556209.61867951,
          115762814.34326562,
          115973422.53441682,
          116055723.23185533,
          116226165.2748433,
          116416893.15429159,
          116768955.64563927,
          117496173.14279568,
          117628903.6418373,
          117855499.06937885,
          118093868.20310017,
          118659538.22550108,
          119391326.28278676,
          120062184.99810371,
          120073150.47788349,
          120119682.74992622,
          120326699.37442577,
          120474055.92937177,
          120932440.75106841,
          121236985.45236377,
          121609717.09642607,
          122480565.26434809,
          122499797.13794884,
          122964840.74642618,
          122983816.34393874,
          124091341.09415421,
          124443471.08931361,
          124815467.02965839,
          125559860.42000875,
          125882266.84318738,
          127875033.38077718,
          127882416.26513675,
          129467853.69855267,
          129687468.12781075,
          130327829.36127576,
          131520658.22666422,
          131635661.63503069,
          132521037.23804668,
          132701069.90390562,
          132801807.61128826,
          132899849.87139343,
          133474109.75383577,
          134604052.2313386,
          134901375.34223342,
          135816608.89749473,
          136676264.41899925,
          138016827.63483018,
          138350589.9431978,
          138977844.33293745,
          139240382.02701074,
          139557161.22955748,
          141057660.67442232,
          141074049.92236054,
          141338642.15391526,
          141462221.93410802,
          141943518.90459776,
          142210368.5614844,
          142343544.1716265,
          143639947.59835878,
          144610819.9157132,
          146372625.1100874,
          150205873.47565007,
          153545252.3485259,
          199100614.30965942,
          258256218.2796114
         ],
         "yaxis": "y"
        }
       ],
       "layout": {
        "legend": {
         "tracegroupgap": 0
        },
        "margin": {
         "t": 60
        },
        "template": {
         "data": {
          "bar": [
           {
            "error_x": {
             "color": "#2a3f5f"
            },
            "error_y": {
             "color": "#2a3f5f"
            },
            "marker": {
             "line": {
              "color": "#E5ECF6",
              "width": 0.5
             },
             "pattern": {
              "fillmode": "overlay",
              "size": 10,
              "solidity": 0.2
             }
            },
            "type": "bar"
           }
          ],
          "barpolar": [
           {
            "marker": {
             "line": {
              "color": "#E5ECF6",
              "width": 0.5
             },
             "pattern": {
              "fillmode": "overlay",
              "size": 10,
              "solidity": 0.2
             }
            },
            "type": "barpolar"
           }
          ],
          "carpet": [
           {
            "aaxis": {
             "endlinecolor": "#2a3f5f",
             "gridcolor": "white",
             "linecolor": "white",
             "minorgridcolor": "white",
             "startlinecolor": "#2a3f5f"
            },
            "baxis": {
             "endlinecolor": "#2a3f5f",
             "gridcolor": "white",
             "linecolor": "white",
             "minorgridcolor": "white",
             "startlinecolor": "#2a3f5f"
            },
            "type": "carpet"
           }
          ],
          "choropleth": [
           {
            "colorbar": {
             "outlinewidth": 0,
             "ticks": ""
            },
            "type": "choropleth"
           }
          ],
          "contour": [
           {
            "colorbar": {
             "outlinewidth": 0,
             "ticks": ""
            },
            "colorscale": [
             [
              0,
              "#0d0887"
             ],
             [
              0.1111111111111111,
              "#46039f"
             ],
             [
              0.2222222222222222,
              "#7201a8"
             ],
             [
              0.3333333333333333,
              "#9c179e"
             ],
             [
              0.4444444444444444,
              "#bd3786"
             ],
             [
              0.5555555555555556,
              "#d8576b"
             ],
             [
              0.6666666666666666,
              "#ed7953"
             ],
             [
              0.7777777777777778,
              "#fb9f3a"
             ],
             [
              0.8888888888888888,
              "#fdca26"
             ],
             [
              1,
              "#f0f921"
             ]
            ],
            "type": "contour"
           }
          ],
          "contourcarpet": [
           {
            "colorbar": {
             "outlinewidth": 0,
             "ticks": ""
            },
            "type": "contourcarpet"
           }
          ],
          "heatmap": [
           {
            "colorbar": {
             "outlinewidth": 0,
             "ticks": ""
            },
            "colorscale": [
             [
              0,
              "#0d0887"
             ],
             [
              0.1111111111111111,
              "#46039f"
             ],
             [
              0.2222222222222222,
              "#7201a8"
             ],
             [
              0.3333333333333333,
              "#9c179e"
             ],
             [
              0.4444444444444444,
              "#bd3786"
             ],
             [
              0.5555555555555556,
              "#d8576b"
             ],
             [
              0.6666666666666666,
              "#ed7953"
             ],
             [
              0.7777777777777778,
              "#fb9f3a"
             ],
             [
              0.8888888888888888,
              "#fdca26"
             ],
             [
              1,
              "#f0f921"
             ]
            ],
            "type": "heatmap"
           }
          ],
          "heatmapgl": [
           {
            "colorbar": {
             "outlinewidth": 0,
             "ticks": ""
            },
            "colorscale": [
             [
              0,
              "#0d0887"
             ],
             [
              0.1111111111111111,
              "#46039f"
             ],
             [
              0.2222222222222222,
              "#7201a8"
             ],
             [
              0.3333333333333333,
              "#9c179e"
             ],
             [
              0.4444444444444444,
              "#bd3786"
             ],
             [
              0.5555555555555556,
              "#d8576b"
             ],
             [
              0.6666666666666666,
              "#ed7953"
             ],
             [
              0.7777777777777778,
              "#fb9f3a"
             ],
             [
              0.8888888888888888,
              "#fdca26"
             ],
             [
              1,
              "#f0f921"
             ]
            ],
            "type": "heatmapgl"
           }
          ],
          "histogram": [
           {
            "marker": {
             "pattern": {
              "fillmode": "overlay",
              "size": 10,
              "solidity": 0.2
             }
            },
            "type": "histogram"
           }
          ],
          "histogram2d": [
           {
            "colorbar": {
             "outlinewidth": 0,
             "ticks": ""
            },
            "colorscale": [
             [
              0,
              "#0d0887"
             ],
             [
              0.1111111111111111,
              "#46039f"
             ],
             [
              0.2222222222222222,
              "#7201a8"
             ],
             [
              0.3333333333333333,
              "#9c179e"
             ],
             [
              0.4444444444444444,
              "#bd3786"
             ],
             [
              0.5555555555555556,
              "#d8576b"
             ],
             [
              0.6666666666666666,
              "#ed7953"
             ],
             [
              0.7777777777777778,
              "#fb9f3a"
             ],
             [
              0.8888888888888888,
              "#fdca26"
             ],
             [
              1,
              "#f0f921"
             ]
            ],
            "type": "histogram2d"
           }
          ],
          "histogram2dcontour": [
           {
            "colorbar": {
             "outlinewidth": 0,
             "ticks": ""
            },
            "colorscale": [
             [
              0,
              "#0d0887"
             ],
             [
              0.1111111111111111,
              "#46039f"
             ],
             [
              0.2222222222222222,
              "#7201a8"
             ],
             [
              0.3333333333333333,
              "#9c179e"
             ],
             [
              0.4444444444444444,
              "#bd3786"
             ],
             [
              0.5555555555555556,
              "#d8576b"
             ],
             [
              0.6666666666666666,
              "#ed7953"
             ],
             [
              0.7777777777777778,
              "#fb9f3a"
             ],
             [
              0.8888888888888888,
              "#fdca26"
             ],
             [
              1,
              "#f0f921"
             ]
            ],
            "type": "histogram2dcontour"
           }
          ],
          "mesh3d": [
           {
            "colorbar": {
             "outlinewidth": 0,
             "ticks": ""
            },
            "type": "mesh3d"
           }
          ],
          "parcoords": [
           {
            "line": {
             "colorbar": {
              "outlinewidth": 0,
              "ticks": ""
             }
            },
            "type": "parcoords"
           }
          ],
          "pie": [
           {
            "automargin": true,
            "type": "pie"
           }
          ],
          "scatter": [
           {
            "fillpattern": {
             "fillmode": "overlay",
             "size": 10,
             "solidity": 0.2
            },
            "type": "scatter"
           }
          ],
          "scatter3d": [
           {
            "line": {
             "colorbar": {
              "outlinewidth": 0,
              "ticks": ""
             }
            },
            "marker": {
             "colorbar": {
              "outlinewidth": 0,
              "ticks": ""
             }
            },
            "type": "scatter3d"
           }
          ],
          "scattercarpet": [
           {
            "marker": {
             "colorbar": {
              "outlinewidth": 0,
              "ticks": ""
             }
            },
            "type": "scattercarpet"
           }
          ],
          "scattergeo": [
           {
            "marker": {
             "colorbar": {
              "outlinewidth": 0,
              "ticks": ""
             }
            },
            "type": "scattergeo"
           }
          ],
          "scattergl": [
           {
            "marker": {
             "colorbar": {
              "outlinewidth": 0,
              "ticks": ""
             }
            },
            "type": "scattergl"
           }
          ],
          "scattermapbox": [
           {
            "marker": {
             "colorbar": {
              "outlinewidth": 0,
              "ticks": ""
             }
            },
            "type": "scattermapbox"
           }
          ],
          "scatterpolar": [
           {
            "marker": {
             "colorbar": {
              "outlinewidth": 0,
              "ticks": ""
             }
            },
            "type": "scatterpolar"
           }
          ],
          "scatterpolargl": [
           {
            "marker": {
             "colorbar": {
              "outlinewidth": 0,
              "ticks": ""
             }
            },
            "type": "scatterpolargl"
           }
          ],
          "scatterternary": [
           {
            "marker": {
             "colorbar": {
              "outlinewidth": 0,
              "ticks": ""
             }
            },
            "type": "scatterternary"
           }
          ],
          "surface": [
           {
            "colorbar": {
             "outlinewidth": 0,
             "ticks": ""
            },
            "colorscale": [
             [
              0,
              "#0d0887"
             ],
             [
              0.1111111111111111,
              "#46039f"
             ],
             [
              0.2222222222222222,
              "#7201a8"
             ],
             [
              0.3333333333333333,
              "#9c179e"
             ],
             [
              0.4444444444444444,
              "#bd3786"
             ],
             [
              0.5555555555555556,
              "#d8576b"
             ],
             [
              0.6666666666666666,
              "#ed7953"
             ],
             [
              0.7777777777777778,
              "#fb9f3a"
             ],
             [
              0.8888888888888888,
              "#fdca26"
             ],
             [
              1,
              "#f0f921"
             ]
            ],
            "type": "surface"
           }
          ],
          "table": [
           {
            "cells": {
             "fill": {
              "color": "#EBF0F8"
             },
             "line": {
              "color": "white"
             }
            },
            "header": {
             "fill": {
              "color": "#C8D4E3"
             },
             "line": {
              "color": "white"
             }
            },
            "type": "table"
           }
          ]
         },
         "layout": {
          "annotationdefaults": {
           "arrowcolor": "#2a3f5f",
           "arrowhead": 0,
           "arrowwidth": 1
          },
          "autotypenumbers": "strict",
          "coloraxis": {
           "colorbar": {
            "outlinewidth": 0,
            "ticks": ""
           }
          },
          "colorscale": {
           "diverging": [
            [
             0,
             "#8e0152"
            ],
            [
             0.1,
             "#c51b7d"
            ],
            [
             0.2,
             "#de77ae"
            ],
            [
             0.3,
             "#f1b6da"
            ],
            [
             0.4,
             "#fde0ef"
            ],
            [
             0.5,
             "#f7f7f7"
            ],
            [
             0.6,
             "#e6f5d0"
            ],
            [
             0.7,
             "#b8e186"
            ],
            [
             0.8,
             "#7fbc41"
            ],
            [
             0.9,
             "#4d9221"
            ],
            [
             1,
             "#276419"
            ]
           ],
           "sequential": [
            [
             0,
             "#0d0887"
            ],
            [
             0.1111111111111111,
             "#46039f"
            ],
            [
             0.2222222222222222,
             "#7201a8"
            ],
            [
             0.3333333333333333,
             "#9c179e"
            ],
            [
             0.4444444444444444,
             "#bd3786"
            ],
            [
             0.5555555555555556,
             "#d8576b"
            ],
            [
             0.6666666666666666,
             "#ed7953"
            ],
            [
             0.7777777777777778,
             "#fb9f3a"
            ],
            [
             0.8888888888888888,
             "#fdca26"
            ],
            [
             1,
             "#f0f921"
            ]
           ],
           "sequentialminus": [
            [
             0,
             "#0d0887"
            ],
            [
             0.1111111111111111,
             "#46039f"
            ],
            [
             0.2222222222222222,
             "#7201a8"
            ],
            [
             0.3333333333333333,
             "#9c179e"
            ],
            [
             0.4444444444444444,
             "#bd3786"
            ],
            [
             0.5555555555555556,
             "#d8576b"
            ],
            [
             0.6666666666666666,
             "#ed7953"
            ],
            [
             0.7777777777777778,
             "#fb9f3a"
            ],
            [
             0.8888888888888888,
             "#fdca26"
            ],
            [
             1,
             "#f0f921"
            ]
           ]
          },
          "colorway": [
           "#636efa",
           "#EF553B",
           "#00cc96",
           "#ab63fa",
           "#FFA15A",
           "#19d3f3",
           "#FF6692",
           "#B6E880",
           "#FF97FF",
           "#FECB52"
          ],
          "font": {
           "color": "#2a3f5f"
          },
          "geo": {
           "bgcolor": "white",
           "lakecolor": "white",
           "landcolor": "#E5ECF6",
           "showlakes": true,
           "showland": true,
           "subunitcolor": "white"
          },
          "hoverlabel": {
           "align": "left"
          },
          "hovermode": "closest",
          "mapbox": {
           "style": "light"
          },
          "paper_bgcolor": "white",
          "plot_bgcolor": "#E5ECF6",
          "polar": {
           "angularaxis": {
            "gridcolor": "white",
            "linecolor": "white",
            "ticks": ""
           },
           "bgcolor": "#E5ECF6",
           "radialaxis": {
            "gridcolor": "white",
            "linecolor": "white",
            "ticks": ""
           }
          },
          "scene": {
           "xaxis": {
            "backgroundcolor": "#E5ECF6",
            "gridcolor": "white",
            "gridwidth": 2,
            "linecolor": "white",
            "showbackground": true,
            "ticks": "",
            "zerolinecolor": "white"
           },
           "yaxis": {
            "backgroundcolor": "#E5ECF6",
            "gridcolor": "white",
            "gridwidth": 2,
            "linecolor": "white",
            "showbackground": true,
            "ticks": "",
            "zerolinecolor": "white"
           },
           "zaxis": {
            "backgroundcolor": "#E5ECF6",
            "gridcolor": "white",
            "gridwidth": 2,
            "linecolor": "white",
            "showbackground": true,
            "ticks": "",
            "zerolinecolor": "white"
           }
          },
          "shapedefaults": {
           "line": {
            "color": "#2a3f5f"
           }
          },
          "ternary": {
           "aaxis": {
            "gridcolor": "white",
            "linecolor": "white",
            "ticks": ""
           },
           "baxis": {
            "gridcolor": "white",
            "linecolor": "white",
            "ticks": ""
           },
           "bgcolor": "#E5ECF6",
           "caxis": {
            "gridcolor": "white",
            "linecolor": "white",
            "ticks": ""
           }
          },
          "title": {
           "x": 0.05
          },
          "xaxis": {
           "automargin": true,
           "gridcolor": "white",
           "linecolor": "white",
           "ticks": "",
           "title": {
            "standoff": 15
           },
           "zerolinecolor": "white",
           "zerolinewidth": 2
          },
          "yaxis": {
           "automargin": true,
           "gridcolor": "white",
           "linecolor": "white",
           "ticks": "",
           "title": {
            "standoff": 15
           },
           "zerolinecolor": "white",
           "zerolinewidth": 2
          }
         }
        },
        "title": {
         "text": "R2: 0.13"
        },
        "xaxis": {
         "anchor": "y",
         "domain": [
          0,
          1
         ],
         "title": {
          "text": "Revenue"
         }
        },
        "yaxis": {
         "anchor": "x",
         "domain": [
          0,
          1
         ],
         "title": {
          "text": "Budget"
         }
        }
       }
      }
     },
     "metadata": {},
     "output_type": "display_data"
    }
   ],
   "source": [
    "fig = px.scatter(top100, x=\"Revenue\", y=\"Budget\", trendline=\"ols\",hover_data=[\"Title\"])\n",
    "r2 = px.get_trendline_results(fig).px_fit_results.iloc[0].rsquared\n",
    "fig.update_layout(\n",
    "    title_text=f'R2: ' + \"{:.2f}\".format(r2), \n",
    ")\n",
    "fig.show()"
   ]
  },
  {
   "cell_type": "markdown",
   "metadata": {},
   "source": [
    "Correlación Popularity y Vote Average, no parece que exista o es muy débil. (R2 = 0.06)"
   ]
  },
  {
   "cell_type": "code",
   "execution_count": 31,
   "metadata": {},
   "outputs": [
    {
     "data": {
      "application/vnd.plotly.v1+json": {
       "config": {
        "plotlyServerURL": "https://plot.ly"
       },
       "data": [
        {
         "customdata": [
          [
           "Avatar"
          ],
          [
           "Titanic"
          ],
          [
           "The Lord of the Rings: The Return of the King"
          ],
          [
           "Pirates of the Caribbean: Dead Man's Chest"
          ],
          [
           "The Dark Knight"
          ],
          [
           "Harry Potter and the Philosopher's Stone"
          ],
          [
           "Pirates of the Caribbean: At World's End"
          ],
          [
           "Finding Nemo"
          ],
          [
           "Harry Potter and the Order of the Phoenix"
          ],
          [
           "Harry Potter and the Half-Blood Prince"
          ],
          [
           "The Lord of the Rings: The Two Towers"
          ],
          [
           "Star Wars: Episode I - The Phantom Menace"
          ],
          [
           "Jurassic Park"
          ],
          [
           "Shrek 2"
          ],
          [
           "Harry Potter and the Goblet of Fire"
          ],
          [
           "Spider-Man 3"
          ],
          [
           "Ice Age: Dawn of the Dinosaurs"
          ],
          [
           "Harry Potter and the Chamber of Secrets"
          ],
          [
           "The Lord of the Rings: The Fellowship of the Ring"
          ],
          [
           "Star Wars: Episode III - Revenge of the Sith"
          ],
          [
           "Transformers: Revenge of the Fallen"
          ],
          [
           "Spider-Man"
          ],
          [
           "Independence Day"
          ],
          [
           "Shrek the Third"
          ],
          [
           "Harry Potter and the Prisoner of Azkaban"
          ],
          [
           "The Lion King"
          ],
          [
           "Indiana Jones and the Kingdom of the Crystal Skull"
          ],
          [
           "Spider-Man 2"
          ],
          [
           2012
          ],
          [
           "The Da Vinci Code"
          ],
          [
           "The Chronicles of Narnia: The Lion, the Witch and the Wardrobe"
          ],
          [
           "The Matrix Reloaded"
          ],
          [
           "Up"
          ],
          [
           "The Twilight Saga: New Moon"
          ],
          [
           "Transformers"
          ],
          [
           "Forrest Gump"
          ],
          [
           "The Sixth Sense"
          ],
          [
           "Ice Age: The Meltdown"
          ],
          [
           "Pirates of the Caribbean: The Curse of the Black Pearl"
          ],
          [
           "Star Wars: Episode II - Attack of the Clones"
          ],
          [
           "Kung Fu Panda"
          ],
          [
           "The Incredibles"
          ],
          [
           "Hancock"
          ],
          [
           "Ratatouille"
          ],
          [
           "Mamma Mia!"
          ],
          [
           "Madagascar: Escape 2 Africa"
          ],
          [
           "Casino Royale"
          ],
          [
           "War of the Worlds"
          ],
          [
           "Men in Black"
          ],
          [
           "Quantum of Solace"
          ],
          [
           "I Am Legend"
          ],
          [
           "Iron Man"
          ],
          [
           "Night at the Museum"
          ],
          [
           "Monsters, Inc."
          ],
          [
           "Armageddon"
          ],
          [
           "King Kong"
          ],
          [
           "Mission: Impossible II"
          ],
          [
           "The Day After Tomorrow"
          ],
          [
           "Madagascar"
          ],
          [
           "The Simpsons Movie"
          ],
          [
           "Sherlock Holmes"
          ],
          [
           "WALL¬∑E"
          ],
          [
           "Terminator 2: Judgment Day"
          ],
          [
           "Meet the Fockers"
          ],
          [
           "Troy"
          ],
          [
           "Toy Story 2"
          ],
          [
           "Twister"
          ],
          [
           "Bruce Almighty"
          ],
          [
           "Shrek"
          ],
          [
           "Saving Private Ryan"
          ],
          [
           "Mr. & Mrs. Smith"
          ],
          [
           "Charlie and the Chocolate Factory"
          ],
          [
           "Indiana Jones and the Last Crusade"
          ],
          [
           "The Matrix"
          ],
          [
           "Cars"
          ],
          [
           "X-Men: The Last Stand"
          ],
          [
           "The Hangover"
          ],
          [
           "Mission: Impossible"
          ],
          [
           "Gladiator"
          ],
          [
           "National Treasure: Book of Secrets"
          ],
          [
           "The Last Samurai"
          ],
          [
           "Ocean's Eleven"
          ],
          [
           "Pearl Harbor"
          ],
          [
           "Tarzan"
          ],
          [
           "Alvin and the Chipmunks: The Squeakquel"
          ],
          [
           "The Bourne Ultimatum"
          ],
          [
           "Men in Black II"
          ],
          [
           "Terminator 3: Rise of the Machines"
          ],
          [
           "The Mummy Returns"
          ],
          [
           "Die Another Day"
          ],
          [
           "Cast Away"
          ],
          [
           "The Matrix Revolutions"
          ],
          [
           300
          ],
          [
           "The Chronicles of Narnia: Prince Caspian"
          ],
          [
           "The Mummy"
          ],
          [
           "Sex and the City"
          ],
          [
           "Night at the Museum: Battle of the Smithsonian"
          ],
          [
           "Batman"
          ],
          [
           "Signs"
          ],
          [
           "X2"
          ]
         ],
         "hovertemplate": "Revenue=%{x}<br>Vote Average=%{y}<br>Title=%{customdata[0]}<extra></extra>",
         "legendgroup": "",
         "marker": {
          "color": "#636efa",
          "symbol": "circle"
         },
         "mode": "markers",
         "name": "",
         "orientation": "v",
         "showlegend": false,
         "type": "scatter",
         "x": [
          2787965087,
          1845034188,
          1118888979,
          1065659812,
          1004558444,
          976475550,
          961000000,
          940335536,
          938212738,
          933959197,
          926287400,
          924317558,
          920100000,
          919838758,
          895921036,
          890871626,
          886686817,
          876688482,
          871368364,
          850000000,
          836297228,
          821708551,
          816969268,
          798958165,
          789804554,
          788241776,
          786636033,
          783766341,
          769653595,
          767820459,
          748806957,
          738599701,
          735099082,
          709827462,
          709709780,
          677945399,
          672806292,
          660940780,
          655011224,
          649398328,
          631744560,
          631442092,
          624029371,
          623722818,
          609841637,
          603900354,
          599045960,
          591739379,
          589390539,
          586090727,
          585349010,
          585174222,
          574480841,
          562816256,
          553799566,
          550000000,
          546388105,
          544272402,
          532680671,
          527068851,
          524028679,
          521311860,
          520000000,
          516642939,
          497409852,
          497366869,
          494471524,
          484572835,
          484409218,
          481840909,
          478207520,
          474968763,
          474171806,
          463517383,
          461983149,
          459359555,
          459270619,
          457696359,
          457640427,
          457363168,
          456758981,
          450717150,
          449220945,
          448000000,
          443140005,
          442824138,
          441818803,
          435000000,
          433013274,
          431971116,
          429632142,
          424988211,
          422610419,
          419651413,
          415885488,
          415252786,
          413106170,
          411348924,
          408247917,
          407711549
         ],
         "xaxis": "x",
         "y": [
          7.2,
          7.5,
          8.1,
          7,
          8.3,
          7.5,
          6.9,
          7.6,
          7.4,
          7.4,
          8,
          6.4,
          7.6,
          6.7,
          7.5,
          5.9,
          6.5,
          7.4,
          8,
          7.1,
          6,
          6.8,
          6.7,
          6,
          7.7,
          8,
          5.7,
          6.7,
          5.6,
          6.5,
          6.7,
          6.7,
          7.8,
          5.6,
          6.6,
          8.2,
          7.7,
          6.5,
          7.5,
          6.4,
          6.9,
          7.4,
          6.2,
          7.5,
          6.4,
          6.2,
          7.3,
          6.2,
          6.9,
          6.1,
          6.9,
          7.4,
          6.4,
          7.5,
          6.5,
          6.6,
          5.9,
          6.2,
          6.6,
          6.9,
          7,
          7.8,
          7.7,
          6.1,
          6.9,
          7.3,
          6.1,
          6.4,
          7.3,
          7.9,
          6.5,
          6.7,
          7.6,
          7.9,
          6.6,
          6.3,
          7.2,
          6.7,
          7.9,
          6.1,
          7.3,
          7.2,
          6.6,
          7.1,
          5.3,
          7.3,
          6.1,
          5.9,
          6,
          5.8,
          7.5,
          6.4,
          7,
          6.3,
          6.6,
          6,
          5.9,
          7,
          6.4,
          6.8
         ],
         "yaxis": "y"
        },
        {
         "hovertemplate": "<b>OLS trendline</b><br>Vote Average = 5.23591e-10 * Revenue + 6.51148<br>R<sup>2</sup>=0.055642<br><br>Revenue=%{x}<br>Vote Average=%{y} <b>(trend)</b><extra></extra>",
         "legendgroup": "",
         "marker": {
          "color": "#636efa",
          "symbol": "circle"
         },
         "mode": "lines",
         "name": "",
         "showlegend": false,
         "type": "scatter",
         "x": [
          407711549,
          408247917,
          411348924,
          413106170,
          415252786,
          415885488,
          419651413,
          422610419,
          424988211,
          429632142,
          431971116,
          433013274,
          435000000,
          441818803,
          442824138,
          443140005,
          448000000,
          449220945,
          450717150,
          456758981,
          457363168,
          457640427,
          457696359,
          459270619,
          459359555,
          461983149,
          463517383,
          474171806,
          474968763,
          478207520,
          481840909,
          484409218,
          484572835,
          494471524,
          497366869,
          497409852,
          516642939,
          520000000,
          521311860,
          524028679,
          527068851,
          532680671,
          544272402,
          546388105,
          550000000,
          553799566,
          562816256,
          574480841,
          585174222,
          585349010,
          586090727,
          589390539,
          591739379,
          599045960,
          603900354,
          609841637,
          623722818,
          624029371,
          631442092,
          631744560,
          649398328,
          655011224,
          660940780,
          672806292,
          677945399,
          709709780,
          709827462,
          735099082,
          738599701,
          748806957,
          767820459,
          769653595,
          783766341,
          786636033,
          788241776,
          789804554,
          798958165,
          816969268,
          821708551,
          836297228,
          850000000,
          871368364,
          876688482,
          886686817,
          890871626,
          895921036,
          919838758,
          920100000,
          924317558,
          926287400,
          933959197,
          938212738,
          940335536,
          961000000,
          976475550,
          1004558444,
          1065659812,
          1118888979,
          1845034188,
          2787965087
         ],
         "xaxis": "x",
         "y": [
          6.724954767341197,
          6.725235604886027,
          6.7268592647471355,
          6.7277793432236725,
          6.728903292391285,
          6.729234569567198,
          6.731206374617119,
          6.732755684009512,
          6.7340006748877865,
          6.736432196120229,
          6.737656862236744,
          6.738202526955828,
          6.739242759132414,
          6.7428130241243664,
          6.743339408646062,
          6.7435047938158945,
          6.746049444249346,
          6.74668872026166,
          6.747472119977458,
          6.750635569296437,
          6.75095191627034,
          6.751097086632559,
          6.751126372133478,
          6.751950640757492,
          6.751997206861151,
          6.753370897494433,
          6.754174208858563,
          6.759752770586532,
          6.760170050228896,
          6.761865834772685,
          6.763768245144249,
          6.765112989040094,
          6.765198657455384,
          6.770381523539494,
          6.77189750059487,
          6.771920006113822,
          6.781990280501173,
          6.78374800797389,
          6.784434886276775,
          6.785857388696213,
          6.78744919588893,
          6.790387495248384,
          6.796456823162012,
          6.797564586556008,
          6.799455742859117,
          6.801445162039348,
          6.8061662212414245,
          6.81227369486563,
          6.817872654658121,
          6.817964172110292,
          6.8183525285768205,
          6.820080280979057,
          6.8213101128459845,
          6.8251357740881655,
          6.827677491887513,
          6.83078829516225,
          6.838056358863645,
          6.838216867305388,
          6.842098102513593,
          6.842256472085435,
          6.851499829001079,
          6.854438691744623,
          6.857543354865794,
          6.863756032091577,
          6.86644682310167,
          6.8830783722863815,
          6.883139989541607,
          6.89637198644428,
          6.898204879617153,
          6.903549308655609,
          6.9135046102774655,
          6.914464424087352,
          6.92185373317637,
          6.9233562785476455,
          6.9241970313922385,
          6.925015288142521,
          6.929808037970204,
          6.939238492334021,
          6.941719939031024,
          6.949358441385764,
          6.956533091711387,
          6.967721378266155,
          6.970506945036226,
          6.975741984885349,
          6.977933113895926,
          6.980576940349486,
          6.993100048223972,
          6.993236832226534,
          6.995445108324104,
          6.996476500187496,
          7.000493385299806,
          7.002720501778187,
          7.003831980051483,
          7.014651710786728,
          7.02275457200683,
          7.037458527132228,
          7.069450663454518,
          7.0973209849011,
          7.477524199272759,
          7.971234485158784
         ],
         "yaxis": "y"
        }
       ],
       "layout": {
        "legend": {
         "tracegroupgap": 0
        },
        "margin": {
         "t": 60
        },
        "template": {
         "data": {
          "bar": [
           {
            "error_x": {
             "color": "#2a3f5f"
            },
            "error_y": {
             "color": "#2a3f5f"
            },
            "marker": {
             "line": {
              "color": "#E5ECF6",
              "width": 0.5
             },
             "pattern": {
              "fillmode": "overlay",
              "size": 10,
              "solidity": 0.2
             }
            },
            "type": "bar"
           }
          ],
          "barpolar": [
           {
            "marker": {
             "line": {
              "color": "#E5ECF6",
              "width": 0.5
             },
             "pattern": {
              "fillmode": "overlay",
              "size": 10,
              "solidity": 0.2
             }
            },
            "type": "barpolar"
           }
          ],
          "carpet": [
           {
            "aaxis": {
             "endlinecolor": "#2a3f5f",
             "gridcolor": "white",
             "linecolor": "white",
             "minorgridcolor": "white",
             "startlinecolor": "#2a3f5f"
            },
            "baxis": {
             "endlinecolor": "#2a3f5f",
             "gridcolor": "white",
             "linecolor": "white",
             "minorgridcolor": "white",
             "startlinecolor": "#2a3f5f"
            },
            "type": "carpet"
           }
          ],
          "choropleth": [
           {
            "colorbar": {
             "outlinewidth": 0,
             "ticks": ""
            },
            "type": "choropleth"
           }
          ],
          "contour": [
           {
            "colorbar": {
             "outlinewidth": 0,
             "ticks": ""
            },
            "colorscale": [
             [
              0,
              "#0d0887"
             ],
             [
              0.1111111111111111,
              "#46039f"
             ],
             [
              0.2222222222222222,
              "#7201a8"
             ],
             [
              0.3333333333333333,
              "#9c179e"
             ],
             [
              0.4444444444444444,
              "#bd3786"
             ],
             [
              0.5555555555555556,
              "#d8576b"
             ],
             [
              0.6666666666666666,
              "#ed7953"
             ],
             [
              0.7777777777777778,
              "#fb9f3a"
             ],
             [
              0.8888888888888888,
              "#fdca26"
             ],
             [
              1,
              "#f0f921"
             ]
            ],
            "type": "contour"
           }
          ],
          "contourcarpet": [
           {
            "colorbar": {
             "outlinewidth": 0,
             "ticks": ""
            },
            "type": "contourcarpet"
           }
          ],
          "heatmap": [
           {
            "colorbar": {
             "outlinewidth": 0,
             "ticks": ""
            },
            "colorscale": [
             [
              0,
              "#0d0887"
             ],
             [
              0.1111111111111111,
              "#46039f"
             ],
             [
              0.2222222222222222,
              "#7201a8"
             ],
             [
              0.3333333333333333,
              "#9c179e"
             ],
             [
              0.4444444444444444,
              "#bd3786"
             ],
             [
              0.5555555555555556,
              "#d8576b"
             ],
             [
              0.6666666666666666,
              "#ed7953"
             ],
             [
              0.7777777777777778,
              "#fb9f3a"
             ],
             [
              0.8888888888888888,
              "#fdca26"
             ],
             [
              1,
              "#f0f921"
             ]
            ],
            "type": "heatmap"
           }
          ],
          "heatmapgl": [
           {
            "colorbar": {
             "outlinewidth": 0,
             "ticks": ""
            },
            "colorscale": [
             [
              0,
              "#0d0887"
             ],
             [
              0.1111111111111111,
              "#46039f"
             ],
             [
              0.2222222222222222,
              "#7201a8"
             ],
             [
              0.3333333333333333,
              "#9c179e"
             ],
             [
              0.4444444444444444,
              "#bd3786"
             ],
             [
              0.5555555555555556,
              "#d8576b"
             ],
             [
              0.6666666666666666,
              "#ed7953"
             ],
             [
              0.7777777777777778,
              "#fb9f3a"
             ],
             [
              0.8888888888888888,
              "#fdca26"
             ],
             [
              1,
              "#f0f921"
             ]
            ],
            "type": "heatmapgl"
           }
          ],
          "histogram": [
           {
            "marker": {
             "pattern": {
              "fillmode": "overlay",
              "size": 10,
              "solidity": 0.2
             }
            },
            "type": "histogram"
           }
          ],
          "histogram2d": [
           {
            "colorbar": {
             "outlinewidth": 0,
             "ticks": ""
            },
            "colorscale": [
             [
              0,
              "#0d0887"
             ],
             [
              0.1111111111111111,
              "#46039f"
             ],
             [
              0.2222222222222222,
              "#7201a8"
             ],
             [
              0.3333333333333333,
              "#9c179e"
             ],
             [
              0.4444444444444444,
              "#bd3786"
             ],
             [
              0.5555555555555556,
              "#d8576b"
             ],
             [
              0.6666666666666666,
              "#ed7953"
             ],
             [
              0.7777777777777778,
              "#fb9f3a"
             ],
             [
              0.8888888888888888,
              "#fdca26"
             ],
             [
              1,
              "#f0f921"
             ]
            ],
            "type": "histogram2d"
           }
          ],
          "histogram2dcontour": [
           {
            "colorbar": {
             "outlinewidth": 0,
             "ticks": ""
            },
            "colorscale": [
             [
              0,
              "#0d0887"
             ],
             [
              0.1111111111111111,
              "#46039f"
             ],
             [
              0.2222222222222222,
              "#7201a8"
             ],
             [
              0.3333333333333333,
              "#9c179e"
             ],
             [
              0.4444444444444444,
              "#bd3786"
             ],
             [
              0.5555555555555556,
              "#d8576b"
             ],
             [
              0.6666666666666666,
              "#ed7953"
             ],
             [
              0.7777777777777778,
              "#fb9f3a"
             ],
             [
              0.8888888888888888,
              "#fdca26"
             ],
             [
              1,
              "#f0f921"
             ]
            ],
            "type": "histogram2dcontour"
           }
          ],
          "mesh3d": [
           {
            "colorbar": {
             "outlinewidth": 0,
             "ticks": ""
            },
            "type": "mesh3d"
           }
          ],
          "parcoords": [
           {
            "line": {
             "colorbar": {
              "outlinewidth": 0,
              "ticks": ""
             }
            },
            "type": "parcoords"
           }
          ],
          "pie": [
           {
            "automargin": true,
            "type": "pie"
           }
          ],
          "scatter": [
           {
            "fillpattern": {
             "fillmode": "overlay",
             "size": 10,
             "solidity": 0.2
            },
            "type": "scatter"
           }
          ],
          "scatter3d": [
           {
            "line": {
             "colorbar": {
              "outlinewidth": 0,
              "ticks": ""
             }
            },
            "marker": {
             "colorbar": {
              "outlinewidth": 0,
              "ticks": ""
             }
            },
            "type": "scatter3d"
           }
          ],
          "scattercarpet": [
           {
            "marker": {
             "colorbar": {
              "outlinewidth": 0,
              "ticks": ""
             }
            },
            "type": "scattercarpet"
           }
          ],
          "scattergeo": [
           {
            "marker": {
             "colorbar": {
              "outlinewidth": 0,
              "ticks": ""
             }
            },
            "type": "scattergeo"
           }
          ],
          "scattergl": [
           {
            "marker": {
             "colorbar": {
              "outlinewidth": 0,
              "ticks": ""
             }
            },
            "type": "scattergl"
           }
          ],
          "scattermapbox": [
           {
            "marker": {
             "colorbar": {
              "outlinewidth": 0,
              "ticks": ""
             }
            },
            "type": "scattermapbox"
           }
          ],
          "scatterpolar": [
           {
            "marker": {
             "colorbar": {
              "outlinewidth": 0,
              "ticks": ""
             }
            },
            "type": "scatterpolar"
           }
          ],
          "scatterpolargl": [
           {
            "marker": {
             "colorbar": {
              "outlinewidth": 0,
              "ticks": ""
             }
            },
            "type": "scatterpolargl"
           }
          ],
          "scatterternary": [
           {
            "marker": {
             "colorbar": {
              "outlinewidth": 0,
              "ticks": ""
             }
            },
            "type": "scatterternary"
           }
          ],
          "surface": [
           {
            "colorbar": {
             "outlinewidth": 0,
             "ticks": ""
            },
            "colorscale": [
             [
              0,
              "#0d0887"
             ],
             [
              0.1111111111111111,
              "#46039f"
             ],
             [
              0.2222222222222222,
              "#7201a8"
             ],
             [
              0.3333333333333333,
              "#9c179e"
             ],
             [
              0.4444444444444444,
              "#bd3786"
             ],
             [
              0.5555555555555556,
              "#d8576b"
             ],
             [
              0.6666666666666666,
              "#ed7953"
             ],
             [
              0.7777777777777778,
              "#fb9f3a"
             ],
             [
              0.8888888888888888,
              "#fdca26"
             ],
             [
              1,
              "#f0f921"
             ]
            ],
            "type": "surface"
           }
          ],
          "table": [
           {
            "cells": {
             "fill": {
              "color": "#EBF0F8"
             },
             "line": {
              "color": "white"
             }
            },
            "header": {
             "fill": {
              "color": "#C8D4E3"
             },
             "line": {
              "color": "white"
             }
            },
            "type": "table"
           }
          ]
         },
         "layout": {
          "annotationdefaults": {
           "arrowcolor": "#2a3f5f",
           "arrowhead": 0,
           "arrowwidth": 1
          },
          "autotypenumbers": "strict",
          "coloraxis": {
           "colorbar": {
            "outlinewidth": 0,
            "ticks": ""
           }
          },
          "colorscale": {
           "diverging": [
            [
             0,
             "#8e0152"
            ],
            [
             0.1,
             "#c51b7d"
            ],
            [
             0.2,
             "#de77ae"
            ],
            [
             0.3,
             "#f1b6da"
            ],
            [
             0.4,
             "#fde0ef"
            ],
            [
             0.5,
             "#f7f7f7"
            ],
            [
             0.6,
             "#e6f5d0"
            ],
            [
             0.7,
             "#b8e186"
            ],
            [
             0.8,
             "#7fbc41"
            ],
            [
             0.9,
             "#4d9221"
            ],
            [
             1,
             "#276419"
            ]
           ],
           "sequential": [
            [
             0,
             "#0d0887"
            ],
            [
             0.1111111111111111,
             "#46039f"
            ],
            [
             0.2222222222222222,
             "#7201a8"
            ],
            [
             0.3333333333333333,
             "#9c179e"
            ],
            [
             0.4444444444444444,
             "#bd3786"
            ],
            [
             0.5555555555555556,
             "#d8576b"
            ],
            [
             0.6666666666666666,
             "#ed7953"
            ],
            [
             0.7777777777777778,
             "#fb9f3a"
            ],
            [
             0.8888888888888888,
             "#fdca26"
            ],
            [
             1,
             "#f0f921"
            ]
           ],
           "sequentialminus": [
            [
             0,
             "#0d0887"
            ],
            [
             0.1111111111111111,
             "#46039f"
            ],
            [
             0.2222222222222222,
             "#7201a8"
            ],
            [
             0.3333333333333333,
             "#9c179e"
            ],
            [
             0.4444444444444444,
             "#bd3786"
            ],
            [
             0.5555555555555556,
             "#d8576b"
            ],
            [
             0.6666666666666666,
             "#ed7953"
            ],
            [
             0.7777777777777778,
             "#fb9f3a"
            ],
            [
             0.8888888888888888,
             "#fdca26"
            ],
            [
             1,
             "#f0f921"
            ]
           ]
          },
          "colorway": [
           "#636efa",
           "#EF553B",
           "#00cc96",
           "#ab63fa",
           "#FFA15A",
           "#19d3f3",
           "#FF6692",
           "#B6E880",
           "#FF97FF",
           "#FECB52"
          ],
          "font": {
           "color": "#2a3f5f"
          },
          "geo": {
           "bgcolor": "white",
           "lakecolor": "white",
           "landcolor": "#E5ECF6",
           "showlakes": true,
           "showland": true,
           "subunitcolor": "white"
          },
          "hoverlabel": {
           "align": "left"
          },
          "hovermode": "closest",
          "mapbox": {
           "style": "light"
          },
          "paper_bgcolor": "white",
          "plot_bgcolor": "#E5ECF6",
          "polar": {
           "angularaxis": {
            "gridcolor": "white",
            "linecolor": "white",
            "ticks": ""
           },
           "bgcolor": "#E5ECF6",
           "radialaxis": {
            "gridcolor": "white",
            "linecolor": "white",
            "ticks": ""
           }
          },
          "scene": {
           "xaxis": {
            "backgroundcolor": "#E5ECF6",
            "gridcolor": "white",
            "gridwidth": 2,
            "linecolor": "white",
            "showbackground": true,
            "ticks": "",
            "zerolinecolor": "white"
           },
           "yaxis": {
            "backgroundcolor": "#E5ECF6",
            "gridcolor": "white",
            "gridwidth": 2,
            "linecolor": "white",
            "showbackground": true,
            "ticks": "",
            "zerolinecolor": "white"
           },
           "zaxis": {
            "backgroundcolor": "#E5ECF6",
            "gridcolor": "white",
            "gridwidth": 2,
            "linecolor": "white",
            "showbackground": true,
            "ticks": "",
            "zerolinecolor": "white"
           }
          },
          "shapedefaults": {
           "line": {
            "color": "#2a3f5f"
           }
          },
          "ternary": {
           "aaxis": {
            "gridcolor": "white",
            "linecolor": "white",
            "ticks": ""
           },
           "baxis": {
            "gridcolor": "white",
            "linecolor": "white",
            "ticks": ""
           },
           "bgcolor": "#E5ECF6",
           "caxis": {
            "gridcolor": "white",
            "linecolor": "white",
            "ticks": ""
           }
          },
          "title": {
           "x": 0.05
          },
          "xaxis": {
           "automargin": true,
           "gridcolor": "white",
           "linecolor": "white",
           "ticks": "",
           "title": {
            "standoff": 15
           },
           "zerolinecolor": "white",
           "zerolinewidth": 2
          },
          "yaxis": {
           "automargin": true,
           "gridcolor": "white",
           "linecolor": "white",
           "ticks": "",
           "title": {
            "standoff": 15
           },
           "zerolinecolor": "white",
           "zerolinewidth": 2
          }
         }
        },
        "title": {
         "text": "R2: 0.06"
        },
        "xaxis": {
         "anchor": "y",
         "domain": [
          0,
          1
         ],
         "title": {
          "text": "Revenue"
         }
        },
        "yaxis": {
         "anchor": "x",
         "domain": [
          0,
          1
         ],
         "title": {
          "text": "Vote Average"
         }
        }
       }
      }
     },
     "metadata": {},
     "output_type": "display_data"
    }
   ],
   "source": [
    "fig = px.scatter(top100, x=\"Revenue\", y=\"Vote Average\", trendline=\"ols\",hover_data=[\"Title\"])\n",
    "r2 = px.get_trendline_results(fig).px_fit_results.iloc[0].rsquared\n",
    "fig.update_layout(\n",
    "    title_text=f'R2: ' + \"{:.2f}\".format(r2), \n",
    ")\n",
    "fig.show()"
   ]
  },
  {
   "cell_type": "markdown",
   "metadata": {},
   "source": [
    "Correlación Popularity y Vote Average, no parece que exista o es muy débil. (R2 = 0.10)"
   ]
  },
  {
   "cell_type": "code",
   "execution_count": 32,
   "metadata": {},
   "outputs": [
    {
     "data": {
      "application/vnd.plotly.v1+json": {
       "config": {
        "plotlyServerURL": "https://plot.ly"
       },
       "data": [
        {
         "customdata": [
          [
           "Avatar"
          ],
          [
           "Titanic"
          ],
          [
           "The Lord of the Rings: The Return of the King"
          ],
          [
           "Pirates of the Caribbean: Dead Man's Chest"
          ],
          [
           "The Dark Knight"
          ],
          [
           "Harry Potter and the Philosopher's Stone"
          ],
          [
           "Pirates of the Caribbean: At World's End"
          ],
          [
           "Finding Nemo"
          ],
          [
           "Harry Potter and the Order of the Phoenix"
          ],
          [
           "Harry Potter and the Half-Blood Prince"
          ],
          [
           "The Lord of the Rings: The Two Towers"
          ],
          [
           "Star Wars: Episode I - The Phantom Menace"
          ],
          [
           "Jurassic Park"
          ],
          [
           "Shrek 2"
          ],
          [
           "Harry Potter and the Goblet of Fire"
          ],
          [
           "Spider-Man 3"
          ],
          [
           "Ice Age: Dawn of the Dinosaurs"
          ],
          [
           "Harry Potter and the Chamber of Secrets"
          ],
          [
           "The Lord of the Rings: The Fellowship of the Ring"
          ],
          [
           "Star Wars: Episode III - Revenge of the Sith"
          ],
          [
           "Transformers: Revenge of the Fallen"
          ],
          [
           "Spider-Man"
          ],
          [
           "Independence Day"
          ],
          [
           "Shrek the Third"
          ],
          [
           "Harry Potter and the Prisoner of Azkaban"
          ],
          [
           "The Lion King"
          ],
          [
           "Indiana Jones and the Kingdom of the Crystal Skull"
          ],
          [
           "Spider-Man 2"
          ],
          [
           2012
          ],
          [
           "The Da Vinci Code"
          ],
          [
           "The Chronicles of Narnia: The Lion, the Witch and the Wardrobe"
          ],
          [
           "The Matrix Reloaded"
          ],
          [
           "Up"
          ],
          [
           "The Twilight Saga: New Moon"
          ],
          [
           "Transformers"
          ],
          [
           "Forrest Gump"
          ],
          [
           "The Sixth Sense"
          ],
          [
           "Ice Age: The Meltdown"
          ],
          [
           "Pirates of the Caribbean: The Curse of the Black Pearl"
          ],
          [
           "Star Wars: Episode II - Attack of the Clones"
          ],
          [
           "Kung Fu Panda"
          ],
          [
           "The Incredibles"
          ],
          [
           "Hancock"
          ],
          [
           "Ratatouille"
          ],
          [
           "Mamma Mia!"
          ],
          [
           "Madagascar: Escape 2 Africa"
          ],
          [
           "Casino Royale"
          ],
          [
           "War of the Worlds"
          ],
          [
           "Men in Black"
          ],
          [
           "Quantum of Solace"
          ],
          [
           "I Am Legend"
          ],
          [
           "Iron Man"
          ],
          [
           "Night at the Museum"
          ],
          [
           "Monsters, Inc."
          ],
          [
           "Armageddon"
          ],
          [
           "King Kong"
          ],
          [
           "Mission: Impossible II"
          ],
          [
           "The Day After Tomorrow"
          ],
          [
           "Madagascar"
          ],
          [
           "The Simpsons Movie"
          ],
          [
           "Sherlock Holmes"
          ],
          [
           "WALL¬∑E"
          ],
          [
           "Terminator 2: Judgment Day"
          ],
          [
           "Meet the Fockers"
          ],
          [
           "Troy"
          ],
          [
           "Toy Story 2"
          ],
          [
           "Twister"
          ],
          [
           "Bruce Almighty"
          ],
          [
           "Shrek"
          ],
          [
           "Saving Private Ryan"
          ],
          [
           "Mr. & Mrs. Smith"
          ],
          [
           "Charlie and the Chocolate Factory"
          ],
          [
           "Indiana Jones and the Last Crusade"
          ],
          [
           "The Matrix"
          ],
          [
           "Cars"
          ],
          [
           "X-Men: The Last Stand"
          ],
          [
           "The Hangover"
          ],
          [
           "Mission: Impossible"
          ],
          [
           "Gladiator"
          ],
          [
           "National Treasure: Book of Secrets"
          ],
          [
           "The Last Samurai"
          ],
          [
           "Ocean's Eleven"
          ],
          [
           "Pearl Harbor"
          ],
          [
           "Tarzan"
          ],
          [
           "Alvin and the Chipmunks: The Squeakquel"
          ],
          [
           "The Bourne Ultimatum"
          ],
          [
           "Men in Black II"
          ],
          [
           "Terminator 3: Rise of the Machines"
          ],
          [
           "The Mummy Returns"
          ],
          [
           "Die Another Day"
          ],
          [
           "Cast Away"
          ],
          [
           "The Matrix Revolutions"
          ],
          [
           300
          ],
          [
           "The Chronicles of Narnia: Prince Caspian"
          ],
          [
           "The Mummy"
          ],
          [
           "Sex and the City"
          ],
          [
           "Night at the Museum: Battle of the Smithsonian"
          ],
          [
           "Batman"
          ],
          [
           "Signs"
          ],
          [
           "X2"
          ]
         ],
         "hovertemplate": "Popularity=%{x}<br>Vote Average=%{y}<br>Title=%{customdata[0]}<extra></extra>",
         "legendgroup": "",
         "marker": {
          "color": "#636efa",
          "symbol": "circle"
         },
         "mode": "markers",
         "name": "",
         "orientation": "v",
         "showlegend": false,
         "type": "scatter",
         "x": [
          185070892,
          2688907,
          29324358,
          29455314,
          123167259,
          38187238,
          31363664,
          25497794,
          213643,
          19083723,
          29423537,
          15649091,
          8863776,
          1622986,
          24903058,
          27614265,
          12980624,
          29741452,
          32070725,
          13165421,
          4351756,
          29413341,
          17634197,
          14072479,
          28460276,
          21605761,
          12577266,
          10834506,
          16698628,
          18566706,
          1813542,
          16229317,
          19330884,
          30121292,
          5587707,
          48307194,
          18449169,
          16646029,
          47326665,
          14072511,
          16897541,
          22220214,
          11017324,
          2050803,
          10534437,
          12668733,
          23065078,
          19929377,
          15781024,
          1367812,
          11379355,
          22073099,
          16661966,
          26419962,
          13235112,
          19761164,
          1897178,
          15049695,
          16136217,
          14302911,
          1568604,
          16088366,
          22661695,
          11876386,
          15387275,
          17547693,
          8739144,
          15947524,
          17987728,
          21758054,
          15724373,
          22038405,
          14788987,
          33366332,
          18907948,
          867943,
          23947351,
          15793477,
          23186667,
          12854373,
          19582325,
          12114932,
          11419388,
          12453452,
          9909961,
          18173269,
          16775716,
          20818907,
          16945657,
          12996474,
          21296343,
          15368205,
          18108408,
          12490891,
          23984065,
          9170332,
          15417181,
          1910673,
          11211568,
          913096
         ],
         "xaxis": "x",
         "y": [
          7.2,
          7.5,
          8.1,
          7,
          8.3,
          7.5,
          6.9,
          7.6,
          7.4,
          7.4,
          8,
          6.4,
          7.6,
          6.7,
          7.5,
          5.9,
          6.5,
          7.4,
          8,
          7.1,
          6,
          6.8,
          6.7,
          6,
          7.7,
          8,
          5.7,
          6.7,
          5.6,
          6.5,
          6.7,
          6.7,
          7.8,
          5.6,
          6.6,
          8.2,
          7.7,
          6.5,
          7.5,
          6.4,
          6.9,
          7.4,
          6.2,
          7.5,
          6.4,
          6.2,
          7.3,
          6.2,
          6.9,
          6.1,
          6.9,
          7.4,
          6.4,
          7.5,
          6.5,
          6.6,
          5.9,
          6.2,
          6.6,
          6.9,
          7,
          7.8,
          7.7,
          6.1,
          6.9,
          7.3,
          6.1,
          6.4,
          7.3,
          7.9,
          6.5,
          6.7,
          7.6,
          7.9,
          6.6,
          6.3,
          7.2,
          6.7,
          7.9,
          6.1,
          7.3,
          7.2,
          6.6,
          7.1,
          5.3,
          7.3,
          6.1,
          5.9,
          6,
          5.8,
          7.5,
          6.4,
          7,
          6.3,
          6.6,
          6,
          5.9,
          7,
          6.4,
          6.8
         ],
         "yaxis": "y"
        },
        {
         "hovertemplate": "<b>OLS trendline</b><br>Vote Average = 9.95978e-09 * Popularity + 6.66212<br>R<sup>2</sup>=0.100569<br><br>Popularity=%{x}<br>Vote Average=%{y} <b>(trend)</b><extra></extra>",
         "legendgroup": "",
         "marker": {
          "color": "#636efa",
          "symbol": "circle"
         },
         "mode": "lines",
         "name": "",
         "showlegend": false,
         "type": "scatter",
         "x": [
          213643,
          867943,
          913096,
          1367812,
          1568604,
          1622986,
          1813542,
          1897178,
          1910673,
          2050803,
          2688907,
          4351756,
          5587707,
          8739144,
          8863776,
          9170332,
          9909961,
          10534437,
          10834506,
          11017324,
          11211568,
          11379355,
          11419388,
          11876386,
          12114932,
          12453452,
          12490891,
          12577266,
          12668733,
          12854373,
          12980624,
          12996474,
          13165421,
          13235112,
          14072479,
          14072511,
          14302911,
          14788987,
          15049695,
          15368205,
          15387275,
          15417181,
          15649091,
          15724373,
          15781024,
          15793477,
          15947524,
          16088366,
          16136217,
          16229317,
          16646029,
          16661966,
          16698628,
          16775716,
          16897541,
          16945657,
          17547693,
          17634197,
          17987728,
          18108408,
          18173269,
          18449169,
          18566706,
          18907948,
          19083723,
          19330884,
          19582325,
          19761164,
          19929377,
          20818907,
          21296343,
          21605761,
          21758054,
          22038405,
          22073099,
          22220214,
          22661695,
          23065078,
          23186667,
          23947351,
          23984065,
          24903058,
          25497794,
          26419962,
          27614265,
          28460276,
          29324358,
          29413341,
          29423537,
          29455314,
          29741452,
          30121292,
          31363664,
          32070725,
          33366332,
          38187238,
          47326665,
          48307194,
          123167259,
          185070892
         ],
         "xaxis": "x",
         "y": [
          6.664249390381297,
          6.670766073681195,
          6.671215787575494,
          6.675744658373899,
          6.67774450228824,
          6.678286134981523,
          6.680184030599581,
          6.681017026663268,
          6.6811514338788145,
          6.68254709768871,
          6.688902472410394,
          6.705464080707126,
          6.717773879333433,
          6.7491614949051595,
          6.750402802062477,
          6.7534560320268415,
          6.760822573296015,
          6.767042216151566,
          6.770030837030546,
          6.771851663879883,
          6.773786291162331,
          6.77545741257581,
          6.775856132402411,
          6.780407731416147,
          6.782783596821094,
          6.786155181156539,
          6.786528065316809,
          6.7873883412147595,
          6.7882993323066,
          6.790148265651845,
          6.791405697691116,
          6.791563560185849,
          6.793246234942791,
          6.79394034189045,
          6.802280332024618,
          6.802280650737541,
          6.804575383783997,
          6.809416593247059,
          6.812013187270825,
          6.815185476431531,
          6.815375409414153,
          6.815673266560365,
          6.817983038872881,
          6.818732830944076,
          6.819297062375564,
          6.819421091501551,
          6.820955365553667,
          6.822358120726102,
          6.822834706103732,
          6.823761961514432,
          6.827912320877518,
          6.82807104987301,
          6.828436195285116,
          6.8292039747169095,
          6.830417324775002,
          6.830896549494026,
          6.83689269491224,
          6.837754255621662,
          6.841275346197386,
          6.842477292308699,
          6.843123293524524,
          6.84587119650854,
          6.847041839034935,
          6.850440533888403,
          6.852191214015316,
          6.854652882915035,
          6.857157179668221,
          6.858938376557523,
          6.860613740836793,
          6.869473262914981,
          6.8742284198888,
          6.877310154740226,
          6.878826959340243,
          6.881619193299909,
          6.881964737867243,
          6.883429970732388,
          6.8878270238577475,
          6.891844629328575,
          6.89305562887886,
          6.900631873291667,
          6.900997536612273,
          6.910150503654643,
          6.916073942687271,
          6.925258532027482,
          6.93715352578435,
          6.945579608246874,
          6.954185673872952,
          6.955071924874136,
          6.955173474779264,
          6.955489966671701,
          6.9583398378715575,
          6.962122960268979,
          6.974496710635265,
          6.981538881826935,
          6.994442841020165,
          7.042457998624594,
          7.133484670337168,
          7.143250522330696,
          7.888840214237739,
          8.50538670877253
         ],
         "yaxis": "y"
        }
       ],
       "layout": {
        "legend": {
         "tracegroupgap": 0
        },
        "margin": {
         "t": 60
        },
        "template": {
         "data": {
          "bar": [
           {
            "error_x": {
             "color": "#2a3f5f"
            },
            "error_y": {
             "color": "#2a3f5f"
            },
            "marker": {
             "line": {
              "color": "#E5ECF6",
              "width": 0.5
             },
             "pattern": {
              "fillmode": "overlay",
              "size": 10,
              "solidity": 0.2
             }
            },
            "type": "bar"
           }
          ],
          "barpolar": [
           {
            "marker": {
             "line": {
              "color": "#E5ECF6",
              "width": 0.5
             },
             "pattern": {
              "fillmode": "overlay",
              "size": 10,
              "solidity": 0.2
             }
            },
            "type": "barpolar"
           }
          ],
          "carpet": [
           {
            "aaxis": {
             "endlinecolor": "#2a3f5f",
             "gridcolor": "white",
             "linecolor": "white",
             "minorgridcolor": "white",
             "startlinecolor": "#2a3f5f"
            },
            "baxis": {
             "endlinecolor": "#2a3f5f",
             "gridcolor": "white",
             "linecolor": "white",
             "minorgridcolor": "white",
             "startlinecolor": "#2a3f5f"
            },
            "type": "carpet"
           }
          ],
          "choropleth": [
           {
            "colorbar": {
             "outlinewidth": 0,
             "ticks": ""
            },
            "type": "choropleth"
           }
          ],
          "contour": [
           {
            "colorbar": {
             "outlinewidth": 0,
             "ticks": ""
            },
            "colorscale": [
             [
              0,
              "#0d0887"
             ],
             [
              0.1111111111111111,
              "#46039f"
             ],
             [
              0.2222222222222222,
              "#7201a8"
             ],
             [
              0.3333333333333333,
              "#9c179e"
             ],
             [
              0.4444444444444444,
              "#bd3786"
             ],
             [
              0.5555555555555556,
              "#d8576b"
             ],
             [
              0.6666666666666666,
              "#ed7953"
             ],
             [
              0.7777777777777778,
              "#fb9f3a"
             ],
             [
              0.8888888888888888,
              "#fdca26"
             ],
             [
              1,
              "#f0f921"
             ]
            ],
            "type": "contour"
           }
          ],
          "contourcarpet": [
           {
            "colorbar": {
             "outlinewidth": 0,
             "ticks": ""
            },
            "type": "contourcarpet"
           }
          ],
          "heatmap": [
           {
            "colorbar": {
             "outlinewidth": 0,
             "ticks": ""
            },
            "colorscale": [
             [
              0,
              "#0d0887"
             ],
             [
              0.1111111111111111,
              "#46039f"
             ],
             [
              0.2222222222222222,
              "#7201a8"
             ],
             [
              0.3333333333333333,
              "#9c179e"
             ],
             [
              0.4444444444444444,
              "#bd3786"
             ],
             [
              0.5555555555555556,
              "#d8576b"
             ],
             [
              0.6666666666666666,
              "#ed7953"
             ],
             [
              0.7777777777777778,
              "#fb9f3a"
             ],
             [
              0.8888888888888888,
              "#fdca26"
             ],
             [
              1,
              "#f0f921"
             ]
            ],
            "type": "heatmap"
           }
          ],
          "heatmapgl": [
           {
            "colorbar": {
             "outlinewidth": 0,
             "ticks": ""
            },
            "colorscale": [
             [
              0,
              "#0d0887"
             ],
             [
              0.1111111111111111,
              "#46039f"
             ],
             [
              0.2222222222222222,
              "#7201a8"
             ],
             [
              0.3333333333333333,
              "#9c179e"
             ],
             [
              0.4444444444444444,
              "#bd3786"
             ],
             [
              0.5555555555555556,
              "#d8576b"
             ],
             [
              0.6666666666666666,
              "#ed7953"
             ],
             [
              0.7777777777777778,
              "#fb9f3a"
             ],
             [
              0.8888888888888888,
              "#fdca26"
             ],
             [
              1,
              "#f0f921"
             ]
            ],
            "type": "heatmapgl"
           }
          ],
          "histogram": [
           {
            "marker": {
             "pattern": {
              "fillmode": "overlay",
              "size": 10,
              "solidity": 0.2
             }
            },
            "type": "histogram"
           }
          ],
          "histogram2d": [
           {
            "colorbar": {
             "outlinewidth": 0,
             "ticks": ""
            },
            "colorscale": [
             [
              0,
              "#0d0887"
             ],
             [
              0.1111111111111111,
              "#46039f"
             ],
             [
              0.2222222222222222,
              "#7201a8"
             ],
             [
              0.3333333333333333,
              "#9c179e"
             ],
             [
              0.4444444444444444,
              "#bd3786"
             ],
             [
              0.5555555555555556,
              "#d8576b"
             ],
             [
              0.6666666666666666,
              "#ed7953"
             ],
             [
              0.7777777777777778,
              "#fb9f3a"
             ],
             [
              0.8888888888888888,
              "#fdca26"
             ],
             [
              1,
              "#f0f921"
             ]
            ],
            "type": "histogram2d"
           }
          ],
          "histogram2dcontour": [
           {
            "colorbar": {
             "outlinewidth": 0,
             "ticks": ""
            },
            "colorscale": [
             [
              0,
              "#0d0887"
             ],
             [
              0.1111111111111111,
              "#46039f"
             ],
             [
              0.2222222222222222,
              "#7201a8"
             ],
             [
              0.3333333333333333,
              "#9c179e"
             ],
             [
              0.4444444444444444,
              "#bd3786"
             ],
             [
              0.5555555555555556,
              "#d8576b"
             ],
             [
              0.6666666666666666,
              "#ed7953"
             ],
             [
              0.7777777777777778,
              "#fb9f3a"
             ],
             [
              0.8888888888888888,
              "#fdca26"
             ],
             [
              1,
              "#f0f921"
             ]
            ],
            "type": "histogram2dcontour"
           }
          ],
          "mesh3d": [
           {
            "colorbar": {
             "outlinewidth": 0,
             "ticks": ""
            },
            "type": "mesh3d"
           }
          ],
          "parcoords": [
           {
            "line": {
             "colorbar": {
              "outlinewidth": 0,
              "ticks": ""
             }
            },
            "type": "parcoords"
           }
          ],
          "pie": [
           {
            "automargin": true,
            "type": "pie"
           }
          ],
          "scatter": [
           {
            "fillpattern": {
             "fillmode": "overlay",
             "size": 10,
             "solidity": 0.2
            },
            "type": "scatter"
           }
          ],
          "scatter3d": [
           {
            "line": {
             "colorbar": {
              "outlinewidth": 0,
              "ticks": ""
             }
            },
            "marker": {
             "colorbar": {
              "outlinewidth": 0,
              "ticks": ""
             }
            },
            "type": "scatter3d"
           }
          ],
          "scattercarpet": [
           {
            "marker": {
             "colorbar": {
              "outlinewidth": 0,
              "ticks": ""
             }
            },
            "type": "scattercarpet"
           }
          ],
          "scattergeo": [
           {
            "marker": {
             "colorbar": {
              "outlinewidth": 0,
              "ticks": ""
             }
            },
            "type": "scattergeo"
           }
          ],
          "scattergl": [
           {
            "marker": {
             "colorbar": {
              "outlinewidth": 0,
              "ticks": ""
             }
            },
            "type": "scattergl"
           }
          ],
          "scattermapbox": [
           {
            "marker": {
             "colorbar": {
              "outlinewidth": 0,
              "ticks": ""
             }
            },
            "type": "scattermapbox"
           }
          ],
          "scatterpolar": [
           {
            "marker": {
             "colorbar": {
              "outlinewidth": 0,
              "ticks": ""
             }
            },
            "type": "scatterpolar"
           }
          ],
          "scatterpolargl": [
           {
            "marker": {
             "colorbar": {
              "outlinewidth": 0,
              "ticks": ""
             }
            },
            "type": "scatterpolargl"
           }
          ],
          "scatterternary": [
           {
            "marker": {
             "colorbar": {
              "outlinewidth": 0,
              "ticks": ""
             }
            },
            "type": "scatterternary"
           }
          ],
          "surface": [
           {
            "colorbar": {
             "outlinewidth": 0,
             "ticks": ""
            },
            "colorscale": [
             [
              0,
              "#0d0887"
             ],
             [
              0.1111111111111111,
              "#46039f"
             ],
             [
              0.2222222222222222,
              "#7201a8"
             ],
             [
              0.3333333333333333,
              "#9c179e"
             ],
             [
              0.4444444444444444,
              "#bd3786"
             ],
             [
              0.5555555555555556,
              "#d8576b"
             ],
             [
              0.6666666666666666,
              "#ed7953"
             ],
             [
              0.7777777777777778,
              "#fb9f3a"
             ],
             [
              0.8888888888888888,
              "#fdca26"
             ],
             [
              1,
              "#f0f921"
             ]
            ],
            "type": "surface"
           }
          ],
          "table": [
           {
            "cells": {
             "fill": {
              "color": "#EBF0F8"
             },
             "line": {
              "color": "white"
             }
            },
            "header": {
             "fill": {
              "color": "#C8D4E3"
             },
             "line": {
              "color": "white"
             }
            },
            "type": "table"
           }
          ]
         },
         "layout": {
          "annotationdefaults": {
           "arrowcolor": "#2a3f5f",
           "arrowhead": 0,
           "arrowwidth": 1
          },
          "autotypenumbers": "strict",
          "coloraxis": {
           "colorbar": {
            "outlinewidth": 0,
            "ticks": ""
           }
          },
          "colorscale": {
           "diverging": [
            [
             0,
             "#8e0152"
            ],
            [
             0.1,
             "#c51b7d"
            ],
            [
             0.2,
             "#de77ae"
            ],
            [
             0.3,
             "#f1b6da"
            ],
            [
             0.4,
             "#fde0ef"
            ],
            [
             0.5,
             "#f7f7f7"
            ],
            [
             0.6,
             "#e6f5d0"
            ],
            [
             0.7,
             "#b8e186"
            ],
            [
             0.8,
             "#7fbc41"
            ],
            [
             0.9,
             "#4d9221"
            ],
            [
             1,
             "#276419"
            ]
           ],
           "sequential": [
            [
             0,
             "#0d0887"
            ],
            [
             0.1111111111111111,
             "#46039f"
            ],
            [
             0.2222222222222222,
             "#7201a8"
            ],
            [
             0.3333333333333333,
             "#9c179e"
            ],
            [
             0.4444444444444444,
             "#bd3786"
            ],
            [
             0.5555555555555556,
             "#d8576b"
            ],
            [
             0.6666666666666666,
             "#ed7953"
            ],
            [
             0.7777777777777778,
             "#fb9f3a"
            ],
            [
             0.8888888888888888,
             "#fdca26"
            ],
            [
             1,
             "#f0f921"
            ]
           ],
           "sequentialminus": [
            [
             0,
             "#0d0887"
            ],
            [
             0.1111111111111111,
             "#46039f"
            ],
            [
             0.2222222222222222,
             "#7201a8"
            ],
            [
             0.3333333333333333,
             "#9c179e"
            ],
            [
             0.4444444444444444,
             "#bd3786"
            ],
            [
             0.5555555555555556,
             "#d8576b"
            ],
            [
             0.6666666666666666,
             "#ed7953"
            ],
            [
             0.7777777777777778,
             "#fb9f3a"
            ],
            [
             0.8888888888888888,
             "#fdca26"
            ],
            [
             1,
             "#f0f921"
            ]
           ]
          },
          "colorway": [
           "#636efa",
           "#EF553B",
           "#00cc96",
           "#ab63fa",
           "#FFA15A",
           "#19d3f3",
           "#FF6692",
           "#B6E880",
           "#FF97FF",
           "#FECB52"
          ],
          "font": {
           "color": "#2a3f5f"
          },
          "geo": {
           "bgcolor": "white",
           "lakecolor": "white",
           "landcolor": "#E5ECF6",
           "showlakes": true,
           "showland": true,
           "subunitcolor": "white"
          },
          "hoverlabel": {
           "align": "left"
          },
          "hovermode": "closest",
          "mapbox": {
           "style": "light"
          },
          "paper_bgcolor": "white",
          "plot_bgcolor": "#E5ECF6",
          "polar": {
           "angularaxis": {
            "gridcolor": "white",
            "linecolor": "white",
            "ticks": ""
           },
           "bgcolor": "#E5ECF6",
           "radialaxis": {
            "gridcolor": "white",
            "linecolor": "white",
            "ticks": ""
           }
          },
          "scene": {
           "xaxis": {
            "backgroundcolor": "#E5ECF6",
            "gridcolor": "white",
            "gridwidth": 2,
            "linecolor": "white",
            "showbackground": true,
            "ticks": "",
            "zerolinecolor": "white"
           },
           "yaxis": {
            "backgroundcolor": "#E5ECF6",
            "gridcolor": "white",
            "gridwidth": 2,
            "linecolor": "white",
            "showbackground": true,
            "ticks": "",
            "zerolinecolor": "white"
           },
           "zaxis": {
            "backgroundcolor": "#E5ECF6",
            "gridcolor": "white",
            "gridwidth": 2,
            "linecolor": "white",
            "showbackground": true,
            "ticks": "",
            "zerolinecolor": "white"
           }
          },
          "shapedefaults": {
           "line": {
            "color": "#2a3f5f"
           }
          },
          "ternary": {
           "aaxis": {
            "gridcolor": "white",
            "linecolor": "white",
            "ticks": ""
           },
           "baxis": {
            "gridcolor": "white",
            "linecolor": "white",
            "ticks": ""
           },
           "bgcolor": "#E5ECF6",
           "caxis": {
            "gridcolor": "white",
            "linecolor": "white",
            "ticks": ""
           }
          },
          "title": {
           "x": 0.05
          },
          "xaxis": {
           "automargin": true,
           "gridcolor": "white",
           "linecolor": "white",
           "ticks": "",
           "title": {
            "standoff": 15
           },
           "zerolinecolor": "white",
           "zerolinewidth": 2
          },
          "yaxis": {
           "automargin": true,
           "gridcolor": "white",
           "linecolor": "white",
           "ticks": "",
           "title": {
            "standoff": 15
           },
           "zerolinecolor": "white",
           "zerolinewidth": 2
          }
         }
        },
        "title": {
         "text": "R2: 0.10"
        },
        "xaxis": {
         "anchor": "y",
         "domain": [
          0,
          1
         ],
         "title": {
          "text": "Popularity"
         }
        },
        "yaxis": {
         "anchor": "x",
         "domain": [
          0,
          1
         ],
         "title": {
          "text": "Vote Average"
         }
        }
       }
      }
     },
     "metadata": {},
     "output_type": "display_data"
    }
   ],
   "source": [
    "fig = px.scatter(top100, x=\"Popularity\", y=\"Vote Average\", trendline=\"ols\",hover_data=[\"Title\"])\n",
    "r2 = px.get_trendline_results(fig).px_fit_results.iloc[0].rsquared\n",
    "fig.update_layout(\n",
    "    title_text=f'R2: ' + \"{:.2f}\".format(r2), \n",
    ")\n",
    "fig.show()"
   ]
  },
  {
   "cell_type": "markdown",
   "metadata": {},
   "source": [
    "# g)\n",
    "Analizad de forma visual el ROI (retorno de la inversión) de las películas estrenadas en \n",
    "1990."
   ]
  },
  {
   "cell_type": "markdown",
   "metadata": {},
   "source": [
    "### Preprocesado"
   ]
  },
  {
   "cell_type": "code",
   "execution_count": 3,
   "metadata": {},
   "outputs": [
    {
     "data": {
      "text/html": [
       "<div>\n",
       "<style scoped>\n",
       "    .dataframe tbody tr th:only-of-type {\n",
       "        vertical-align: middle;\n",
       "    }\n",
       "\n",
       "    .dataframe tbody tr th {\n",
       "        vertical-align: top;\n",
       "    }\n",
       "\n",
       "    .dataframe thead th {\n",
       "        text-align: right;\n",
       "    }\n",
       "</style>\n",
       "<table border=\"1\" class=\"dataframe\">\n",
       "  <thead>\n",
       "    <tr style=\"text-align: right;\">\n",
       "      <th></th>\n",
       "      <th>Title</th>\n",
       "      <th>Year</th>\n",
       "      <th>Genres</th>\n",
       "      <th>Runtime (Minutes)</th>\n",
       "      <th>Production Countries</th>\n",
       "      <th>Budget</th>\n",
       "      <th>Revenue</th>\n",
       "      <th>Popularity</th>\n",
       "      <th>Vote Average</th>\n",
       "    </tr>\n",
       "  </thead>\n",
       "  <tbody>\n",
       "    <tr>\n",
       "      <th>364</th>\n",
       "      <td>Die Hard 2</td>\n",
       "      <td>1990</td>\n",
       "      <td>Action, Thriller</td>\n",
       "      <td>124</td>\n",
       "      <td>United States of America</td>\n",
       "      <td>70000000</td>\n",
       "      <td>240031094</td>\n",
       "      <td>18785984.0</td>\n",
       "      <td>6.6</td>\n",
       "    </tr>\n",
       "    <tr>\n",
       "      <th>433</th>\n",
       "      <td>Total Recall</td>\n",
       "      <td>1990</td>\n",
       "      <td>Action, Adventure, Science Fiction</td>\n",
       "      <td>113</td>\n",
       "      <td>United States of America</td>\n",
       "      <td>65000000</td>\n",
       "      <td>261317921</td>\n",
       "      <td>12954444.0</td>\n",
       "      <td>7.1</td>\n",
       "    </tr>\n",
       "    <tr>\n",
       "      <th>475</th>\n",
       "      <td>Days of Thunder</td>\n",
       "      <td>1990</td>\n",
       "      <td>Adventure</td>\n",
       "      <td>107</td>\n",
       "      <td>United States of America</td>\n",
       "      <td>60000000</td>\n",
       "      <td>157920733</td>\n",
       "      <td>7046753.0</td>\n",
       "      <td>5.9</td>\n",
       "    </tr>\n",
       "    <tr>\n",
       "      <th>593</th>\n",
       "      <td>The Godfather: Part III</td>\n",
       "      <td>1990</td>\n",
       "      <td>Crime, Drama, Thriller</td>\n",
       "      <td>162</td>\n",
       "      <td>Italy, United States of America</td>\n",
       "      <td>54000000</td>\n",
       "      <td>136766062</td>\n",
       "      <td>17185349.0</td>\n",
       "      <td>7.1</td>\n",
       "    </tr>\n",
       "    <tr>\n",
       "      <th>640</th>\n",
       "      <td>Gremlins 2: The New Batch</td>\n",
       "      <td>1990</td>\n",
       "      <td>Comedy, Horror, Fantasy</td>\n",
       "      <td>106</td>\n",
       "      <td>United States of America</td>\n",
       "      <td>50000000</td>\n",
       "      <td>41482207</td>\n",
       "      <td>14383185.0</td>\n",
       "      <td>6.3</td>\n",
       "    </tr>\n",
       "    <tr>\n",
       "      <th>703</th>\n",
       "      <td>The Adventures of Ford Fairlane</td>\n",
       "      <td>1990</td>\n",
       "      <td>Action, Comedy, Thriller, Crime, Mystery</td>\n",
       "      <td>104</td>\n",
       "      <td>United States of America</td>\n",
       "      <td>49000000</td>\n",
       "      <td>20423389</td>\n",
       "      <td>3834949.0</td>\n",
       "      <td>6.2</td>\n",
       "    </tr>\n",
       "    <tr>\n",
       "      <th>719</th>\n",
       "      <td>Dick Tracy</td>\n",
       "      <td>1990</td>\n",
       "      <td>Adventure, Action, Comedy, Thriller, Crime</td>\n",
       "      <td>103</td>\n",
       "      <td>United States of America</td>\n",
       "      <td>47000000</td>\n",
       "      <td>103738726</td>\n",
       "      <td>8304776.0</td>\n",
       "      <td>5.9</td>\n",
       "    </tr>\n",
       "    <tr>\n",
       "      <th>720</th>\n",
       "      <td>The Bonfire of the Vanities</td>\n",
       "      <td>1990</td>\n",
       "      <td>Comedy, Drama</td>\n",
       "      <td>125</td>\n",
       "      <td>United States of America</td>\n",
       "      <td>47000000</td>\n",
       "      <td>15691192</td>\n",
       "      <td>5507082.0</td>\n",
       "      <td>5.3</td>\n",
       "    </tr>\n",
       "    <tr>\n",
       "      <th>794</th>\n",
       "      <td>Rocky V</td>\n",
       "      <td>1990</td>\n",
       "      <td>Drama</td>\n",
       "      <td>104</td>\n",
       "      <td>United States of America</td>\n",
       "      <td>42000000</td>\n",
       "      <td>119946358</td>\n",
       "      <td>14007329.0</td>\n",
       "      <td>5.3</td>\n",
       "    </tr>\n",
       "    <tr>\n",
       "      <th>822</th>\n",
       "      <td>Back to the Future Part III</td>\n",
       "      <td>1990</td>\n",
       "      <td>Adventure, Comedy, Family, Science Fiction</td>\n",
       "      <td>118</td>\n",
       "      <td>United States of America</td>\n",
       "      <td>40000000</td>\n",
       "      <td>244527583</td>\n",
       "      <td>13043999.0</td>\n",
       "      <td>7.1</td>\n",
       "    </tr>\n",
       "  </tbody>\n",
       "</table>\n",
       "</div>"
      ],
      "text/plain": [
       "                               Title  Year  \\\n",
       "364                       Die Hard 2  1990   \n",
       "433                     Total Recall  1990   \n",
       "475                  Days of Thunder  1990   \n",
       "593          The Godfather: Part III  1990   \n",
       "640        Gremlins 2: The New Batch  1990   \n",
       "703  The Adventures of Ford Fairlane  1990   \n",
       "719                       Dick Tracy  1990   \n",
       "720      The Bonfire of the Vanities  1990   \n",
       "794                          Rocky V  1990   \n",
       "822      Back to the Future Part III  1990   \n",
       "\n",
       "                                         Genres  Runtime (Minutes)  \\\n",
       "364                            Action, Thriller                124   \n",
       "433          Action, Adventure, Science Fiction                113   \n",
       "475                                   Adventure                107   \n",
       "593                      Crime, Drama, Thriller                162   \n",
       "640                     Comedy, Horror, Fantasy                106   \n",
       "703    Action, Comedy, Thriller, Crime, Mystery                104   \n",
       "719  Adventure, Action, Comedy, Thriller, Crime                103   \n",
       "720                               Comedy, Drama                125   \n",
       "794                                       Drama                104   \n",
       "822  Adventure, Comedy, Family, Science Fiction                118   \n",
       "\n",
       "                Production Countries    Budget    Revenue  Popularity  \\\n",
       "364         United States of America  70000000  240031094  18785984.0   \n",
       "433         United States of America  65000000  261317921  12954444.0   \n",
       "475         United States of America  60000000  157920733   7046753.0   \n",
       "593  Italy, United States of America  54000000  136766062  17185349.0   \n",
       "640         United States of America  50000000   41482207  14383185.0   \n",
       "703         United States of America  49000000   20423389   3834949.0   \n",
       "719         United States of America  47000000  103738726   8304776.0   \n",
       "720         United States of America  47000000   15691192   5507082.0   \n",
       "794         United States of America  42000000  119946358  14007329.0   \n",
       "822         United States of America  40000000  244527583  13043999.0   \n",
       "\n",
       "     Vote Average  \n",
       "364           6.6  \n",
       "433           7.1  \n",
       "475           5.9  \n",
       "593           7.1  \n",
       "640           6.3  \n",
       "703           6.2  \n",
       "719           5.9  \n",
       "720           5.3  \n",
       "794           5.3  \n",
       "822           7.1  "
      ]
     },
     "execution_count": 3,
     "metadata": {},
     "output_type": "execute_result"
    }
   ],
   "source": [
    "films1990 = df[df.Year == 1990]\n",
    "films1990.head(10)"
   ]
  },
  {
   "cell_type": "markdown",
   "metadata": {},
   "source": [
    "Calculamos el ROI."
   ]
  },
  {
   "cell_type": "code",
   "execution_count": 6,
   "metadata": {},
   "outputs": [],
   "source": [
    "pd.options.mode.chained_assignment = None \n",
    "films1990[\"ROI\"] = (films1990[\"Revenue\"] - films1990[\"Budget\"]) / films1990[\"Budget\"]"
   ]
  },
  {
   "cell_type": "markdown",
   "metadata": {},
   "source": [
    "### Visualización"
   ]
  },
  {
   "cell_type": "code",
   "execution_count": 10,
   "metadata": {},
   "outputs": [
    {
     "data": {
      "application/vnd.plotly.v1+json": {
       "config": {
        "plotlyServerURL": "https://plot.ly"
       },
       "data": [
        {
         "alignmentgroup": "True",
         "hovertemplate": "ROI=%{x}<br>Title=%{y}<extra></extra>",
         "legendgroup": "",
         "marker": {
          "color": "gray",
          "pattern": {
           "shape": ""
          }
         },
         "name": "",
         "offsetgroup": "",
         "orientation": "h",
         "showlegend": false,
         "textposition": "auto",
         "type": "bar",
         "x": [
          2.4290156285714284,
          3.0202757076923077,
          1.6320122166666666,
          1.5327048518518518,
          -0.17035586,
          -0.5831961428571428,
          1.2072069361702127,
          -0.6661448510638298,
          1.8558656666666666,
          5.113189575,
          -0.7689215,
          3.039973,
          0.2504669267881153,
          0.3051763714285714,
          0.6320090857142857
         ],
         "xaxis": "x",
         "y": [
          "Die Hard 2",
          "Total Recall",
          "Days of Thunder",
          "The Godfather: Part III",
          "Gremlins 2: The New Batch",
          "The Adventures of Ford Fairlane",
          "Dick Tracy",
          "The Bonfire of the Vanities",
          "Rocky V",
          "Back to the Future Part III",
          "Havana",
          "Another 48 Hrs.",
          "The Rescuers Down Under",
          "RoboCop 2",
          "Predator 2"
         ],
         "yaxis": "y"
        }
       ],
       "layout": {
        "barmode": "relative",
        "legend": {
         "tracegroupgap": 0
        },
        "margin": {
         "t": 60
        },
        "template": {
         "data": {
          "bar": [
           {
            "error_x": {
             "color": "#2a3f5f"
            },
            "error_y": {
             "color": "#2a3f5f"
            },
            "marker": {
             "line": {
              "color": "#E5ECF6",
              "width": 0.5
             },
             "pattern": {
              "fillmode": "overlay",
              "size": 10,
              "solidity": 0.2
             }
            },
            "type": "bar"
           }
          ],
          "barpolar": [
           {
            "marker": {
             "line": {
              "color": "#E5ECF6",
              "width": 0.5
             },
             "pattern": {
              "fillmode": "overlay",
              "size": 10,
              "solidity": 0.2
             }
            },
            "type": "barpolar"
           }
          ],
          "carpet": [
           {
            "aaxis": {
             "endlinecolor": "#2a3f5f",
             "gridcolor": "white",
             "linecolor": "white",
             "minorgridcolor": "white",
             "startlinecolor": "#2a3f5f"
            },
            "baxis": {
             "endlinecolor": "#2a3f5f",
             "gridcolor": "white",
             "linecolor": "white",
             "minorgridcolor": "white",
             "startlinecolor": "#2a3f5f"
            },
            "type": "carpet"
           }
          ],
          "choropleth": [
           {
            "colorbar": {
             "outlinewidth": 0,
             "ticks": ""
            },
            "type": "choropleth"
           }
          ],
          "contour": [
           {
            "colorbar": {
             "outlinewidth": 0,
             "ticks": ""
            },
            "colorscale": [
             [
              0,
              "#0d0887"
             ],
             [
              0.1111111111111111,
              "#46039f"
             ],
             [
              0.2222222222222222,
              "#7201a8"
             ],
             [
              0.3333333333333333,
              "#9c179e"
             ],
             [
              0.4444444444444444,
              "#bd3786"
             ],
             [
              0.5555555555555556,
              "#d8576b"
             ],
             [
              0.6666666666666666,
              "#ed7953"
             ],
             [
              0.7777777777777778,
              "#fb9f3a"
             ],
             [
              0.8888888888888888,
              "#fdca26"
             ],
             [
              1,
              "#f0f921"
             ]
            ],
            "type": "contour"
           }
          ],
          "contourcarpet": [
           {
            "colorbar": {
             "outlinewidth": 0,
             "ticks": ""
            },
            "type": "contourcarpet"
           }
          ],
          "heatmap": [
           {
            "colorbar": {
             "outlinewidth": 0,
             "ticks": ""
            },
            "colorscale": [
             [
              0,
              "#0d0887"
             ],
             [
              0.1111111111111111,
              "#46039f"
             ],
             [
              0.2222222222222222,
              "#7201a8"
             ],
             [
              0.3333333333333333,
              "#9c179e"
             ],
             [
              0.4444444444444444,
              "#bd3786"
             ],
             [
              0.5555555555555556,
              "#d8576b"
             ],
             [
              0.6666666666666666,
              "#ed7953"
             ],
             [
              0.7777777777777778,
              "#fb9f3a"
             ],
             [
              0.8888888888888888,
              "#fdca26"
             ],
             [
              1,
              "#f0f921"
             ]
            ],
            "type": "heatmap"
           }
          ],
          "heatmapgl": [
           {
            "colorbar": {
             "outlinewidth": 0,
             "ticks": ""
            },
            "colorscale": [
             [
              0,
              "#0d0887"
             ],
             [
              0.1111111111111111,
              "#46039f"
             ],
             [
              0.2222222222222222,
              "#7201a8"
             ],
             [
              0.3333333333333333,
              "#9c179e"
             ],
             [
              0.4444444444444444,
              "#bd3786"
             ],
             [
              0.5555555555555556,
              "#d8576b"
             ],
             [
              0.6666666666666666,
              "#ed7953"
             ],
             [
              0.7777777777777778,
              "#fb9f3a"
             ],
             [
              0.8888888888888888,
              "#fdca26"
             ],
             [
              1,
              "#f0f921"
             ]
            ],
            "type": "heatmapgl"
           }
          ],
          "histogram": [
           {
            "marker": {
             "pattern": {
              "fillmode": "overlay",
              "size": 10,
              "solidity": 0.2
             }
            },
            "type": "histogram"
           }
          ],
          "histogram2d": [
           {
            "colorbar": {
             "outlinewidth": 0,
             "ticks": ""
            },
            "colorscale": [
             [
              0,
              "#0d0887"
             ],
             [
              0.1111111111111111,
              "#46039f"
             ],
             [
              0.2222222222222222,
              "#7201a8"
             ],
             [
              0.3333333333333333,
              "#9c179e"
             ],
             [
              0.4444444444444444,
              "#bd3786"
             ],
             [
              0.5555555555555556,
              "#d8576b"
             ],
             [
              0.6666666666666666,
              "#ed7953"
             ],
             [
              0.7777777777777778,
              "#fb9f3a"
             ],
             [
              0.8888888888888888,
              "#fdca26"
             ],
             [
              1,
              "#f0f921"
             ]
            ],
            "type": "histogram2d"
           }
          ],
          "histogram2dcontour": [
           {
            "colorbar": {
             "outlinewidth": 0,
             "ticks": ""
            },
            "colorscale": [
             [
              0,
              "#0d0887"
             ],
             [
              0.1111111111111111,
              "#46039f"
             ],
             [
              0.2222222222222222,
              "#7201a8"
             ],
             [
              0.3333333333333333,
              "#9c179e"
             ],
             [
              0.4444444444444444,
              "#bd3786"
             ],
             [
              0.5555555555555556,
              "#d8576b"
             ],
             [
              0.6666666666666666,
              "#ed7953"
             ],
             [
              0.7777777777777778,
              "#fb9f3a"
             ],
             [
              0.8888888888888888,
              "#fdca26"
             ],
             [
              1,
              "#f0f921"
             ]
            ],
            "type": "histogram2dcontour"
           }
          ],
          "mesh3d": [
           {
            "colorbar": {
             "outlinewidth": 0,
             "ticks": ""
            },
            "type": "mesh3d"
           }
          ],
          "parcoords": [
           {
            "line": {
             "colorbar": {
              "outlinewidth": 0,
              "ticks": ""
             }
            },
            "type": "parcoords"
           }
          ],
          "pie": [
           {
            "automargin": true,
            "type": "pie"
           }
          ],
          "scatter": [
           {
            "fillpattern": {
             "fillmode": "overlay",
             "size": 10,
             "solidity": 0.2
            },
            "type": "scatter"
           }
          ],
          "scatter3d": [
           {
            "line": {
             "colorbar": {
              "outlinewidth": 0,
              "ticks": ""
             }
            },
            "marker": {
             "colorbar": {
              "outlinewidth": 0,
              "ticks": ""
             }
            },
            "type": "scatter3d"
           }
          ],
          "scattercarpet": [
           {
            "marker": {
             "colorbar": {
              "outlinewidth": 0,
              "ticks": ""
             }
            },
            "type": "scattercarpet"
           }
          ],
          "scattergeo": [
           {
            "marker": {
             "colorbar": {
              "outlinewidth": 0,
              "ticks": ""
             }
            },
            "type": "scattergeo"
           }
          ],
          "scattergl": [
           {
            "marker": {
             "colorbar": {
              "outlinewidth": 0,
              "ticks": ""
             }
            },
            "type": "scattergl"
           }
          ],
          "scattermapbox": [
           {
            "marker": {
             "colorbar": {
              "outlinewidth": 0,
              "ticks": ""
             }
            },
            "type": "scattermapbox"
           }
          ],
          "scatterpolar": [
           {
            "marker": {
             "colorbar": {
              "outlinewidth": 0,
              "ticks": ""
             }
            },
            "type": "scatterpolar"
           }
          ],
          "scatterpolargl": [
           {
            "marker": {
             "colorbar": {
              "outlinewidth": 0,
              "ticks": ""
             }
            },
            "type": "scatterpolargl"
           }
          ],
          "scatterternary": [
           {
            "marker": {
             "colorbar": {
              "outlinewidth": 0,
              "ticks": ""
             }
            },
            "type": "scatterternary"
           }
          ],
          "surface": [
           {
            "colorbar": {
             "outlinewidth": 0,
             "ticks": ""
            },
            "colorscale": [
             [
              0,
              "#0d0887"
             ],
             [
              0.1111111111111111,
              "#46039f"
             ],
             [
              0.2222222222222222,
              "#7201a8"
             ],
             [
              0.3333333333333333,
              "#9c179e"
             ],
             [
              0.4444444444444444,
              "#bd3786"
             ],
             [
              0.5555555555555556,
              "#d8576b"
             ],
             [
              0.6666666666666666,
              "#ed7953"
             ],
             [
              0.7777777777777778,
              "#fb9f3a"
             ],
             [
              0.8888888888888888,
              "#fdca26"
             ],
             [
              1,
              "#f0f921"
             ]
            ],
            "type": "surface"
           }
          ],
          "table": [
           {
            "cells": {
             "fill": {
              "color": "#EBF0F8"
             },
             "line": {
              "color": "white"
             }
            },
            "header": {
             "fill": {
              "color": "#C8D4E3"
             },
             "line": {
              "color": "white"
             }
            },
            "type": "table"
           }
          ]
         },
         "layout": {
          "annotationdefaults": {
           "arrowcolor": "#2a3f5f",
           "arrowhead": 0,
           "arrowwidth": 1
          },
          "autotypenumbers": "strict",
          "coloraxis": {
           "colorbar": {
            "outlinewidth": 0,
            "ticks": ""
           }
          },
          "colorscale": {
           "diverging": [
            [
             0,
             "#8e0152"
            ],
            [
             0.1,
             "#c51b7d"
            ],
            [
             0.2,
             "#de77ae"
            ],
            [
             0.3,
             "#f1b6da"
            ],
            [
             0.4,
             "#fde0ef"
            ],
            [
             0.5,
             "#f7f7f7"
            ],
            [
             0.6,
             "#e6f5d0"
            ],
            [
             0.7,
             "#b8e186"
            ],
            [
             0.8,
             "#7fbc41"
            ],
            [
             0.9,
             "#4d9221"
            ],
            [
             1,
             "#276419"
            ]
           ],
           "sequential": [
            [
             0,
             "#0d0887"
            ],
            [
             0.1111111111111111,
             "#46039f"
            ],
            [
             0.2222222222222222,
             "#7201a8"
            ],
            [
             0.3333333333333333,
             "#9c179e"
            ],
            [
             0.4444444444444444,
             "#bd3786"
            ],
            [
             0.5555555555555556,
             "#d8576b"
            ],
            [
             0.6666666666666666,
             "#ed7953"
            ],
            [
             0.7777777777777778,
             "#fb9f3a"
            ],
            [
             0.8888888888888888,
             "#fdca26"
            ],
            [
             1,
             "#f0f921"
            ]
           ],
           "sequentialminus": [
            [
             0,
             "#0d0887"
            ],
            [
             0.1111111111111111,
             "#46039f"
            ],
            [
             0.2222222222222222,
             "#7201a8"
            ],
            [
             0.3333333333333333,
             "#9c179e"
            ],
            [
             0.4444444444444444,
             "#bd3786"
            ],
            [
             0.5555555555555556,
             "#d8576b"
            ],
            [
             0.6666666666666666,
             "#ed7953"
            ],
            [
             0.7777777777777778,
             "#fb9f3a"
            ],
            [
             0.8888888888888888,
             "#fdca26"
            ],
            [
             1,
             "#f0f921"
            ]
           ]
          },
          "colorway": [
           "#636efa",
           "#EF553B",
           "#00cc96",
           "#ab63fa",
           "#FFA15A",
           "#19d3f3",
           "#FF6692",
           "#B6E880",
           "#FF97FF",
           "#FECB52"
          ],
          "font": {
           "color": "#2a3f5f"
          },
          "geo": {
           "bgcolor": "white",
           "lakecolor": "white",
           "landcolor": "#E5ECF6",
           "showlakes": true,
           "showland": true,
           "subunitcolor": "white"
          },
          "hoverlabel": {
           "align": "left"
          },
          "hovermode": "closest",
          "mapbox": {
           "style": "light"
          },
          "paper_bgcolor": "white",
          "plot_bgcolor": "#E5ECF6",
          "polar": {
           "angularaxis": {
            "gridcolor": "white",
            "linecolor": "white",
            "ticks": ""
           },
           "bgcolor": "#E5ECF6",
           "radialaxis": {
            "gridcolor": "white",
            "linecolor": "white",
            "ticks": ""
           }
          },
          "scene": {
           "xaxis": {
            "backgroundcolor": "#E5ECF6",
            "gridcolor": "white",
            "gridwidth": 2,
            "linecolor": "white",
            "showbackground": true,
            "ticks": "",
            "zerolinecolor": "white"
           },
           "yaxis": {
            "backgroundcolor": "#E5ECF6",
            "gridcolor": "white",
            "gridwidth": 2,
            "linecolor": "white",
            "showbackground": true,
            "ticks": "",
            "zerolinecolor": "white"
           },
           "zaxis": {
            "backgroundcolor": "#E5ECF6",
            "gridcolor": "white",
            "gridwidth": 2,
            "linecolor": "white",
            "showbackground": true,
            "ticks": "",
            "zerolinecolor": "white"
           }
          },
          "shapedefaults": {
           "line": {
            "color": "#2a3f5f"
           }
          },
          "ternary": {
           "aaxis": {
            "gridcolor": "white",
            "linecolor": "white",
            "ticks": ""
           },
           "baxis": {
            "gridcolor": "white",
            "linecolor": "white",
            "ticks": ""
           },
           "bgcolor": "#E5ECF6",
           "caxis": {
            "gridcolor": "white",
            "linecolor": "white",
            "ticks": ""
           }
          },
          "title": {
           "x": 0.05
          },
          "xaxis": {
           "automargin": true,
           "gridcolor": "white",
           "linecolor": "white",
           "ticks": "",
           "title": {
            "standoff": 15
           },
           "zerolinecolor": "white",
           "zerolinewidth": 2
          },
          "yaxis": {
           "automargin": true,
           "gridcolor": "white",
           "linecolor": "white",
           "ticks": "",
           "title": {
            "standoff": 15
           },
           "zerolinecolor": "white",
           "zerolinewidth": 2
          }
         }
        },
        "xaxis": {
         "anchor": "y",
         "domain": [
          0,
          1
         ],
         "title": {
          "text": "ROI"
         }
        },
        "yaxis": {
         "anchor": "x",
         "categoryorder": "total ascending",
         "domain": [
          0,
          1
         ],
         "title": {
          "text": "Title"
         }
        }
       }
      }
     },
     "metadata": {},
     "output_type": "display_data"
    }
   ],
   "source": [
    "fig = px.bar(films1990, x=\"ROI\", y=\"Title\", orientation='h',color_discrete_sequence=['gray'])\n",
    "fig.update_layout(yaxis={'categoryorder':'total ascending'})\n",
    "fig.show()"
   ]
  },
  {
   "cell_type": "markdown",
   "metadata": {},
   "source": [
    "# h)\n",
    "Describid  cómo  es  la  distribución  del  conjunto  total  de  películas  utilizando  como \n",
    "criterio el presupuesto de las mismas."
   ]
  },
  {
   "cell_type": "code",
   "execution_count": 5,
   "metadata": {},
   "outputs": [
    {
     "data": {
      "text/plain": [
       "<seaborn.axisgrid.FacetGrid at 0x1e746d1bf40>"
      ]
     },
     "execution_count": 5,
     "metadata": {},
     "output_type": "execute_result"
    },
    {
     "data": {
      "image/png": "[encoded data removed]",
      "text/plain": [
       "<Figure size 504x504 with 1 Axes>"
      ]
     },
     "metadata": {
      "needs_background": "light"
     },
     "output_type": "display_data"
    }
   ],
   "source": [
    "sns.displot(data=df, x=\"Budget\", kind=\"kde\",height=7)"
   ]
  },
  {
   "cell_type": "markdown",
   "metadata": {},
   "source": [
    "# i)\n",
    "En cada uno de los años del periodo 1995-2005, mostrad la relación cuantitativa que \n",
    "mantienen los géneros cinematográficos. \n"
   ]
  },
  {
   "cell_type": "markdown",
   "metadata": {},
   "source": [
    "### Preprocesado"
   ]
  },
  {
   "cell_type": "markdown",
   "metadata": {},
   "source": [
    "Filtramos por loa ños indicados."
   ]
  },
  {
   "cell_type": "code",
   "execution_count": 4,
   "metadata": {},
   "outputs": [
    {
     "data": {
      "text/plain": [
       "array(['1995', '1996', '1997', '1998', '1999', '2000', '2001', '2002',\n",
       "       '2003', '2004', '2005'], dtype=object)"
      ]
     },
     "execution_count": 4,
     "metadata": {},
     "output_type": "execute_result"
    }
   ],
   "source": [
    "genresR = df.copy()\n",
    "genresR = genresR[(genresR.Year > 1994) & (genresR.Year < 2006)]\n",
    "genresR[\"Year\"] = genresR[\"Year\"].astype(str)\n",
    "pd.unique(genresR[\"Year\"].sort_values())"
   ]
  },
  {
   "cell_type": "markdown",
   "metadata": {},
   "source": [
    "Simplificamos la columna de generos para quedarnos con el primero."
   ]
  },
  {
   "cell_type": "code",
   "execution_count": 5,
   "metadata": {},
   "outputs": [
    {
     "data": {
      "text/html": [
       "<div>\n",
       "<style scoped>\n",
       "    .dataframe tbody tr th:only-of-type {\n",
       "        vertical-align: middle;\n",
       "    }\n",
       "\n",
       "    .dataframe tbody tr th {\n",
       "        vertical-align: top;\n",
       "    }\n",
       "\n",
       "    .dataframe thead th {\n",
       "        text-align: right;\n",
       "    }\n",
       "</style>\n",
       "<table border=\"1\" class=\"dataframe\">\n",
       "  <thead>\n",
       "    <tr style=\"text-align: right;\">\n",
       "      <th></th>\n",
       "      <th>Title</th>\n",
       "      <th>Year</th>\n",
       "      <th>Genres</th>\n",
       "      <th>Runtime (Minutes)</th>\n",
       "      <th>Production Countries</th>\n",
       "      <th>Budget</th>\n",
       "      <th>Revenue</th>\n",
       "      <th>Popularity</th>\n",
       "      <th>Vote Average</th>\n",
       "    </tr>\n",
       "  </thead>\n",
       "  <tbody>\n",
       "    <tr>\n",
       "      <th>7</th>\n",
       "      <td>King Kong</td>\n",
       "      <td>2005</td>\n",
       "      <td>Adventure</td>\n",
       "      <td>187</td>\n",
       "      <td>New Zealand, United States of America, Germany</td>\n",
       "      <td>207000000</td>\n",
       "      <td>550000000</td>\n",
       "      <td>19761164.0</td>\n",
       "      <td>6.6</td>\n",
       "    </tr>\n",
       "    <tr>\n",
       "      <th>8</th>\n",
       "      <td>Titanic</td>\n",
       "      <td>1997</td>\n",
       "      <td>Drama</td>\n",
       "      <td>194</td>\n",
       "      <td>United States of America</td>\n",
       "      <td>200000000</td>\n",
       "      <td>1845034188</td>\n",
       "      <td>2688907.0</td>\n",
       "      <td>7.5</td>\n",
       "    </tr>\n",
       "    <tr>\n",
       "      <th>9</th>\n",
       "      <td>Terminator 3: Rise of the Machines</td>\n",
       "      <td>2003</td>\n",
       "      <td>Action</td>\n",
       "      <td>109</td>\n",
       "      <td>Germany, United Kingdom, United States of America</td>\n",
       "      <td>200000000</td>\n",
       "      <td>435000000</td>\n",
       "      <td>20818907.0</td>\n",
       "      <td>5.9</td>\n",
       "    </tr>\n",
       "    <tr>\n",
       "      <th>10</th>\n",
       "      <td>Spider-Man 2</td>\n",
       "      <td>2004</td>\n",
       "      <td>Action</td>\n",
       "      <td>127</td>\n",
       "      <td>United States of America</td>\n",
       "      <td>200000000</td>\n",
       "      <td>783766341</td>\n",
       "      <td>10834506.0</td>\n",
       "      <td>6.7</td>\n",
       "    </tr>\n",
       "    <tr>\n",
       "      <th>18</th>\n",
       "      <td>The Chronicles of Narnia: The Lion, the Witch ...</td>\n",
       "      <td>2005</td>\n",
       "      <td>Adventure</td>\n",
       "      <td>143</td>\n",
       "      <td>United Kingdom, United States of America</td>\n",
       "      <td>180000000</td>\n",
       "      <td>748806957</td>\n",
       "      <td>1813542.0</td>\n",
       "      <td>6.7</td>\n",
       "    </tr>\n",
       "    <tr>\n",
       "      <th>21</th>\n",
       "      <td>Waterworld</td>\n",
       "      <td>1995</td>\n",
       "      <td>Adventure</td>\n",
       "      <td>135</td>\n",
       "      <td>United States of America</td>\n",
       "      <td>175000000</td>\n",
       "      <td>264218220</td>\n",
       "      <td>16885184.0</td>\n",
       "      <td>5.9</td>\n",
       "    </tr>\n",
       "    <tr>\n",
       "      <th>22</th>\n",
       "      <td>Troy</td>\n",
       "      <td>2004</td>\n",
       "      <td>Adventure</td>\n",
       "      <td>163</td>\n",
       "      <td>United States of America, Malta, United Kingdom</td>\n",
       "      <td>175000000</td>\n",
       "      <td>497409852</td>\n",
       "      <td>15387275.0</td>\n",
       "      <td>6.9</td>\n",
       "    </tr>\n",
       "    <tr>\n",
       "      <th>27</th>\n",
       "      <td>Wild Wild West</td>\n",
       "      <td>1999</td>\n",
       "      <td>Action</td>\n",
       "      <td>106</td>\n",
       "      <td>United States of America</td>\n",
       "      <td>170000000</td>\n",
       "      <td>222104681</td>\n",
       "      <td>9887602.0</td>\n",
       "      <td>5.1</td>\n",
       "    </tr>\n",
       "    <tr>\n",
       "      <th>28</th>\n",
       "      <td>The Polar Express</td>\n",
       "      <td>2004</td>\n",
       "      <td>Adventure</td>\n",
       "      <td>100</td>\n",
       "      <td>United States of America</td>\n",
       "      <td>165000000</td>\n",
       "      <td>305875730</td>\n",
       "      <td>1427536.0</td>\n",
       "      <td>6.4</td>\n",
       "    </tr>\n",
       "    <tr>\n",
       "      <th>29</th>\n",
       "      <td>Speed 2: Cruise Control</td>\n",
       "      <td>1997</td>\n",
       "      <td>Action</td>\n",
       "      <td>121</td>\n",
       "      <td>United States of America</td>\n",
       "      <td>160000000</td>\n",
       "      <td>164508066</td>\n",
       "      <td>11268531.0</td>\n",
       "      <td>4.1</td>\n",
       "    </tr>\n",
       "  </tbody>\n",
       "</table>\n",
       "</div>"
      ],
      "text/plain": [
       "                                                Title  Year     Genres  \\\n",
       "7                                           King Kong  2005  Adventure   \n",
       "8                                             Titanic  1997      Drama   \n",
       "9                  Terminator 3: Rise of the Machines  2003     Action   \n",
       "10                                       Spider-Man 2  2004     Action   \n",
       "18  The Chronicles of Narnia: The Lion, the Witch ...  2005  Adventure   \n",
       "21                                         Waterworld  1995  Adventure   \n",
       "22                                               Troy  2004  Adventure   \n",
       "27                                     Wild Wild West  1999     Action   \n",
       "28                                  The Polar Express  2004  Adventure   \n",
       "29                            Speed 2: Cruise Control  1997     Action   \n",
       "\n",
       "    Runtime (Minutes)                               Production Countries  \\\n",
       "7                 187     New Zealand, United States of America, Germany   \n",
       "8                 194                           United States of America   \n",
       "9                 109  Germany, United Kingdom, United States of America   \n",
       "10                127                           United States of America   \n",
       "18                143           United Kingdom, United States of America   \n",
       "21                135                           United States of America   \n",
       "22                163    United States of America, Malta, United Kingdom   \n",
       "27                106                           United States of America   \n",
       "28                100                           United States of America   \n",
       "29                121                           United States of America   \n",
       "\n",
       "       Budget     Revenue  Popularity  Vote Average  \n",
       "7   207000000   550000000  19761164.0           6.6  \n",
       "8   200000000  1845034188   2688907.0           7.5  \n",
       "9   200000000   435000000  20818907.0           5.9  \n",
       "10  200000000   783766341  10834506.0           6.7  \n",
       "18  180000000   748806957   1813542.0           6.7  \n",
       "21  175000000   264218220  16885184.0           5.9  \n",
       "22  175000000   497409852  15387275.0           6.9  \n",
       "27  170000000   222104681   9887602.0           5.1  \n",
       "28  165000000   305875730   1427536.0           6.4  \n",
       "29  160000000   164508066  11268531.0           4.1  "
      ]
     },
     "execution_count": 5,
     "metadata": {},
     "output_type": "execute_result"
    }
   ],
   "source": [
    "pd.options.mode.chained_assignment = None \n",
    "genresR['Genres'] = genresR['Genres'].str.split(', ').str[0]\n",
    "genresR.head(10)"
   ]
  },
  {
   "cell_type": "markdown",
   "metadata": {},
   "source": [
    "Agrupamos por genero y año para extraer la información cuantitativa."
   ]
  },
  {
   "cell_type": "code",
   "execution_count": 6,
   "metadata": {},
   "outputs": [
    {
     "data": {
      "text/html": [
       "<div>\n",
       "<style scoped>\n",
       "    .dataframe tbody tr th:only-of-type {\n",
       "        vertical-align: middle;\n",
       "    }\n",
       "\n",
       "    .dataframe tbody tr th {\n",
       "        vertical-align: top;\n",
       "    }\n",
       "\n",
       "    .dataframe thead th {\n",
       "        text-align: right;\n",
       "    }\n",
       "</style>\n",
       "<table border=\"1\" class=\"dataframe\">\n",
       "  <thead>\n",
       "    <tr style=\"text-align: right;\">\n",
       "      <th></th>\n",
       "      <th>Genres</th>\n",
       "      <th>Year</th>\n",
       "      <th>Number of Films</th>\n",
       "    </tr>\n",
       "  </thead>\n",
       "  <tbody>\n",
       "    <tr>\n",
       "      <th>0</th>\n",
       "      <td>Action</td>\n",
       "      <td>1995</td>\n",
       "      <td>15</td>\n",
       "    </tr>\n",
       "    <tr>\n",
       "      <th>1</th>\n",
       "      <td>Crime</td>\n",
       "      <td>1995</td>\n",
       "      <td>1</td>\n",
       "    </tr>\n",
       "    <tr>\n",
       "      <th>2</th>\n",
       "      <td>Drama</td>\n",
       "      <td>1995</td>\n",
       "      <td>4</td>\n",
       "    </tr>\n",
       "    <tr>\n",
       "      <th>3</th>\n",
       "      <td>War</td>\n",
       "      <td>1995</td>\n",
       "      <td>1</td>\n",
       "    </tr>\n",
       "    <tr>\n",
       "      <th>4</th>\n",
       "      <td>Science Fiction</td>\n",
       "      <td>1995</td>\n",
       "      <td>2</td>\n",
       "    </tr>\n",
       "    <tr>\n",
       "      <th>5</th>\n",
       "      <td>Fantasy</td>\n",
       "      <td>1995</td>\n",
       "      <td>1</td>\n",
       "    </tr>\n",
       "    <tr>\n",
       "      <th>6</th>\n",
       "      <td>Adventure</td>\n",
       "      <td>1995</td>\n",
       "      <td>4</td>\n",
       "    </tr>\n",
       "    <tr>\n",
       "      <th>7</th>\n",
       "      <td>Comedy</td>\n",
       "      <td>1995</td>\n",
       "      <td>1</td>\n",
       "    </tr>\n",
       "    <tr>\n",
       "      <th>8</th>\n",
       "      <td>History</td>\n",
       "      <td>1995</td>\n",
       "      <td>1</td>\n",
       "    </tr>\n",
       "    <tr>\n",
       "      <th>9</th>\n",
       "      <td>Comedy</td>\n",
       "      <td>1996</td>\n",
       "      <td>7</td>\n",
       "    </tr>\n",
       "  </tbody>\n",
       "</table>\n",
       "</div>"
      ],
      "text/plain": [
       "            Genres  Year  Number of Films\n",
       "0           Action  1995               15\n",
       "1            Crime  1995                1\n",
       "2            Drama  1995                4\n",
       "3              War  1995                1\n",
       "4  Science Fiction  1995                2\n",
       "5          Fantasy  1995                1\n",
       "6        Adventure  1995                4\n",
       "7           Comedy  1995                1\n",
       "8          History  1995                1\n",
       "9           Comedy  1996                7"
      ]
     },
     "execution_count": 6,
     "metadata": {},
     "output_type": "execute_result"
    }
   ],
   "source": [
    "genresGroupedR = (genresR.groupby(by=['Genres','Year'])\n",
    "                    .agg({'Title':'count'})\n",
    "                    .sort_values(by='Year',ascending=True)\n",
    "                    .reset_index()\n",
    "                    .rename(columns={'Title':'Number of Films'})\n",
    ")\n",
    "genresGroupedR.head(10)"
   ]
  },
  {
   "cell_type": "markdown",
   "metadata": {},
   "source": [
    "### Visualización"
   ]
  },
  {
   "cell_type": "markdown",
   "metadata": {},
   "source": [
    "Asumiendo que sólo nos importa los géneros del ejercicio b:"
   ]
  },
  {
   "cell_type": "code",
   "execution_count": 16,
   "metadata": {},
   "outputs": [
    {
     "data": {
      "application/vnd.plotly.v1+json": {
       "config": {
        "plotlyServerURL": "https://plot.ly"
       },
       "data": [
        {
         "alignmentgroup": "True",
         "hovertemplate": "Year=1995<br>Genres=%{x}<br>Number of Films=%{y}<extra></extra>",
         "legendgroup": "",
         "marker": {
          "color": "#636efa",
          "pattern": {
           "shape": ""
          }
         },
         "name": "",
         "offsetgroup": "",
         "orientation": "v",
         "showlegend": false,
         "textposition": "auto",
         "type": "bar",
         "x": [
          "Action",
          "Drama",
          "Adventure",
          "Comedy"
         ],
         "xaxis": "x7",
         "y": [
          15,
          4,
          4,
          1
         ],
         "yaxis": "y7"
        },
        {
         "alignmentgroup": "True",
         "hovertemplate": "Year=1996<br>Genres=%{x}<br>Number of Films=%{y}<extra></extra>",
         "legendgroup": "",
         "marker": {
          "color": "#636efa",
          "pattern": {
           "shape": ""
          }
         },
         "name": "",
         "offsetgroup": "",
         "orientation": "v",
         "showlegend": false,
         "textposition": "auto",
         "type": "bar",
         "x": [
          "Comedy",
          "Action",
          "Adventure",
          "Drama"
         ],
         "xaxis": "x8",
         "y": [
          7,
          12,
          4,
          7
         ],
         "yaxis": "y8"
        },
        {
         "alignmentgroup": "True",
         "hovertemplate": "Year=1997<br>Genres=%{x}<br>Number of Films=%{y}<extra></extra>",
         "legendgroup": "",
         "marker": {
          "color": "#636efa",
          "pattern": {
           "shape": ""
          }
         },
         "name": "",
         "offsetgroup": "",
         "orientation": "v",
         "showlegend": false,
         "textposition": "auto",
         "type": "bar",
         "x": [
          "Comedy",
          "Drama",
          "Action",
          "Adventure"
         ],
         "xaxis": "x9",
         "y": [
          6,
          10,
          17,
          6
         ],
         "yaxis": "y9"
        },
        {
         "alignmentgroup": "True",
         "hovertemplate": "Year=1998<br>Genres=%{x}<br>Number of Films=%{y}<extra></extra>",
         "legendgroup": "",
         "marker": {
          "color": "#636efa",
          "pattern": {
           "shape": ""
          }
         },
         "name": "",
         "offsetgroup": "",
         "orientation": "v",
         "showlegend": false,
         "textposition": "auto",
         "type": "bar",
         "x": [
          "Action",
          "Comedy",
          "Drama",
          "Adventure"
         ],
         "xaxis": "x10",
         "y": [
          9,
          5,
          8,
          6
         ],
         "yaxis": "y10"
        },
        {
         "alignmentgroup": "True",
         "hovertemplate": "Year=1999<br>Genres=%{x}<br>Number of Films=%{y}<extra></extra>",
         "legendgroup": "",
         "marker": {
          "color": "#636efa",
          "pattern": {
           "shape": ""
          }
         },
         "name": "",
         "offsetgroup": "",
         "orientation": "v",
         "showlegend": false,
         "textposition": "auto",
         "type": "bar",
         "x": [
          "Adventure",
          "Drama",
          "Action",
          "Comedy"
         ],
         "xaxis": "x11",
         "y": [
          8,
          13,
          9,
          12
         ],
         "yaxis": "y11"
        },
        {
         "alignmentgroup": "True",
         "hovertemplate": "Year=2000<br>Genres=%{x}<br>Number of Films=%{y}<extra></extra>",
         "legendgroup": "",
         "marker": {
          "color": "#636efa",
          "pattern": {
           "shape": ""
          }
         },
         "name": "",
         "offsetgroup": "",
         "orientation": "v",
         "showlegend": false,
         "textposition": "auto",
         "type": "bar",
         "x": [
          "Action",
          "Drama",
          "Adventure",
          "Comedy"
         ],
         "xaxis": "x12",
         "y": [
          13,
          11,
          6,
          8
         ],
         "yaxis": "y12"
        },
        {
         "alignmentgroup": "True",
         "hovertemplate": "Year=2001<br>Genres=%{x}<br>Number of Films=%{y}<extra></extra>",
         "legendgroup": "",
         "marker": {
          "color": "#636efa",
          "pattern": {
           "shape": ""
          }
         },
         "name": "",
         "offsetgroup": "",
         "orientation": "v",
         "showlegend": false,
         "textposition": "auto",
         "type": "bar",
         "x": [
          "Action",
          "Adventure",
          "Comedy",
          "Drama"
         ],
         "xaxis": "x",
         "y": [
          20,
          11,
          7,
          11
         ],
         "yaxis": "y"
        },
        {
         "alignmentgroup": "True",
         "hovertemplate": "Year=2002<br>Genres=%{x}<br>Number of Films=%{y}<extra></extra>",
         "legendgroup": "",
         "marker": {
          "color": "#636efa",
          "pattern": {
           "shape": ""
          }
         },
         "name": "",
         "offsetgroup": "",
         "orientation": "v",
         "showlegend": false,
         "textposition": "auto",
         "type": "bar",
         "x": [
          "Comedy",
          "Adventure",
          "Action",
          "Drama"
         ],
         "xaxis": "x2",
         "y": [
          7,
          6,
          19,
          14
         ],
         "yaxis": "y2"
        },
        {
         "alignmentgroup": "True",
         "hovertemplate": "Year=2003<br>Genres=%{x}<br>Number of Films=%{y}<extra></extra>",
         "legendgroup": "",
         "marker": {
          "color": "#636efa",
          "pattern": {
           "shape": ""
          }
         },
         "name": "",
         "offsetgroup": "",
         "orientation": "v",
         "showlegend": false,
         "textposition": "auto",
         "type": "bar",
         "x": [
          "Drama",
          "Action",
          "Adventure",
          "Comedy"
         ],
         "xaxis": "x3",
         "y": [
          12,
          17,
          11,
          11
         ],
         "yaxis": "y3"
        },
        {
         "alignmentgroup": "True",
         "hovertemplate": "Year=2004<br>Genres=%{x}<br>Number of Films=%{y}<extra></extra>",
         "legendgroup": "",
         "marker": {
          "color": "#636efa",
          "pattern": {
           "shape": ""
          }
         },
         "name": "",
         "offsetgroup": "",
         "orientation": "v",
         "showlegend": false,
         "textposition": "auto",
         "type": "bar",
         "x": [
          "Action",
          "Adventure",
          "Comedy",
          "Drama"
         ],
         "xaxis": "x4",
         "y": [
          16,
          11,
          16,
          8
         ],
         "yaxis": "y4"
        },
        {
         "alignmentgroup": "True",
         "hovertemplate": "Year=2005<br>Genres=%{x}<br>Number of Films=%{y}<extra></extra>",
         "legendgroup": "",
         "marker": {
          "color": "#636efa",
          "pattern": {
           "shape": ""
          }
         },
         "name": "",
         "offsetgroup": "",
         "orientation": "v",
         "showlegend": false,
         "textposition": "auto",
         "type": "bar",
         "x": [
          "Action",
          "Comedy",
          "Adventure",
          "Drama"
         ],
         "xaxis": "x5",
         "y": [
          18,
          16,
          10,
          11
         ],
         "yaxis": "y5"
        }
       ],
       "layout": {
        "annotations": [
         {
          "font": {},
          "showarrow": false,
          "text": "Year=2001",
          "x": 0.075,
          "xanchor": "center",
          "xref": "paper",
          "y": 0.46499999999999997,
          "yanchor": "bottom",
          "yref": "paper"
         },
         {
          "font": {},
          "showarrow": false,
          "text": "Year=2002",
          "x": 0.24499999999999997,
          "xanchor": "center",
          "xref": "paper",
          "y": 0.46499999999999997,
          "yanchor": "bottom",
          "yref": "paper"
         },
         {
          "font": {},
          "showarrow": false,
          "text": "Year=2003",
          "x": 0.415,
          "xanchor": "center",
          "xref": "paper",
          "y": 0.46499999999999997,
          "yanchor": "bottom",
          "yref": "paper"
         },
         {
          "font": {},
          "showarrow": false,
          "text": "Year=2004",
          "x": 0.585,
          "xanchor": "center",
          "xref": "paper",
          "y": 0.46499999999999997,
          "yanchor": "bottom",
          "yref": "paper"
         },
         {
          "font": {},
          "showarrow": false,
          "text": "Year=2005",
          "x": 0.7549999999999999,
          "xanchor": "center",
          "xref": "paper",
          "y": 0.46499999999999997,
          "yanchor": "bottom",
          "yref": "paper"
         },
         {
          "font": {},
          "showarrow": false,
          "text": "Year=1995",
          "x": 0.075,
          "xanchor": "center",
          "xref": "paper",
          "y": 0.9999999999999999,
          "yanchor": "bottom",
          "yref": "paper"
         },
         {
          "font": {},
          "showarrow": false,
          "text": "Year=1996",
          "x": 0.24499999999999997,
          "xanchor": "center",
          "xref": "paper",
          "y": 0.9999999999999999,
          "yanchor": "bottom",
          "yref": "paper"
         },
         {
          "font": {},
          "showarrow": false,
          "text": "Year=1997",
          "x": 0.415,
          "xanchor": "center",
          "xref": "paper",
          "y": 0.9999999999999999,
          "yanchor": "bottom",
          "yref": "paper"
         },
         {
          "font": {},
          "showarrow": false,
          "text": "Year=1998",
          "x": 0.585,
          "xanchor": "center",
          "xref": "paper",
          "y": 0.9999999999999999,
          "yanchor": "bottom",
          "yref": "paper"
         },
         {
          "font": {},
          "showarrow": false,
          "text": "Year=1999",
          "x": 0.7549999999999999,
          "xanchor": "center",
          "xref": "paper",
          "y": 0.9999999999999999,
          "yanchor": "bottom",
          "yref": "paper"
         },
         {
          "font": {},
          "showarrow": false,
          "text": "Year=2000",
          "x": 0.925,
          "xanchor": "center",
          "xref": "paper",
          "y": 0.9999999999999999,
          "yanchor": "bottom",
          "yref": "paper"
         }
        ],
        "barmode": "relative",
        "legend": {
         "tracegroupgap": 0
        },
        "margin": {
         "t": 60
        },
        "template": {
         "data": {
          "bar": [
           {
            "error_x": {
             "color": "#2a3f5f"
            },
            "error_y": {
             "color": "#2a3f5f"
            },
            "marker": {
             "line": {
              "color": "#E5ECF6",
              "width": 0.5
             },
             "pattern": {
              "fillmode": "overlay",
              "size": 10,
              "solidity": 0.2
             }
            },
            "type": "bar"
           }
          ],
          "barpolar": [
           {
            "marker": {
             "line": {
              "color": "#E5ECF6",
              "width": 0.5
             },
             "pattern": {
              "fillmode": "overlay",
              "size": 10,
              "solidity": 0.2
             }
            },
            "type": "barpolar"
           }
          ],
          "carpet": [
           {
            "aaxis": {
             "endlinecolor": "#2a3f5f",
             "gridcolor": "white",
             "linecolor": "white",
             "minorgridcolor": "white",
             "startlinecolor": "#2a3f5f"
            },
            "baxis": {
             "endlinecolor": "#2a3f5f",
             "gridcolor": "white",
             "linecolor": "white",
             "minorgridcolor": "white",
             "startlinecolor": "#2a3f5f"
            },
            "type": "carpet"
           }
          ],
          "choropleth": [
           {
            "colorbar": {
             "outlinewidth": 0,
             "ticks": ""
            },
            "type": "choropleth"
           }
          ],
          "contour": [
           {
            "colorbar": {
             "outlinewidth": 0,
             "ticks": ""
            },
            "colorscale": [
             [
              0,
              "#0d0887"
             ],
             [
              0.1111111111111111,
              "#46039f"
             ],
             [
              0.2222222222222222,
              "#7201a8"
             ],
             [
              0.3333333333333333,
              "#9c179e"
             ],
             [
              0.4444444444444444,
              "#bd3786"
             ],
             [
              0.5555555555555556,
              "#d8576b"
             ],
             [
              0.6666666666666666,
              "#ed7953"
             ],
             [
              0.7777777777777778,
              "#fb9f3a"
             ],
             [
              0.8888888888888888,
              "#fdca26"
             ],
             [
              1,
              "#f0f921"
             ]
            ],
            "type": "contour"
           }
          ],
          "contourcarpet": [
           {
            "colorbar": {
             "outlinewidth": 0,
             "ticks": ""
            },
            "type": "contourcarpet"
           }
          ],
          "heatmap": [
           {
            "colorbar": {
             "outlinewidth": 0,
             "ticks": ""
            },
            "colorscale": [
             [
              0,
              "#0d0887"
             ],
             [
              0.1111111111111111,
              "#46039f"
             ],
             [
              0.2222222222222222,
              "#7201a8"
             ],
             [
              0.3333333333333333,
              "#9c179e"
             ],
             [
              0.4444444444444444,
              "#bd3786"
             ],
             [
              0.5555555555555556,
              "#d8576b"
             ],
             [
              0.6666666666666666,
              "#ed7953"
             ],
             [
              0.7777777777777778,
              "#fb9f3a"
             ],
             [
              0.8888888888888888,
              "#fdca26"
             ],
             [
              1,
              "#f0f921"
             ]
            ],
            "type": "heatmap"
           }
          ],
          "heatmapgl": [
           {
            "colorbar": {
             "outlinewidth": 0,
             "ticks": ""
            },
            "colorscale": [
             [
              0,
              "#0d0887"
             ],
             [
              0.1111111111111111,
              "#46039f"
             ],
             [
              0.2222222222222222,
              "#7201a8"
             ],
             [
              0.3333333333333333,
              "#9c179e"
             ],
             [
              0.4444444444444444,
              "#bd3786"
             ],
             [
              0.5555555555555556,
              "#d8576b"
             ],
             [
              0.6666666666666666,
              "#ed7953"
             ],
             [
              0.7777777777777778,
              "#fb9f3a"
             ],
             [
              0.8888888888888888,
              "#fdca26"
             ],
             [
              1,
              "#f0f921"
             ]
            ],
            "type": "heatmapgl"
           }
          ],
          "histogram": [
           {
            "marker": {
             "pattern": {
              "fillmode": "overlay",
              "size": 10,
              "solidity": 0.2
             }
            },
            "type": "histogram"
           }
          ],
          "histogram2d": [
           {
            "colorbar": {
             "outlinewidth": 0,
             "ticks": ""
            },
            "colorscale": [
             [
              0,
              "#0d0887"
             ],
             [
              0.1111111111111111,
              "#46039f"
             ],
             [
              0.2222222222222222,
              "#7201a8"
             ],
             [
              0.3333333333333333,
              "#9c179e"
             ],
             [
              0.4444444444444444,
              "#bd3786"
             ],
             [
              0.5555555555555556,
              "#d8576b"
             ],
             [
              0.6666666666666666,
              "#ed7953"
             ],
             [
              0.7777777777777778,
              "#fb9f3a"
             ],
             [
              0.8888888888888888,
              "#fdca26"
             ],
             [
              1,
              "#f0f921"
             ]
            ],
            "type": "histogram2d"
           }
          ],
          "histogram2dcontour": [
           {
            "colorbar": {
             "outlinewidth": 0,
             "ticks": ""
            },
            "colorscale": [
             [
              0,
              "#0d0887"
             ],
             [
              0.1111111111111111,
              "#46039f"
             ],
             [
              0.2222222222222222,
              "#7201a8"
             ],
             [
              0.3333333333333333,
              "#9c179e"
             ],
             [
              0.4444444444444444,
              "#bd3786"
             ],
             [
              0.5555555555555556,
              "#d8576b"
             ],
             [
              0.6666666666666666,
              "#ed7953"
             ],
             [
              0.7777777777777778,
              "#fb9f3a"
             ],
             [
              0.8888888888888888,
              "#fdca26"
             ],
             [
              1,
              "#f0f921"
             ]
            ],
            "type": "histogram2dcontour"
           }
          ],
          "mesh3d": [
           {
            "colorbar": {
             "outlinewidth": 0,
             "ticks": ""
            },
            "type": "mesh3d"
           }
          ],
          "parcoords": [
           {
            "line": {
             "colorbar": {
              "outlinewidth": 0,
              "ticks": ""
             }
            },
            "type": "parcoords"
           }
          ],
          "pie": [
           {
            "automargin": true,
            "type": "pie"
           }
          ],
          "scatter": [
           {
            "fillpattern": {
             "fillmode": "overlay",
             "size": 10,
             "solidity": 0.2
            },
            "type": "scatter"
           }
          ],
          "scatter3d": [
           {
            "line": {
             "colorbar": {
              "outlinewidth": 0,
              "ticks": ""
             }
            },
            "marker": {
             "colorbar": {
              "outlinewidth": 0,
              "ticks": ""
             }
            },
            "type": "scatter3d"
           }
          ],
          "scattercarpet": [
           {
            "marker": {
             "colorbar": {
              "outlinewidth": 0,
              "ticks": ""
             }
            },
            "type": "scattercarpet"
           }
          ],
          "scattergeo": [
           {
            "marker": {
             "colorbar": {
              "outlinewidth": 0,
              "ticks": ""
             }
            },
            "type": "scattergeo"
           }
          ],
          "scattergl": [
           {
            "marker": {
             "colorbar": {
              "outlinewidth": 0,
              "ticks": ""
             }
            },
            "type": "scattergl"
           }
          ],
          "scattermapbox": [
           {
            "marker": {
             "colorbar": {
              "outlinewidth": 0,
              "ticks": ""
             }
            },
            "type": "scattermapbox"
           }
          ],
          "scatterpolar": [
           {
            "marker": {
             "colorbar": {
              "outlinewidth": 0,
              "ticks": ""
             }
            },
            "type": "scatterpolar"
           }
          ],
          "scatterpolargl": [
           {
            "marker": {
             "colorbar": {
              "outlinewidth": 0,
              "ticks": ""
             }
            },
            "type": "scatterpolargl"
           }
          ],
          "scatterternary": [
           {
            "marker": {
             "colorbar": {
              "outlinewidth": 0,
              "ticks": ""
             }
            },
            "type": "scatterternary"
           }
          ],
          "surface": [
           {
            "colorbar": {
             "outlinewidth": 0,
             "ticks": ""
            },
            "colorscale": [
             [
              0,
              "#0d0887"
             ],
             [
              0.1111111111111111,
              "#46039f"
             ],
             [
              0.2222222222222222,
              "#7201a8"
             ],
             [
              0.3333333333333333,
              "#9c179e"
             ],
             [
              0.4444444444444444,
              "#bd3786"
             ],
             [
              0.5555555555555556,
              "#d8576b"
             ],
             [
              0.6666666666666666,
              "#ed7953"
             ],
             [
              0.7777777777777778,
              "#fb9f3a"
             ],
             [
              0.8888888888888888,
              "#fdca26"
             ],
             [
              1,
              "#f0f921"
             ]
            ],
            "type": "surface"
           }
          ],
          "table": [
           {
            "cells": {
             "fill": {
              "color": "#EBF0F8"
             },
             "line": {
              "color": "white"
             }
            },
            "header": {
             "fill": {
              "color": "#C8D4E3"
             },
             "line": {
              "color": "white"
             }
            },
            "type": "table"
           }
          ]
         },
         "layout": {
          "annotationdefaults": {
           "arrowcolor": "#2a3f5f",
           "arrowhead": 0,
           "arrowwidth": 1
          },
          "autotypenumbers": "strict",
          "coloraxis": {
           "colorbar": {
            "outlinewidth": 0,
            "ticks": ""
           }
          },
          "colorscale": {
           "diverging": [
            [
             0,
             "#8e0152"
            ],
            [
             0.1,
             "#c51b7d"
            ],
            [
             0.2,
             "#de77ae"
            ],
            [
             0.3,
             "#f1b6da"
            ],
            [
             0.4,
             "#fde0ef"
            ],
            [
             0.5,
             "#f7f7f7"
            ],
            [
             0.6,
             "#e6f5d0"
            ],
            [
             0.7,
             "#b8e186"
            ],
            [
             0.8,
             "#7fbc41"
            ],
            [
             0.9,
             "#4d9221"
            ],
            [
             1,
             "#276419"
            ]
           ],
           "sequential": [
            [
             0,
             "#0d0887"
            ],
            [
             0.1111111111111111,
             "#46039f"
            ],
            [
             0.2222222222222222,
             "#7201a8"
            ],
            [
             0.3333333333333333,
             "#9c179e"
            ],
            [
             0.4444444444444444,
             "#bd3786"
            ],
            [
             0.5555555555555556,
             "#d8576b"
            ],
            [
             0.6666666666666666,
             "#ed7953"
            ],
            [
             0.7777777777777778,
             "#fb9f3a"
            ],
            [
             0.8888888888888888,
             "#fdca26"
            ],
            [
             1,
             "#f0f921"
            ]
           ],
           "sequentialminus": [
            [
             0,
             "#0d0887"
            ],
            [
             0.1111111111111111,
             "#46039f"
            ],
            [
             0.2222222222222222,
             "#7201a8"
            ],
            [
             0.3333333333333333,
             "#9c179e"
            ],
            [
             0.4444444444444444,
             "#bd3786"
            ],
            [
             0.5555555555555556,
             "#d8576b"
            ],
            [
             0.6666666666666666,
             "#ed7953"
            ],
            [
             0.7777777777777778,
             "#fb9f3a"
            ],
            [
             0.8888888888888888,
             "#fdca26"
            ],
            [
             1,
             "#f0f921"
            ]
           ]
          },
          "colorway": [
           "#636efa",
           "#EF553B",
           "#00cc96",
           "#ab63fa",
           "#FFA15A",
           "#19d3f3",
           "#FF6692",
           "#B6E880",
           "#FF97FF",
           "#FECB52"
          ],
          "font": {
           "color": "#2a3f5f"
          },
          "geo": {
           "bgcolor": "white",
           "lakecolor": "white",
           "landcolor": "#E5ECF6",
           "showlakes": true,
           "showland": true,
           "subunitcolor": "white"
          },
          "hoverlabel": {
           "align": "left"
          },
          "hovermode": "closest",
          "mapbox": {
           "style": "light"
          },
          "paper_bgcolor": "white",
          "plot_bgcolor": "#E5ECF6",
          "polar": {
           "angularaxis": {
            "gridcolor": "white",
            "linecolor": "white",
            "ticks": ""
           },
           "bgcolor": "#E5ECF6",
           "radialaxis": {
            "gridcolor": "white",
            "linecolor": "white",
            "ticks": ""
           }
          },
          "scene": {
           "xaxis": {
            "backgroundcolor": "#E5ECF6",
            "gridcolor": "white",
            "gridwidth": 2,
            "linecolor": "white",
            "showbackground": true,
            "ticks": "",
            "zerolinecolor": "white"
           },
           "yaxis": {
            "backgroundcolor": "#E5ECF6",
            "gridcolor": "white",
            "gridwidth": 2,
            "linecolor": "white",
            "showbackground": true,
            "ticks": "",
            "zerolinecolor": "white"
           },
           "zaxis": {
            "backgroundcolor": "#E5ECF6",
            "gridcolor": "white",
            "gridwidth": 2,
            "linecolor": "white",
            "showbackground": true,
            "ticks": "",
            "zerolinecolor": "white"
           }
          },
          "shapedefaults": {
           "line": {
            "color": "#2a3f5f"
           }
          },
          "ternary": {
           "aaxis": {
            "gridcolor": "white",
            "linecolor": "white",
            "ticks": ""
           },
           "baxis": {
            "gridcolor": "white",
            "linecolor": "white",
            "ticks": ""
           },
           "bgcolor": "#E5ECF6",
           "caxis": {
            "gridcolor": "white",
            "linecolor": "white",
            "ticks": ""
           }
          },
          "title": {
           "x": 0.05
          },
          "xaxis": {
           "automargin": true,
           "gridcolor": "white",
           "linecolor": "white",
           "ticks": "",
           "title": {
            "standoff": 15
           },
           "zerolinecolor": "white",
           "zerolinewidth": 2
          },
          "yaxis": {
           "automargin": true,
           "gridcolor": "white",
           "linecolor": "white",
           "ticks": "",
           "title": {
            "standoff": 15
           },
           "zerolinecolor": "white",
           "zerolinewidth": 2
          }
         }
        },
        "xaxis": {
         "anchor": "y",
         "domain": [
          0,
          0.15
         ],
         "title": {
          "text": "Genres"
         }
        },
        "xaxis10": {
         "anchor": "y10",
         "domain": [
          0.51,
          0.66
         ],
         "matches": "x",
         "showticklabels": false
        },
        "xaxis11": {
         "anchor": "y11",
         "domain": [
          0.6799999999999999,
          0.83
         ],
         "matches": "x",
         "showticklabels": false
        },
        "xaxis12": {
         "anchor": "y12",
         "domain": [
          0.85,
          1
         ],
         "matches": "x",
         "showticklabels": false
        },
        "xaxis2": {
         "anchor": "y2",
         "domain": [
          0.16999999999999998,
          0.31999999999999995
         ],
         "matches": "x",
         "title": {
          "text": "Genres"
         }
        },
        "xaxis3": {
         "anchor": "y3",
         "domain": [
          0.33999999999999997,
          0.49
         ],
         "matches": "x",
         "title": {
          "text": "Genres"
         }
        },
        "xaxis4": {
         "anchor": "y4",
         "domain": [
          0.51,
          0.66
         ],
         "matches": "x",
         "title": {
          "text": "Genres"
         }
        },
        "xaxis5": {
         "anchor": "y5",
         "domain": [
          0.6799999999999999,
          0.83
         ],
         "matches": "x",
         "title": {
          "text": "Genres"
         }
        },
        "xaxis6": {
         "anchor": "y6",
         "domain": [
          0.85,
          1
         ],
         "matches": "x",
         "title": {
          "text": "Genres"
         }
        },
        "xaxis7": {
         "anchor": "y7",
         "domain": [
          0,
          0.15
         ],
         "matches": "x",
         "showticklabels": false
        },
        "xaxis8": {
         "anchor": "y8",
         "domain": [
          0.16999999999999998,
          0.31999999999999995
         ],
         "matches": "x",
         "showticklabels": false
        },
        "xaxis9": {
         "anchor": "y9",
         "domain": [
          0.33999999999999997,
          0.49
         ],
         "matches": "x",
         "showticklabels": false
        },
        "yaxis": {
         "anchor": "x",
         "domain": [
          0,
          0.46499999999999997
         ],
         "title": {
          "text": "Number of Films"
         }
        },
        "yaxis10": {
         "anchor": "x10",
         "domain": [
          0.5349999999999999,
          0.9999999999999999
         ],
         "matches": "y",
         "showticklabels": false
        },
        "yaxis11": {
         "anchor": "x11",
         "domain": [
          0.5349999999999999,
          0.9999999999999999
         ],
         "matches": "y",
         "showticklabels": false
        },
        "yaxis12": {
         "anchor": "x12",
         "domain": [
          0.5349999999999999,
          0.9999999999999999
         ],
         "matches": "y",
         "showticklabels": false
        },
        "yaxis2": {
         "anchor": "x2",
         "domain": [
          0,
          0.46499999999999997
         ],
         "matches": "y",
         "showticklabels": false
        },
        "yaxis3": {
         "anchor": "x3",
         "domain": [
          0,
          0.46499999999999997
         ],
         "matches": "y",
         "showticklabels": false
        },
        "yaxis4": {
         "anchor": "x4",
         "domain": [
          0,
          0.46499999999999997
         ],
         "matches": "y",
         "showticklabels": false
        },
        "yaxis5": {
         "anchor": "x5",
         "domain": [
          0,
          0.46499999999999997
         ],
         "matches": "y",
         "showticklabels": false
        },
        "yaxis6": {
         "anchor": "x6",
         "domain": [
          0,
          0.46499999999999997
         ],
         "matches": "y",
         "showticklabels": false
        },
        "yaxis7": {
         "anchor": "x7",
         "domain": [
          0.5349999999999999,
          0.9999999999999999
         ],
         "matches": "y",
         "title": {
          "text": "Number of Films"
         }
        },
        "yaxis8": {
         "anchor": "x8",
         "domain": [
          0.5349999999999999,
          0.9999999999999999
         ],
         "matches": "y",
         "showticklabels": false
        },
        "yaxis9": {
         "anchor": "x9",
         "domain": [
          0.5349999999999999,
          0.9999999999999999
         ],
         "matches": "y",
         "showticklabels": false
        }
       }
      }
     },
     "metadata": {},
     "output_type": "display_data"
    }
   ],
   "source": [
    "genresGroupedRSmall = genresGroupedR[(genresGroupedR.Genres == 'Drama') | (genresGroupedR.Genres == 'Adventure') | (genresGroupedR.Genres == 'Action')| (genresGroupedR.Genres == 'Comedy')]\n",
    "fig = px.bar(genresGroupedRSmall, x=\"Genres\", y=\"Number of Films\",facet_col=\"Year\",facet_col_wrap=6)\n",
    "fig.show()"
   ]
  },
  {
   "cell_type": "markdown",
   "metadata": {},
   "source": [
    "Visualizando todos los géneros:"
   ]
  },
  {
   "cell_type": "code",
   "execution_count": 21,
   "metadata": {},
   "outputs": [
    {
     "data": {
      "application/vnd.plotly.v1+json": {
       "config": {
        "plotlyServerURL": "https://plot.ly"
       },
       "data": [
        {
         "alignmentgroup": "True",
         "hovertemplate": "Year=1995<br>Genres=%{x}<br>Number of Films=%{y}<extra></extra>",
         "legendgroup": "",
         "marker": {
          "color": "#636efa",
          "pattern": {
           "shape": ""
          }
         },
         "name": "",
         "offsetgroup": "",
         "orientation": "v",
         "showlegend": false,
         "textposition": "auto",
         "type": "bar",
         "x": [
          "Action",
          "Crime",
          "Drama",
          "War",
          "Science Fiction",
          "Fantasy",
          "Adventure",
          "Comedy",
          "History"
         ],
         "xaxis": "x11",
         "y": [
          15,
          1,
          4,
          1,
          2,
          1,
          4,
          1,
          1
         ],
         "yaxis": "y11"
        },
        {
         "alignmentgroup": "True",
         "hovertemplate": "Year=1996<br>Genres=%{x}<br>Number of Films=%{y}<extra></extra>",
         "legendgroup": "",
         "marker": {
          "color": "#636efa",
          "pattern": {
           "shape": ""
          }
         },
         "name": "",
         "offsetgroup": "",
         "orientation": "v",
         "showlegend": false,
         "textposition": "auto",
         "type": "bar",
         "x": [
          "Comedy",
          "Action",
          "Crime",
          "Fantasy",
          "Family",
          "Adventure",
          "Animation",
          "History",
          "Drama",
          "Science Fiction"
         ],
         "xaxis": "x12",
         "y": [
          7,
          12,
          4,
          4,
          1,
          4,
          1,
          1,
          7,
          1
         ],
         "yaxis": "y12"
        },
        {
         "alignmentgroup": "True",
         "hovertemplate": "Year=1997<br>Genres=%{x}<br>Number of Films=%{y}<extra></extra>",
         "legendgroup": "",
         "marker": {
          "color": "#636efa",
          "pattern": {
           "shape": ""
          }
         },
         "name": "",
         "offsetgroup": "",
         "orientation": "v",
         "showlegend": false,
         "textposition": "auto",
         "type": "bar",
         "x": [
          "Horror",
          "Science Fiction",
          "Thriller",
          "Comedy",
          "Drama",
          "Crime",
          "Action",
          "Adventure",
          "Animation"
         ],
         "xaxis": "x9",
         "y": [
          2,
          1,
          2,
          6,
          10,
          5,
          17,
          6,
          2
         ],
         "yaxis": "y9"
        },
        {
         "alignmentgroup": "True",
         "hovertemplate": "Year=1998<br>Genres=%{x}<br>Number of Films=%{y}<extra></extra>",
         "legendgroup": "",
         "marker": {
          "color": "#636efa",
          "pattern": {
           "shape": ""
          }
         },
         "name": "",
         "offsetgroup": "",
         "orientation": "v",
         "showlegend": false,
         "textposition": "auto",
         "type": "bar",
         "x": [
          "Mystery",
          "Action",
          "Horror",
          "Science Fiction",
          "Comedy",
          "Crime",
          "Fantasy",
          "Thriller",
          "Animation",
          "Drama",
          "Romance",
          "Adventure"
         ],
         "xaxis": "x10",
         "y": [
          1,
          9,
          3,
          4,
          5,
          2,
          2,
          3,
          1,
          8,
          1,
          6
         ],
         "yaxis": "y10"
        },
        {
         "alignmentgroup": "True",
         "hovertemplate": "Year=1999<br>Genres=%{x}<br>Number of Films=%{y}<extra></extra>",
         "legendgroup": "",
         "marker": {
          "color": "#636efa",
          "pattern": {
           "shape": ""
          }
         },
         "name": "",
         "offsetgroup": "",
         "orientation": "v",
         "showlegend": false,
         "textposition": "auto",
         "type": "bar",
         "x": [
          "Adventure",
          "Drama",
          "Fantasy",
          "Crime",
          "Romance",
          "Animation",
          "Action",
          "Mystery",
          "Thriller",
          "Comedy",
          "Horror"
         ],
         "xaxis": "x7",
         "y": [
          8,
          13,
          1,
          2,
          4,
          3,
          9,
          2,
          2,
          12,
          3
         ],
         "yaxis": "y7"
        },
        {
         "alignmentgroup": "True",
         "hovertemplate": "Year=2000<br>Genres=%{x}<br>Number of Films=%{y}<extra></extra>",
         "legendgroup": "",
         "marker": {
          "color": "#636efa",
          "pattern": {
           "shape": ""
          }
         },
         "name": "",
         "offsetgroup": "",
         "orientation": "v",
         "showlegend": false,
         "textposition": "auto",
         "type": "bar",
         "x": [
          "Animation",
          "Action",
          "Drama",
          "Thriller",
          "Horror",
          "Adventure",
          "Comedy",
          "Fantasy",
          "Crime",
          "Science Fiction",
          "Family"
         ],
         "xaxis": "x8",
         "y": [
          3,
          13,
          11,
          3,
          2,
          6,
          8,
          4,
          1,
          4,
          1
         ],
         "yaxis": "y8"
        },
        {
         "alignmentgroup": "True",
         "hovertemplate": "Year=2001<br>Genres=%{x}<br>Number of Films=%{y}<extra></extra>",
         "legendgroup": "",
         "marker": {
          "color": "#636efa",
          "pattern": {
           "shape": ""
          }
         },
         "name": "",
         "offsetgroup": "",
         "orientation": "v",
         "showlegend": false,
         "textposition": "auto",
         "type": "bar",
         "x": [
          "Horror",
          "History",
          "Action",
          "Mystery",
          "War",
          "Adventure",
          "Animation",
          "Thriller",
          "Comedy",
          "Crime",
          "Documentary",
          "Music",
          "Drama"
         ],
         "xaxis": "x5",
         "y": [
          1,
          1,
          20,
          1,
          1,
          11,
          2,
          4,
          7,
          4,
          1,
          1,
          11
         ],
         "yaxis": "y5"
        },
        {
         "alignmentgroup": "True",
         "hovertemplate": "Year=2002<br>Genres=%{x}<br>Number of Films=%{y}<extra></extra>",
         "legendgroup": "",
         "marker": {
          "color": "#636efa",
          "pattern": {
           "shape": ""
          }
         },
         "name": "",
         "offsetgroup": "",
         "orientation": "v",
         "showlegend": false,
         "textposition": "auto",
         "type": "bar",
         "x": [
          "Crime",
          "Family",
          "Horror",
          "Animation",
          "War",
          "Thriller",
          "Western",
          "Comedy",
          "Science Fiction",
          "Adventure",
          "Action",
          "Mystery",
          "Fantasy",
          "Drama",
          "Romance"
         ],
         "xaxis": "x6",
         "y": [
          6,
          1,
          3,
          2,
          1,
          4,
          1,
          7,
          2,
          6,
          19,
          1,
          3,
          14,
          1
         ],
         "yaxis": "y6"
        },
        {
         "alignmentgroup": "True",
         "hovertemplate": "Year=2003<br>Genres=%{x}<br>Number of Films=%{y}<extra></extra>",
         "legendgroup": "",
         "marker": {
          "color": "#636efa",
          "pattern": {
           "shape": ""
          }
         },
         "name": "",
         "offsetgroup": "",
         "orientation": "v",
         "showlegend": false,
         "textposition": "auto",
         "type": "bar",
         "x": [
          "Thriller",
          "Drama",
          "Horror",
          "Action",
          "Fantasy",
          "Adventure",
          "Family",
          "Animation",
          "Comedy",
          "Crime"
         ],
         "xaxis": "x3",
         "y": [
          2,
          12,
          1,
          17,
          3,
          11,
          1,
          2,
          11,
          1
         ],
         "yaxis": "y3"
        },
        {
         "alignmentgroup": "True",
         "hovertemplate": "Year=2004<br>Genres=%{x}<br>Number of Films=%{y}<extra></extra>",
         "legendgroup": "",
         "marker": {
          "color": "#636efa",
          "pattern": {
           "shape": ""
          }
         },
         "name": "",
         "offsetgroup": "",
         "orientation": "v",
         "showlegend": false,
         "textposition": "auto",
         "type": "bar",
         "x": [
          "Music",
          "War",
          "Action",
          "Thriller",
          "Adventure",
          "Animation",
          "Science Fiction",
          "Comedy",
          "Western",
          "Horror",
          "Fantasy",
          "Mystery",
          "Drama",
          "Romance",
          "Crime"
         ],
         "xaxis": "x4",
         "y": [
          1,
          1,
          16,
          2,
          11,
          3,
          1,
          16,
          2,
          3,
          1,
          1,
          8,
          1,
          1
         ],
         "yaxis": "y4"
        },
        {
         "alignmentgroup": "True",
         "hovertemplate": "Year=2005<br>Genres=%{x}<br>Number of Films=%{y}<extra></extra>",
         "legendgroup": "",
         "marker": {
          "color": "#636efa",
          "pattern": {
           "shape": ""
          }
         },
         "name": "",
         "offsetgroup": "",
         "orientation": "v",
         "showlegend": false,
         "textposition": "auto",
         "type": "bar",
         "x": [
          "Action",
          "Thriller",
          "Mystery",
          "Comedy",
          "Adventure",
          "Romance",
          "Animation",
          "Science Fiction",
          "Crime",
          "Horror",
          "Family",
          "Drama"
         ],
         "xaxis": "x",
         "y": [
          18,
          2,
          2,
          16,
          10,
          4,
          3,
          2,
          3,
          2,
          2,
          11
         ],
         "yaxis": "y"
        }
       ],
       "layout": {
        "annotations": [
         {
          "font": {},
          "showarrow": false,
          "text": "Year=2005",
          "x": 0.245,
          "xanchor": "center",
          "xref": "paper",
          "y": 0.10833333333333331,
          "yanchor": "bottom",
          "yref": "paper"
         },
         {
          "font": {},
          "showarrow": false,
          "text": "Year=2003",
          "x": 0.245,
          "xanchor": "center",
          "xref": "paper",
          "y": 0.2866666666666666,
          "yanchor": "bottom",
          "yref": "paper"
         },
         {
          "font": {},
          "showarrow": false,
          "text": "Year=2004",
          "x": 0.755,
          "xanchor": "center",
          "xref": "paper",
          "y": 0.2866666666666666,
          "yanchor": "bottom",
          "yref": "paper"
         },
         {
          "font": {},
          "showarrow": false,
          "text": "Year=2001",
          "x": 0.245,
          "xanchor": "center",
          "xref": "paper",
          "y": 0.46499999999999997,
          "yanchor": "bottom",
          "yref": "paper"
         },
         {
          "font": {},
          "showarrow": false,
          "text": "Year=2002",
          "x": 0.755,
          "xanchor": "center",
          "xref": "paper",
          "y": 0.46499999999999997,
          "yanchor": "bottom",
          "yref": "paper"
         },
         {
          "font": {},
          "showarrow": false,
          "text": "Year=1999",
          "x": 0.245,
          "xanchor": "center",
          "xref": "paper",
          "y": 0.6433333333333332,
          "yanchor": "bottom",
          "yref": "paper"
         },
         {
          "font": {},
          "showarrow": false,
          "text": "Year=2000",
          "x": 0.755,
          "xanchor": "center",
          "xref": "paper",
          "y": 0.6433333333333332,
          "yanchor": "bottom",
          "yref": "paper"
         },
         {
          "font": {},
          "showarrow": false,
          "text": "Year=1997",
          "x": 0.245,
          "xanchor": "center",
          "xref": "paper",
          "y": 0.8216666666666665,
          "yanchor": "bottom",
          "yref": "paper"
         },
         {
          "font": {},
          "showarrow": false,
          "text": "Year=1998",
          "x": 0.755,
          "xanchor": "center",
          "xref": "paper",
          "y": 0.8216666666666665,
          "yanchor": "bottom",
          "yref": "paper"
         },
         {
          "font": {},
          "showarrow": false,
          "text": "Year=1995",
          "x": 0.245,
          "xanchor": "center",
          "xref": "paper",
          "y": 0.9999999999999999,
          "yanchor": "bottom",
          "yref": "paper"
         },
         {
          "font": {},
          "showarrow": false,
          "text": "Year=1996",
          "x": 0.755,
          "xanchor": "center",
          "xref": "paper",
          "y": 0.9999999999999999,
          "yanchor": "bottom",
          "yref": "paper"
         }
        ],
        "barmode": "relative",
        "height": 1000,
        "legend": {
         "tracegroupgap": 0
        },
        "margin": {
         "t": 60
        },
        "template": {
         "data": {
          "bar": [
           {
            "error_x": {
             "color": "#2a3f5f"
            },
            "error_y": {
             "color": "#2a3f5f"
            },
            "marker": {
             "line": {
              "color": "#E5ECF6",
              "width": 0.5
             },
             "pattern": {
              "fillmode": "overlay",
              "size": 10,
              "solidity": 0.2
             }
            },
            "type": "bar"
           }
          ],
          "barpolar": [
           {
            "marker": {
             "line": {
              "color": "#E5ECF6",
              "width": 0.5
             },
             "pattern": {
              "fillmode": "overlay",
              "size": 10,
              "solidity": 0.2
             }
            },
            "type": "barpolar"
           }
          ],
          "carpet": [
           {
            "aaxis": {
             "endlinecolor": "#2a3f5f",
             "gridcolor": "white",
             "linecolor": "white",
             "minorgridcolor": "white",
             "startlinecolor": "#2a3f5f"
            },
            "baxis": {
             "endlinecolor": "#2a3f5f",
             "gridcolor": "white",
             "linecolor": "white",
             "minorgridcolor": "white",
             "startlinecolor": "#2a3f5f"
            },
            "type": "carpet"
           }
          ],
          "choropleth": [
           {
            "colorbar": {
             "outlinewidth": 0,
             "ticks": ""
            },
            "type": "choropleth"
           }
          ],
          "contour": [
           {
            "colorbar": {
             "outlinewidth": 0,
             "ticks": ""
            },
            "colorscale": [
             [
              0,
              "#0d0887"
             ],
             [
              0.1111111111111111,
              "#46039f"
             ],
             [
              0.2222222222222222,
              "#7201a8"
             ],
             [
              0.3333333333333333,
              "#9c179e"
             ],
             [
              0.4444444444444444,
              "#bd3786"
             ],
             [
              0.5555555555555556,
              "#d8576b"
             ],
             [
              0.6666666666666666,
              "#ed7953"
             ],
             [
              0.7777777777777778,
              "#fb9f3a"
             ],
             [
              0.8888888888888888,
              "#fdca26"
             ],
             [
              1,
              "#f0f921"
             ]
            ],
            "type": "contour"
           }
          ],
          "contourcarpet": [
           {
            "colorbar": {
             "outlinewidth": 0,
             "ticks": ""
            },
            "type": "contourcarpet"
           }
          ],
          "heatmap": [
           {
            "colorbar": {
             "outlinewidth": 0,
             "ticks": ""
            },
            "colorscale": [
             [
              0,
              "#0d0887"
             ],
             [
              0.1111111111111111,
              "#46039f"
             ],
             [
              0.2222222222222222,
              "#7201a8"
             ],
             [
              0.3333333333333333,
              "#9c179e"
             ],
             [
              0.4444444444444444,
              "#bd3786"
             ],
             [
              0.5555555555555556,
              "#d8576b"
             ],
             [
              0.6666666666666666,
              "#ed7953"
             ],
             [
              0.7777777777777778,
              "#fb9f3a"
             ],
             [
              0.8888888888888888,
              "#fdca26"
             ],
             [
              1,
              "#f0f921"
             ]
            ],
            "type": "heatmap"
           }
          ],
          "heatmapgl": [
           {
            "colorbar": {
             "outlinewidth": 0,
             "ticks": ""
            },
            "colorscale": [
             [
              0,
              "#0d0887"
             ],
             [
              0.1111111111111111,
              "#46039f"
             ],
             [
              0.2222222222222222,
              "#7201a8"
             ],
             [
              0.3333333333333333,
              "#9c179e"
             ],
             [
              0.4444444444444444,
              "#bd3786"
             ],
             [
              0.5555555555555556,
              "#d8576b"
             ],
             [
              0.6666666666666666,
              "#ed7953"
             ],
             [
              0.7777777777777778,
              "#fb9f3a"
             ],
             [
              0.8888888888888888,
              "#fdca26"
             ],
             [
              1,
              "#f0f921"
             ]
            ],
            "type": "heatmapgl"
           }
          ],
          "histogram": [
           {
            "marker": {
             "pattern": {
              "fillmode": "overlay",
              "size": 10,
              "solidity": 0.2
             }
            },
            "type": "histogram"
           }
          ],
          "histogram2d": [
           {
            "colorbar": {
             "outlinewidth": 0,
             "ticks": ""
            },
            "colorscale": [
             [
              0,
              "#0d0887"
             ],
             [
              0.1111111111111111,
              "#46039f"
             ],
             [
              0.2222222222222222,
              "#7201a8"
             ],
             [
              0.3333333333333333,
              "#9c179e"
             ],
             [
              0.4444444444444444,
              "#bd3786"
             ],
             [
              0.5555555555555556,
              "#d8576b"
             ],
             [
              0.6666666666666666,
              "#ed7953"
             ],
             [
              0.7777777777777778,
              "#fb9f3a"
             ],
             [
              0.8888888888888888,
              "#fdca26"
             ],
             [
              1,
              "#f0f921"
             ]
            ],
            "type": "histogram2d"
           }
          ],
          "histogram2dcontour": [
           {
            "colorbar": {
             "outlinewidth": 0,
             "ticks": ""
            },
            "colorscale": [
             [
              0,
              "#0d0887"
             ],
             [
              0.1111111111111111,
              "#46039f"
             ],
             [
              0.2222222222222222,
              "#7201a8"
             ],
             [
              0.3333333333333333,
              "#9c179e"
             ],
             [
              0.4444444444444444,
              "#bd3786"
             ],
             [
              0.5555555555555556,
              "#d8576b"
             ],
             [
              0.6666666666666666,
              "#ed7953"
             ],
             [
              0.7777777777777778,
              "#fb9f3a"
             ],
             [
              0.8888888888888888,
              "#fdca26"
             ],
             [
              1,
              "#f0f921"
             ]
            ],
            "type": "histogram2dcontour"
           }
          ],
          "mesh3d": [
           {
            "colorbar": {
             "outlinewidth": 0,
             "ticks": ""
            },
            "type": "mesh3d"
           }
          ],
          "parcoords": [
           {
            "line": {
             "colorbar": {
              "outlinewidth": 0,
              "ticks": ""
             }
            },
            "type": "parcoords"
           }
          ],
          "pie": [
           {
            "automargin": true,
            "type": "pie"
           }
          ],
          "scatter": [
           {
            "fillpattern": {
             "fillmode": "overlay",
             "size": 10,
             "solidity": 0.2
            },
            "type": "scatter"
           }
          ],
          "scatter3d": [
           {
            "line": {
             "colorbar": {
              "outlinewidth": 0,
              "ticks": ""
             }
            },
            "marker": {
             "colorbar": {
              "outlinewidth": 0,
              "ticks": ""
             }
            },
            "type": "scatter3d"
           }
          ],
          "scattercarpet": [
           {
            "marker": {
             "colorbar": {
              "outlinewidth": 0,
              "ticks": ""
             }
            },
            "type": "scattercarpet"
           }
          ],
          "scattergeo": [
           {
            "marker": {
             "colorbar": {
              "outlinewidth": 0,
              "ticks": ""
             }
            },
            "type": "scattergeo"
           }
          ],
          "scattergl": [
           {
            "marker": {
             "colorbar": {
              "outlinewidth": 0,
              "ticks": ""
             }
            },
            "type": "scattergl"
           }
          ],
          "scattermapbox": [
           {
            "marker": {
             "colorbar": {
              "outlinewidth": 0,
              "ticks": ""
             }
            },
            "type": "scattermapbox"
           }
          ],
          "scatterpolar": [
           {
            "marker": {
             "colorbar": {
              "outlinewidth": 0,
              "ticks": ""
             }
            },
            "type": "scatterpolar"
           }
          ],
          "scatterpolargl": [
           {
            "marker": {
             "colorbar": {
              "outlinewidth": 0,
              "ticks": ""
             }
            },
            "type": "scatterpolargl"
           }
          ],
          "scatterternary": [
           {
            "marker": {
             "colorbar": {
              "outlinewidth": 0,
              "ticks": ""
             }
            },
            "type": "scatterternary"
           }
          ],
          "surface": [
           {
            "colorbar": {
             "outlinewidth": 0,
             "ticks": ""
            },
            "colorscale": [
             [
              0,
              "#0d0887"
             ],
             [
              0.1111111111111111,
              "#46039f"
             ],
             [
              0.2222222222222222,
              "#7201a8"
             ],
             [
              0.3333333333333333,
              "#9c179e"
             ],
             [
              0.4444444444444444,
              "#bd3786"
             ],
             [
              0.5555555555555556,
              "#d8576b"
             ],
             [
              0.6666666666666666,
              "#ed7953"
             ],
             [
              0.7777777777777778,
              "#fb9f3a"
             ],
             [
              0.8888888888888888,
              "#fdca26"
             ],
             [
              1,
              "#f0f921"
             ]
            ],
            "type": "surface"
           }
          ],
          "table": [
           {
            "cells": {
             "fill": {
              "color": "#EBF0F8"
             },
             "line": {
              "color": "white"
             }
            },
            "header": {
             "fill": {
              "color": "#C8D4E3"
             },
             "line": {
              "color": "white"
             }
            },
            "type": "table"
           }
          ]
         },
         "layout": {
          "annotationdefaults": {
           "arrowcolor": "#2a3f5f",
           "arrowhead": 0,
           "arrowwidth": 1
          },
          "autotypenumbers": "strict",
          "coloraxis": {
           "colorbar": {
            "outlinewidth": 0,
            "ticks": ""
           }
          },
          "colorscale": {
           "diverging": [
            [
             0,
             "#8e0152"
            ],
            [
             0.1,
             "#c51b7d"
            ],
            [
             0.2,
             "#de77ae"
            ],
            [
             0.3,
             "#f1b6da"
            ],
            [
             0.4,
             "#fde0ef"
            ],
            [
             0.5,
             "#f7f7f7"
            ],
            [
             0.6,
             "#e6f5d0"
            ],
            [
             0.7,
             "#b8e186"
            ],
            [
             0.8,
             "#7fbc41"
            ],
            [
             0.9,
             "#4d9221"
            ],
            [
             1,
             "#276419"
            ]
           ],
           "sequential": [
            [
             0,
             "#0d0887"
            ],
            [
             0.1111111111111111,
             "#46039f"
            ],
            [
             0.2222222222222222,
             "#7201a8"
            ],
            [
             0.3333333333333333,
             "#9c179e"
            ],
            [
             0.4444444444444444,
             "#bd3786"
            ],
            [
             0.5555555555555556,
             "#d8576b"
            ],
            [
             0.6666666666666666,
             "#ed7953"
            ],
            [
             0.7777777777777778,
             "#fb9f3a"
            ],
            [
             0.8888888888888888,
             "#fdca26"
            ],
            [
             1,
             "#f0f921"
            ]
           ],
           "sequentialminus": [
            [
             0,
             "#0d0887"
            ],
            [
             0.1111111111111111,
             "#46039f"
            ],
            [
             0.2222222222222222,
             "#7201a8"
            ],
            [
             0.3333333333333333,
             "#9c179e"
            ],
            [
             0.4444444444444444,
             "#bd3786"
            ],
            [
             0.5555555555555556,
             "#d8576b"
            ],
            [
             0.6666666666666666,
             "#ed7953"
            ],
            [
             0.7777777777777778,
             "#fb9f3a"
            ],
            [
             0.8888888888888888,
             "#fdca26"
            ],
            [
             1,
             "#f0f921"
            ]
           ]
          },
          "colorway": [
           "#636efa",
           "#EF553B",
           "#00cc96",
           "#ab63fa",
           "#FFA15A",
           "#19d3f3",
           "#FF6692",
           "#B6E880",
           "#FF97FF",
           "#FECB52"
          ],
          "font": {
           "color": "#2a3f5f"
          },
          "geo": {
           "bgcolor": "white",
           "lakecolor": "white",
           "landcolor": "#E5ECF6",
           "showlakes": true,
           "showland": true,
           "subunitcolor": "white"
          },
          "hoverlabel": {
           "align": "left"
          },
          "hovermode": "closest",
          "mapbox": {
           "style": "light"
          },
          "paper_bgcolor": "white",
          "plot_bgcolor": "#E5ECF6",
          "polar": {
           "angularaxis": {
            "gridcolor": "white",
            "linecolor": "white",
            "ticks": ""
           },
           "bgcolor": "#E5ECF6",
           "radialaxis": {
            "gridcolor": "white",
            "linecolor": "white",
            "ticks": ""
           }
          },
          "scene": {
           "xaxis": {
            "backgroundcolor": "#E5ECF6",
            "gridcolor": "white",
            "gridwidth": 2,
            "linecolor": "white",
            "showbackground": true,
            "ticks": "",
            "zerolinecolor": "white"
           },
           "yaxis": {
            "backgroundcolor": "#E5ECF6",
            "gridcolor": "white",
            "gridwidth": 2,
            "linecolor": "white",
            "showbackground": true,
            "ticks": "",
            "zerolinecolor": "white"
           },
           "zaxis": {
            "backgroundcolor": "#E5ECF6",
            "gridcolor": "white",
            "gridwidth": 2,
            "linecolor": "white",
            "showbackground": true,
            "ticks": "",
            "zerolinecolor": "white"
           }
          },
          "shapedefaults": {
           "line": {
            "color": "#2a3f5f"
           }
          },
          "ternary": {
           "aaxis": {
            "gridcolor": "white",
            "linecolor": "white",
            "ticks": ""
           },
           "baxis": {
            "gridcolor": "white",
            "linecolor": "white",
            "ticks": ""
           },
           "bgcolor": "#E5ECF6",
           "caxis": {
            "gridcolor": "white",
            "linecolor": "white",
            "ticks": ""
           }
          },
          "title": {
           "x": 0.05
          },
          "xaxis": {
           "automargin": true,
           "gridcolor": "white",
           "linecolor": "white",
           "ticks": "",
           "title": {
            "standoff": 15
           },
           "zerolinecolor": "white",
           "zerolinewidth": 2
          },
          "yaxis": {
           "automargin": true,
           "gridcolor": "white",
           "linecolor": "white",
           "ticks": "",
           "title": {
            "standoff": 15
           },
           "zerolinecolor": "white",
           "zerolinewidth": 2
          }
         }
        },
        "xaxis": {
         "anchor": "y",
         "domain": [
          0,
          0.49
         ],
         "title": {
          "text": "Genres"
         }
        },
        "xaxis10": {
         "anchor": "y10",
         "domain": [
          0.51,
          1
         ],
         "matches": "x",
         "showticklabels": false
        },
        "xaxis11": {
         "anchor": "y11",
         "domain": [
          0,
          0.49
         ],
         "matches": "x",
         "showticklabels": false
        },
        "xaxis12": {
         "anchor": "y12",
         "domain": [
          0.51,
          1
         ],
         "matches": "x",
         "showticklabels": false
        },
        "xaxis2": {
         "anchor": "y2",
         "domain": [
          0.51,
          1
         ],
         "matches": "x",
         "title": {
          "text": "Genres"
         }
        },
        "xaxis3": {
         "anchor": "y3",
         "domain": [
          0,
          0.49
         ],
         "matches": "x",
         "showticklabels": false
        },
        "xaxis4": {
         "anchor": "y4",
         "domain": [
          0.51,
          1
         ],
         "matches": "x",
         "showticklabels": false
        },
        "xaxis5": {
         "anchor": "y5",
         "domain": [
          0,
          0.49
         ],
         "matches": "x",
         "showticklabels": false
        },
        "xaxis6": {
         "anchor": "y6",
         "domain": [
          0.51,
          1
         ],
         "matches": "x",
         "showticklabels": false
        },
        "xaxis7": {
         "anchor": "y7",
         "domain": [
          0,
          0.49
         ],
         "matches": "x",
         "showticklabels": false
        },
        "xaxis8": {
         "anchor": "y8",
         "domain": [
          0.51,
          1
         ],
         "matches": "x",
         "showticklabels": false
        },
        "xaxis9": {
         "anchor": "y9",
         "domain": [
          0,
          0.49
         ],
         "matches": "x",
         "showticklabels": false
        },
        "yaxis": {
         "anchor": "x",
         "domain": [
          0,
          0.10833333333333331
         ],
         "title": {
          "text": "Number of Films"
         }
        },
        "yaxis10": {
         "anchor": "x10",
         "domain": [
          0.7133333333333333,
          0.8216666666666665
         ],
         "matches": "y",
         "showticklabels": false
        },
        "yaxis11": {
         "anchor": "x11",
         "domain": [
          0.8916666666666666,
          0.9999999999999999
         ],
         "matches": "y",
         "title": {
          "text": "Number of Films"
         }
        },
        "yaxis12": {
         "anchor": "x12",
         "domain": [
          0.8916666666666666,
          0.9999999999999999
         ],
         "matches": "y",
         "showticklabels": false
        },
        "yaxis2": {
         "anchor": "x2",
         "domain": [
          0,
          0.10833333333333331
         ],
         "matches": "y",
         "showticklabels": false
        },
        "yaxis3": {
         "anchor": "x3",
         "domain": [
          0.17833333333333332,
          0.2866666666666666
         ],
         "matches": "y",
         "title": {
          "text": "Number of Films"
         }
        },
        "yaxis4": {
         "anchor": "x4",
         "domain": [
          0.17833333333333332,
          0.2866666666666666
         ],
         "matches": "y",
         "showticklabels": false
        },
        "yaxis5": {
         "anchor": "x5",
         "domain": [
          0.35666666666666663,
          0.46499999999999997
         ],
         "matches": "y",
         "title": {
          "text": "Number of Films"
         }
        },
        "yaxis6": {
         "anchor": "x6",
         "domain": [
          0.35666666666666663,
          0.46499999999999997
         ],
         "matches": "y",
         "showticklabels": false
        },
        "yaxis7": {
         "anchor": "x7",
         "domain": [
          0.5349999999999999,
          0.6433333333333332
         ],
         "matches": "y",
         "title": {
          "text": "Number of Films"
         }
        },
        "yaxis8": {
         "anchor": "x8",
         "domain": [
          0.5349999999999999,
          0.6433333333333332
         ],
         "matches": "y",
         "showticklabels": false
        },
        "yaxis9": {
         "anchor": "x9",
         "domain": [
          0.7133333333333333,
          0.8216666666666665
         ],
         "matches": "y",
         "title": {
          "text": "Number of Films"
         }
        }
       }
      }
     },
     "metadata": {},
     "output_type": "display_data"
    }
   ],
   "source": [
    "fig = px.bar(genresGroupedR, x=\"Genres\", y=\"Number of Films\",facet_col=\"Year\",facet_col_wrap=2,height=1000)\n",
    "fig.show()"
   ]
  },
  {
   "cell_type": "markdown",
   "metadata": {},
   "source": [
    "# j)\n",
    "Representad (en el mínimo espacio posible y de forma interactiva) los ingresos de las \n",
    "películas  de  los  años  1990  y  1991  de  forma  que  se  muestre  la  estructura  jerárquica \n",
    "entre el género (el primero que aparece en la celda), el año de estreno y la valoración de \n",
    "los espectadores (películas mejor valoradas (con una valoración superior a 6); películas \n",
    "peor valoradas (con una valoración igual o inferior a 6))"
   ]
  },
  {
   "cell_type": "markdown",
   "metadata": {},
   "source": [
    "### Preprocesado"
   ]
  },
  {
   "cell_type": "markdown",
   "metadata": {},
   "source": [
    "Filtramos por los años 1990 y 1991."
   ]
  },
  {
   "cell_type": "code",
   "execution_count": 34,
   "metadata": {},
   "outputs": [
    {
     "data": {
      "text/html": [
       "<div>\n",
       "<style scoped>\n",
       "    .dataframe tbody tr th:only-of-type {\n",
       "        vertical-align: middle;\n",
       "    }\n",
       "\n",
       "    .dataframe tbody tr th {\n",
       "        vertical-align: top;\n",
       "    }\n",
       "\n",
       "    .dataframe thead th {\n",
       "        text-align: right;\n",
       "    }\n",
       "</style>\n",
       "<table border=\"1\" class=\"dataframe\">\n",
       "  <thead>\n",
       "    <tr style=\"text-align: right;\">\n",
       "      <th></th>\n",
       "      <th>Title</th>\n",
       "      <th>Year</th>\n",
       "      <th>Genres</th>\n",
       "      <th>Runtime (Minutes)</th>\n",
       "      <th>Production Countries</th>\n",
       "      <th>Budget</th>\n",
       "      <th>Revenue</th>\n",
       "      <th>Popularity</th>\n",
       "      <th>Vote Average</th>\n",
       "    </tr>\n",
       "  </thead>\n",
       "  <tbody>\n",
       "    <tr>\n",
       "      <th>140</th>\n",
       "      <td>Terminator 2: Judgment Day</td>\n",
       "      <td>1991</td>\n",
       "      <td>Action, Thriller, Science Fiction</td>\n",
       "      <td>137</td>\n",
       "      <td>France, United States of America</td>\n",
       "      <td>100000000</td>\n",
       "      <td>520000000</td>\n",
       "      <td>22661695.0</td>\n",
       "      <td>7.7</td>\n",
       "    </tr>\n",
       "    <tr>\n",
       "      <th>324</th>\n",
       "      <td>Backdraft</td>\n",
       "      <td>1991</td>\n",
       "      <td>Action, Crime, Drama, Mystery, Thriller</td>\n",
       "      <td>137</td>\n",
       "      <td>United States of America</td>\n",
       "      <td>75000000</td>\n",
       "      <td>152368585</td>\n",
       "      <td>9883727.0</td>\n",
       "      <td>6.4</td>\n",
       "    </tr>\n",
       "    <tr>\n",
       "      <th>364</th>\n",
       "      <td>Die Hard 2</td>\n",
       "      <td>1990</td>\n",
       "      <td>Action, Thriller</td>\n",
       "      <td>124</td>\n",
       "      <td>United States of America</td>\n",
       "      <td>70000000</td>\n",
       "      <td>240031094</td>\n",
       "      <td>18785984.0</td>\n",
       "      <td>6.6</td>\n",
       "    </tr>\n",
       "    <tr>\n",
       "      <th>380</th>\n",
       "      <td>Hook</td>\n",
       "      <td>1991</td>\n",
       "      <td>Adventure, Fantasy, Comedy, Family</td>\n",
       "      <td>144</td>\n",
       "      <td>United States of America</td>\n",
       "      <td>70000000</td>\n",
       "      <td>300854823</td>\n",
       "      <td>14508137.0</td>\n",
       "      <td>6.7</td>\n",
       "    </tr>\n",
       "    <tr>\n",
       "      <th>433</th>\n",
       "      <td>Total Recall</td>\n",
       "      <td>1990</td>\n",
       "      <td>Action, Adventure, Science Fiction</td>\n",
       "      <td>113</td>\n",
       "      <td>United States of America</td>\n",
       "      <td>65000000</td>\n",
       "      <td>261317921</td>\n",
       "      <td>12954444.0</td>\n",
       "      <td>7.1</td>\n",
       "    </tr>\n",
       "    <tr>\n",
       "      <th>438</th>\n",
       "      <td>Hudson Hawk</td>\n",
       "      <td>1991</td>\n",
       "      <td>Action, Adventure, Comedy</td>\n",
       "      <td>100</td>\n",
       "      <td>United States of America</td>\n",
       "      <td>65000000</td>\n",
       "      <td>17218080</td>\n",
       "      <td>9782014.0</td>\n",
       "      <td>5.4</td>\n",
       "    </tr>\n",
       "    <tr>\n",
       "      <th>475</th>\n",
       "      <td>Days of Thunder</td>\n",
       "      <td>1990</td>\n",
       "      <td>Adventure</td>\n",
       "      <td>107</td>\n",
       "      <td>United States of America</td>\n",
       "      <td>60000000</td>\n",
       "      <td>157920733</td>\n",
       "      <td>7046753.0</td>\n",
       "      <td>5.9</td>\n",
       "    </tr>\n",
       "    <tr>\n",
       "      <th>593</th>\n",
       "      <td>The Godfather: Part III</td>\n",
       "      <td>1990</td>\n",
       "      <td>Crime, Drama, Thriller</td>\n",
       "      <td>162</td>\n",
       "      <td>Italy, United States of America</td>\n",
       "      <td>54000000</td>\n",
       "      <td>136766062</td>\n",
       "      <td>17185349.0</td>\n",
       "      <td>7.1</td>\n",
       "    </tr>\n",
       "    <tr>\n",
       "      <th>640</th>\n",
       "      <td>Gremlins 2: The New Batch</td>\n",
       "      <td>1990</td>\n",
       "      <td>Comedy, Horror, Fantasy</td>\n",
       "      <td>106</td>\n",
       "      <td>United States of America</td>\n",
       "      <td>50000000</td>\n",
       "      <td>41482207</td>\n",
       "      <td>14383185.0</td>\n",
       "      <td>6.3</td>\n",
       "    </tr>\n",
       "    <tr>\n",
       "      <th>703</th>\n",
       "      <td>The Adventures of Ford Fairlane</td>\n",
       "      <td>1990</td>\n",
       "      <td>Action, Comedy, Thriller, Crime, Mystery</td>\n",
       "      <td>104</td>\n",
       "      <td>United States of America</td>\n",
       "      <td>49000000</td>\n",
       "      <td>20423389</td>\n",
       "      <td>3834949.0</td>\n",
       "      <td>6.2</td>\n",
       "    </tr>\n",
       "  </tbody>\n",
       "</table>\n",
       "</div>"
      ],
      "text/plain": [
       "                               Title  Year  \\\n",
       "140       Terminator 2: Judgment Day  1991   \n",
       "324                        Backdraft  1991   \n",
       "364                       Die Hard 2  1990   \n",
       "380                             Hook  1991   \n",
       "433                     Total Recall  1990   \n",
       "438                      Hudson Hawk  1991   \n",
       "475                  Days of Thunder  1990   \n",
       "593          The Godfather: Part III  1990   \n",
       "640        Gremlins 2: The New Batch  1990   \n",
       "703  The Adventures of Ford Fairlane  1990   \n",
       "\n",
       "                                       Genres  Runtime (Minutes)  \\\n",
       "140         Action, Thriller, Science Fiction                137   \n",
       "324   Action, Crime, Drama, Mystery, Thriller                137   \n",
       "364                          Action, Thriller                124   \n",
       "380        Adventure, Fantasy, Comedy, Family                144   \n",
       "433        Action, Adventure, Science Fiction                113   \n",
       "438                 Action, Adventure, Comedy                100   \n",
       "475                                 Adventure                107   \n",
       "593                    Crime, Drama, Thriller                162   \n",
       "640                   Comedy, Horror, Fantasy                106   \n",
       "703  Action, Comedy, Thriller, Crime, Mystery                104   \n",
       "\n",
       "                 Production Countries     Budget    Revenue  Popularity  \\\n",
       "140  France, United States of America  100000000  520000000  22661695.0   \n",
       "324          United States of America   75000000  152368585   9883727.0   \n",
       "364          United States of America   70000000  240031094  18785984.0   \n",
       "380          United States of America   70000000  300854823  14508137.0   \n",
       "433          United States of America   65000000  261317921  12954444.0   \n",
       "438          United States of America   65000000   17218080   9782014.0   \n",
       "475          United States of America   60000000  157920733   7046753.0   \n",
       "593   Italy, United States of America   54000000  136766062  17185349.0   \n",
       "640          United States of America   50000000   41482207  14383185.0   \n",
       "703          United States of America   49000000   20423389   3834949.0   \n",
       "\n",
       "     Vote Average  \n",
       "140           7.7  \n",
       "324           6.4  \n",
       "364           6.6  \n",
       "380           6.7  \n",
       "433           7.1  \n",
       "438           5.4  \n",
       "475           5.9  \n",
       "593           7.1  \n",
       "640           6.3  \n",
       "703           6.2  "
      ]
     },
     "execution_count": 34,
     "metadata": {},
     "output_type": "execute_result"
    }
   ],
   "source": [
    "films1990 = df[(df.Year == 1990) | (df.Year == 1991)]\n",
    "films1990[\"Year\"] = films1990[\"Year\"].astype(str)\n",
    "films1990.head(10)"
   ]
  },
  {
   "cell_type": "markdown",
   "metadata": {},
   "source": [
    "Simplificamos la columna de generos para quedarnos con el primero."
   ]
  },
  {
   "cell_type": "code",
   "execution_count": 35,
   "metadata": {},
   "outputs": [
    {
     "data": {
      "text/html": [
       "<div>\n",
       "<style scoped>\n",
       "    .dataframe tbody tr th:only-of-type {\n",
       "        vertical-align: middle;\n",
       "    }\n",
       "\n",
       "    .dataframe tbody tr th {\n",
       "        vertical-align: top;\n",
       "    }\n",
       "\n",
       "    .dataframe thead th {\n",
       "        text-align: right;\n",
       "    }\n",
       "</style>\n",
       "<table border=\"1\" class=\"dataframe\">\n",
       "  <thead>\n",
       "    <tr style=\"text-align: right;\">\n",
       "      <th></th>\n",
       "      <th>Title</th>\n",
       "      <th>Year</th>\n",
       "      <th>Genres</th>\n",
       "      <th>Runtime (Minutes)</th>\n",
       "      <th>Production Countries</th>\n",
       "      <th>Budget</th>\n",
       "      <th>Revenue</th>\n",
       "      <th>Popularity</th>\n",
       "      <th>Vote Average</th>\n",
       "    </tr>\n",
       "  </thead>\n",
       "  <tbody>\n",
       "    <tr>\n",
       "      <th>140</th>\n",
       "      <td>Terminator 2: Judgment Day</td>\n",
       "      <td>1991</td>\n",
       "      <td>Action</td>\n",
       "      <td>137</td>\n",
       "      <td>France, United States of America</td>\n",
       "      <td>100000000</td>\n",
       "      <td>520000000</td>\n",
       "      <td>22661695.0</td>\n",
       "      <td>7.7</td>\n",
       "    </tr>\n",
       "    <tr>\n",
       "      <th>324</th>\n",
       "      <td>Backdraft</td>\n",
       "      <td>1991</td>\n",
       "      <td>Action</td>\n",
       "      <td>137</td>\n",
       "      <td>United States of America</td>\n",
       "      <td>75000000</td>\n",
       "      <td>152368585</td>\n",
       "      <td>9883727.0</td>\n",
       "      <td>6.4</td>\n",
       "    </tr>\n",
       "    <tr>\n",
       "      <th>364</th>\n",
       "      <td>Die Hard 2</td>\n",
       "      <td>1990</td>\n",
       "      <td>Action</td>\n",
       "      <td>124</td>\n",
       "      <td>United States of America</td>\n",
       "      <td>70000000</td>\n",
       "      <td>240031094</td>\n",
       "      <td>18785984.0</td>\n",
       "      <td>6.6</td>\n",
       "    </tr>\n",
       "    <tr>\n",
       "      <th>380</th>\n",
       "      <td>Hook</td>\n",
       "      <td>1991</td>\n",
       "      <td>Adventure</td>\n",
       "      <td>144</td>\n",
       "      <td>United States of America</td>\n",
       "      <td>70000000</td>\n",
       "      <td>300854823</td>\n",
       "      <td>14508137.0</td>\n",
       "      <td>6.7</td>\n",
       "    </tr>\n",
       "    <tr>\n",
       "      <th>433</th>\n",
       "      <td>Total Recall</td>\n",
       "      <td>1990</td>\n",
       "      <td>Action</td>\n",
       "      <td>113</td>\n",
       "      <td>United States of America</td>\n",
       "      <td>65000000</td>\n",
       "      <td>261317921</td>\n",
       "      <td>12954444.0</td>\n",
       "      <td>7.1</td>\n",
       "    </tr>\n",
       "    <tr>\n",
       "      <th>438</th>\n",
       "      <td>Hudson Hawk</td>\n",
       "      <td>1991</td>\n",
       "      <td>Action</td>\n",
       "      <td>100</td>\n",
       "      <td>United States of America</td>\n",
       "      <td>65000000</td>\n",
       "      <td>17218080</td>\n",
       "      <td>9782014.0</td>\n",
       "      <td>5.4</td>\n",
       "    </tr>\n",
       "    <tr>\n",
       "      <th>475</th>\n",
       "      <td>Days of Thunder</td>\n",
       "      <td>1990</td>\n",
       "      <td>Adventure</td>\n",
       "      <td>107</td>\n",
       "      <td>United States of America</td>\n",
       "      <td>60000000</td>\n",
       "      <td>157920733</td>\n",
       "      <td>7046753.0</td>\n",
       "      <td>5.9</td>\n",
       "    </tr>\n",
       "    <tr>\n",
       "      <th>593</th>\n",
       "      <td>The Godfather: Part III</td>\n",
       "      <td>1990</td>\n",
       "      <td>Crime</td>\n",
       "      <td>162</td>\n",
       "      <td>Italy, United States of America</td>\n",
       "      <td>54000000</td>\n",
       "      <td>136766062</td>\n",
       "      <td>17185349.0</td>\n",
       "      <td>7.1</td>\n",
       "    </tr>\n",
       "    <tr>\n",
       "      <th>640</th>\n",
       "      <td>Gremlins 2: The New Batch</td>\n",
       "      <td>1990</td>\n",
       "      <td>Comedy</td>\n",
       "      <td>106</td>\n",
       "      <td>United States of America</td>\n",
       "      <td>50000000</td>\n",
       "      <td>41482207</td>\n",
       "      <td>14383185.0</td>\n",
       "      <td>6.3</td>\n",
       "    </tr>\n",
       "    <tr>\n",
       "      <th>703</th>\n",
       "      <td>The Adventures of Ford Fairlane</td>\n",
       "      <td>1990</td>\n",
       "      <td>Action</td>\n",
       "      <td>104</td>\n",
       "      <td>United States of America</td>\n",
       "      <td>49000000</td>\n",
       "      <td>20423389</td>\n",
       "      <td>3834949.0</td>\n",
       "      <td>6.2</td>\n",
       "    </tr>\n",
       "  </tbody>\n",
       "</table>\n",
       "</div>"
      ],
      "text/plain": [
       "                               Title  Year     Genres  Runtime (Minutes)  \\\n",
       "140       Terminator 2: Judgment Day  1991     Action                137   \n",
       "324                        Backdraft  1991     Action                137   \n",
       "364                       Die Hard 2  1990     Action                124   \n",
       "380                             Hook  1991  Adventure                144   \n",
       "433                     Total Recall  1990     Action                113   \n",
       "438                      Hudson Hawk  1991     Action                100   \n",
       "475                  Days of Thunder  1990  Adventure                107   \n",
       "593          The Godfather: Part III  1990      Crime                162   \n",
       "640        Gremlins 2: The New Batch  1990     Comedy                106   \n",
       "703  The Adventures of Ford Fairlane  1990     Action                104   \n",
       "\n",
       "                 Production Countries     Budget    Revenue  Popularity  \\\n",
       "140  France, United States of America  100000000  520000000  22661695.0   \n",
       "324          United States of America   75000000  152368585   9883727.0   \n",
       "364          United States of America   70000000  240031094  18785984.0   \n",
       "380          United States of America   70000000  300854823  14508137.0   \n",
       "433          United States of America   65000000  261317921  12954444.0   \n",
       "438          United States of America   65000000   17218080   9782014.0   \n",
       "475          United States of America   60000000  157920733   7046753.0   \n",
       "593   Italy, United States of America   54000000  136766062  17185349.0   \n",
       "640          United States of America   50000000   41482207  14383185.0   \n",
       "703          United States of America   49000000   20423389   3834949.0   \n",
       "\n",
       "     Vote Average  \n",
       "140           7.7  \n",
       "324           6.4  \n",
       "364           6.6  \n",
       "380           6.7  \n",
       "433           7.1  \n",
       "438           5.4  \n",
       "475           5.9  \n",
       "593           7.1  \n",
       "640           6.3  \n",
       "703           6.2  "
      ]
     },
     "execution_count": 35,
     "metadata": {},
     "output_type": "execute_result"
    }
   ],
   "source": [
    "pd.options.mode.chained_assignment = None \n",
    "films1990['Genres'] = films1990['Genres'].str.split(', ').str[0]\n",
    "films1990.head(10)"
   ]
  },
  {
   "cell_type": "markdown",
   "metadata": {},
   "source": [
    "Obtenemos la simplificación de la valoración de las películas."
   ]
  },
  {
   "cell_type": "code",
   "execution_count": 36,
   "metadata": {},
   "outputs": [
    {
     "data": {
      "text/html": [
       "<div>\n",
       "<style scoped>\n",
       "    .dataframe tbody tr th:only-of-type {\n",
       "        vertical-align: middle;\n",
       "    }\n",
       "\n",
       "    .dataframe tbody tr th {\n",
       "        vertical-align: top;\n",
       "    }\n",
       "\n",
       "    .dataframe thead th {\n",
       "        text-align: right;\n",
       "    }\n",
       "</style>\n",
       "<table border=\"1\" class=\"dataframe\">\n",
       "  <thead>\n",
       "    <tr style=\"text-align: right;\">\n",
       "      <th></th>\n",
       "      <th>Title</th>\n",
       "      <th>Year</th>\n",
       "      <th>Genres</th>\n",
       "      <th>Runtime (Minutes)</th>\n",
       "      <th>Production Countries</th>\n",
       "      <th>Budget</th>\n",
       "      <th>Revenue</th>\n",
       "      <th>Popularity</th>\n",
       "      <th>Vote Average</th>\n",
       "      <th>Is Well Valued</th>\n",
       "    </tr>\n",
       "  </thead>\n",
       "  <tbody>\n",
       "    <tr>\n",
       "      <th>140</th>\n",
       "      <td>Terminator 2: Judgment Day</td>\n",
       "      <td>1991</td>\n",
       "      <td>Action</td>\n",
       "      <td>137</td>\n",
       "      <td>France, United States of America</td>\n",
       "      <td>100000000</td>\n",
       "      <td>520000000</td>\n",
       "      <td>22661695.0</td>\n",
       "      <td>7.7</td>\n",
       "      <td>True</td>\n",
       "    </tr>\n",
       "    <tr>\n",
       "      <th>324</th>\n",
       "      <td>Backdraft</td>\n",
       "      <td>1991</td>\n",
       "      <td>Action</td>\n",
       "      <td>137</td>\n",
       "      <td>United States of America</td>\n",
       "      <td>75000000</td>\n",
       "      <td>152368585</td>\n",
       "      <td>9883727.0</td>\n",
       "      <td>6.4</td>\n",
       "      <td>True</td>\n",
       "    </tr>\n",
       "    <tr>\n",
       "      <th>364</th>\n",
       "      <td>Die Hard 2</td>\n",
       "      <td>1990</td>\n",
       "      <td>Action</td>\n",
       "      <td>124</td>\n",
       "      <td>United States of America</td>\n",
       "      <td>70000000</td>\n",
       "      <td>240031094</td>\n",
       "      <td>18785984.0</td>\n",
       "      <td>6.6</td>\n",
       "      <td>True</td>\n",
       "    </tr>\n",
       "    <tr>\n",
       "      <th>380</th>\n",
       "      <td>Hook</td>\n",
       "      <td>1991</td>\n",
       "      <td>Adventure</td>\n",
       "      <td>144</td>\n",
       "      <td>United States of America</td>\n",
       "      <td>70000000</td>\n",
       "      <td>300854823</td>\n",
       "      <td>14508137.0</td>\n",
       "      <td>6.7</td>\n",
       "      <td>True</td>\n",
       "    </tr>\n",
       "    <tr>\n",
       "      <th>433</th>\n",
       "      <td>Total Recall</td>\n",
       "      <td>1990</td>\n",
       "      <td>Action</td>\n",
       "      <td>113</td>\n",
       "      <td>United States of America</td>\n",
       "      <td>65000000</td>\n",
       "      <td>261317921</td>\n",
       "      <td>12954444.0</td>\n",
       "      <td>7.1</td>\n",
       "      <td>True</td>\n",
       "    </tr>\n",
       "    <tr>\n",
       "      <th>438</th>\n",
       "      <td>Hudson Hawk</td>\n",
       "      <td>1991</td>\n",
       "      <td>Action</td>\n",
       "      <td>100</td>\n",
       "      <td>United States of America</td>\n",
       "      <td>65000000</td>\n",
       "      <td>17218080</td>\n",
       "      <td>9782014.0</td>\n",
       "      <td>5.4</td>\n",
       "      <td>False</td>\n",
       "    </tr>\n",
       "    <tr>\n",
       "      <th>475</th>\n",
       "      <td>Days of Thunder</td>\n",
       "      <td>1990</td>\n",
       "      <td>Adventure</td>\n",
       "      <td>107</td>\n",
       "      <td>United States of America</td>\n",
       "      <td>60000000</td>\n",
       "      <td>157920733</td>\n",
       "      <td>7046753.0</td>\n",
       "      <td>5.9</td>\n",
       "      <td>False</td>\n",
       "    </tr>\n",
       "    <tr>\n",
       "      <th>593</th>\n",
       "      <td>The Godfather: Part III</td>\n",
       "      <td>1990</td>\n",
       "      <td>Crime</td>\n",
       "      <td>162</td>\n",
       "      <td>Italy, United States of America</td>\n",
       "      <td>54000000</td>\n",
       "      <td>136766062</td>\n",
       "      <td>17185349.0</td>\n",
       "      <td>7.1</td>\n",
       "      <td>True</td>\n",
       "    </tr>\n",
       "    <tr>\n",
       "      <th>640</th>\n",
       "      <td>Gremlins 2: The New Batch</td>\n",
       "      <td>1990</td>\n",
       "      <td>Comedy</td>\n",
       "      <td>106</td>\n",
       "      <td>United States of America</td>\n",
       "      <td>50000000</td>\n",
       "      <td>41482207</td>\n",
       "      <td>14383185.0</td>\n",
       "      <td>6.3</td>\n",
       "      <td>True</td>\n",
       "    </tr>\n",
       "    <tr>\n",
       "      <th>703</th>\n",
       "      <td>The Adventures of Ford Fairlane</td>\n",
       "      <td>1990</td>\n",
       "      <td>Action</td>\n",
       "      <td>104</td>\n",
       "      <td>United States of America</td>\n",
       "      <td>49000000</td>\n",
       "      <td>20423389</td>\n",
       "      <td>3834949.0</td>\n",
       "      <td>6.2</td>\n",
       "      <td>True</td>\n",
       "    </tr>\n",
       "  </tbody>\n",
       "</table>\n",
       "</div>"
      ],
      "text/plain": [
       "                               Title  Year     Genres  Runtime (Minutes)  \\\n",
       "140       Terminator 2: Judgment Day  1991     Action                137   \n",
       "324                        Backdraft  1991     Action                137   \n",
       "364                       Die Hard 2  1990     Action                124   \n",
       "380                             Hook  1991  Adventure                144   \n",
       "433                     Total Recall  1990     Action                113   \n",
       "438                      Hudson Hawk  1991     Action                100   \n",
       "475                  Days of Thunder  1990  Adventure                107   \n",
       "593          The Godfather: Part III  1990      Crime                162   \n",
       "640        Gremlins 2: The New Batch  1990     Comedy                106   \n",
       "703  The Adventures of Ford Fairlane  1990     Action                104   \n",
       "\n",
       "                 Production Countries     Budget    Revenue  Popularity  \\\n",
       "140  France, United States of America  100000000  520000000  22661695.0   \n",
       "324          United States of America   75000000  152368585   9883727.0   \n",
       "364          United States of America   70000000  240031094  18785984.0   \n",
       "380          United States of America   70000000  300854823  14508137.0   \n",
       "433          United States of America   65000000  261317921  12954444.0   \n",
       "438          United States of America   65000000   17218080   9782014.0   \n",
       "475          United States of America   60000000  157920733   7046753.0   \n",
       "593   Italy, United States of America   54000000  136766062  17185349.0   \n",
       "640          United States of America   50000000   41482207  14383185.0   \n",
       "703          United States of America   49000000   20423389   3834949.0   \n",
       "\n",
       "     Vote Average  Is Well Valued  \n",
       "140           7.7            True  \n",
       "324           6.4            True  \n",
       "364           6.6            True  \n",
       "380           6.7            True  \n",
       "433           7.1            True  \n",
       "438           5.4           False  \n",
       "475           5.9           False  \n",
       "593           7.1            True  \n",
       "640           6.3            True  \n",
       "703           6.2            True  "
      ]
     },
     "execution_count": 36,
     "metadata": {},
     "output_type": "execute_result"
    }
   ],
   "source": [
    "films1990['Is Well Valued'] = np.where(films1990['Vote Average']> 6, True, False)\n",
    "films1990.head(10)"
   ]
  },
  {
   "cell_type": "markdown",
   "metadata": {},
   "source": [
    "### Visualización"
   ]
  },
  {
   "cell_type": "code",
   "execution_count": 50,
   "metadata": {},
   "outputs": [
    {
     "data": {
      "application/vnd.plotly.v1+json": {
       "config": {
        "plotlyServerURL": "https://plot.ly"
       },
       "data": [
        {
         "alignmentgroup": "True",
         "hovertemplate": "Is Well Valued=True<br>Genres=Action<br>Year=%{x}<br>Revenue=%{y}<extra></extra>",
         "legendgroup": "True",
         "marker": {
          "color": "#a8ddb5",
          "pattern": {
           "shape": ""
          }
         },
         "name": "True",
         "offsetgroup": "True",
         "orientation": "v",
         "showlegend": true,
         "textposition": "auto",
         "type": "bar",
         "x": [
          "1991",
          "1991",
          "1990",
          "1990",
          "1990",
          "1991",
          "1991"
         ],
         "xaxis": "x",
         "y": [
          520000000,
          152368585,
          240031094,
          261317921,
          20423389,
          62000000,
          23562716
         ],
         "yaxis": "y"
        },
        {
         "alignmentgroup": "True",
         "hovertemplate": "Is Well Valued=True<br>Genres=Adventure<br>Year=%{x}<br>Revenue=%{y}<extra></extra>",
         "legendgroup": "True",
         "marker": {
          "color": "#a8ddb5",
          "pattern": {
           "shape": ""
          }
         },
         "name": "True",
         "offsetgroup": "True",
         "orientation": "v",
         "showlegend": false,
         "textposition": "auto",
         "type": "bar",
         "x": [
          "1991",
          "1991",
          "1990",
          "1990"
         ],
         "xaxis": "x2",
         "y": [
          300854823,
          390493908,
          244527583,
          47431461
         ],
         "yaxis": "y2"
        },
        {
         "alignmentgroup": "True",
         "hovertemplate": "Is Well Valued=True<br>Genres=Crime<br>Year=%{x}<br>Revenue=%{y}<extra></extra>",
         "legendgroup": "True",
         "marker": {
          "color": "#a8ddb5",
          "pattern": {
           "shape": ""
          }
         },
         "name": "True",
         "offsetgroup": "True",
         "orientation": "v",
         "showlegend": false,
         "textposition": "auto",
         "type": "bar",
         "x": [
          "1990",
          "1991"
         ],
         "xaxis": "x3",
         "y": [
          136766062,
          182300000
         ],
         "yaxis": "y3"
        },
        {
         "alignmentgroup": "True",
         "hovertemplate": "Is Well Valued=True<br>Genres=Comedy<br>Year=%{x}<br>Revenue=%{y}<extra></extra>",
         "legendgroup": "True",
         "marker": {
          "color": "#a8ddb5",
          "pattern": {
           "shape": ""
          }
         },
         "name": "True",
         "offsetgroup": "True",
         "orientation": "v",
         "showlegend": false,
         "textposition": "auto",
         "type": "bar",
         "x": [
          "1990",
          "1991"
         ],
         "xaxis": "x4",
         "y": [
          41482207,
          63710000
         ],
         "yaxis": "y4"
        },
        {
         "alignmentgroup": "True",
         "hovertemplate": "Is Well Valued=True<br>Genres=Drama<br>Year=%{x}<br>Revenue=%{y}<extra></extra>",
         "legendgroup": "True",
         "marker": {
          "color": "#a8ddb5",
          "pattern": {
           "shape": ""
          }
         },
         "name": "True",
         "offsetgroup": "True",
         "orientation": "v",
         "showlegend": false,
         "textposition": "auto",
         "type": "bar",
         "x": [
          "1991",
          "1991"
         ],
         "xaxis": "x5",
         "y": [
          205405498,
          34416893
         ],
         "yaxis": "y5"
        },
        {
         "alignmentgroup": "True",
         "hovertemplate": "Is Well Valued=True<br>Genres=Music<br>Year=%{x}<br>Revenue=%{y}<extra></extra>",
         "legendgroup": "True",
         "marker": {
          "color": "#a8ddb5",
          "pattern": {
           "shape": ""
          }
         },
         "name": "True",
         "offsetgroup": "True",
         "orientation": "v",
         "showlegend": false,
         "textposition": "auto",
         "type": "bar",
         "x": [
          "1991"
         ],
         "xaxis": "x6",
         "y": [
          23202444
         ],
         "yaxis": "y6"
        },
        {
         "alignmentgroup": "True",
         "hovertemplate": "Is Well Valued=False<br>Genres=Action<br>Year=%{x}<br>Revenue=%{y}<extra></extra>",
         "legendgroup": "False",
         "marker": {
          "color": "#2b8cbe",
          "pattern": {
           "shape": ""
          }
         },
         "name": "False",
         "offsetgroup": "False",
         "orientation": "v",
         "showlegend": true,
         "textposition": "auto",
         "type": "bar",
         "x": [
          "1991",
          "1990"
         ],
         "xaxis": "x",
         "y": [
          17218080,
          45681173
         ],
         "yaxis": "y"
        },
        {
         "alignmentgroup": "True",
         "hovertemplate": "Is Well Valued=False<br>Genres=Adventure<br>Year=%{x}<br>Revenue=%{y}<extra></extra>",
         "legendgroup": "False",
         "marker": {
          "color": "#2b8cbe",
          "pattern": {
           "shape": ""
          }
         },
         "name": "False",
         "offsetgroup": "False",
         "orientation": "v",
         "showlegend": false,
         "textposition": "auto",
         "type": "bar",
         "x": [
          "1990",
          "1990"
         ],
         "xaxis": "x2",
         "y": [
          157920733,
          103738726
         ],
         "yaxis": "y2"
        },
        {
         "alignmentgroup": "True",
         "hovertemplate": "Is Well Valued=False<br>Genres=Comedy<br>Year=%{x}<br>Revenue=%{y}<extra></extra>",
         "legendgroup": "False",
         "marker": {
          "color": "#2b8cbe",
          "pattern": {
           "shape": ""
          }
         },
         "name": "False",
         "offsetgroup": "False",
         "orientation": "v",
         "showlegend": false,
         "textposition": "auto",
         "type": "bar",
         "x": [
          "1990",
          "1991"
         ],
         "xaxis": "x4",
         "y": [
          15691192,
          8479793
         ],
         "yaxis": "y4"
        },
        {
         "alignmentgroup": "True",
         "hovertemplate": "Is Well Valued=False<br>Genres=Drama<br>Year=%{x}<br>Revenue=%{y}<extra></extra>",
         "legendgroup": "False",
         "marker": {
          "color": "#2b8cbe",
          "pattern": {
           "shape": ""
          }
         },
         "name": "False",
         "offsetgroup": "False",
         "orientation": "v",
         "showlegend": false,
         "textposition": "auto",
         "type": "bar",
         "x": [
          "1990",
          "1990",
          "1991",
          "1991"
         ],
         "xaxis": "x5",
         "y": [
          119946358,
          9243140,
          1345903,
          18634643
         ],
         "yaxis": "y5"
        },
        {
         "alignmentgroup": "True",
         "hovertemplate": "Is Well Valued=False<br>Genres=Thriller<br>Year=%{x}<br>Revenue=%{y}<extra></extra>",
         "legendgroup": "False",
         "marker": {
          "color": "#2b8cbe",
          "pattern": {
           "shape": ""
          }
         },
         "name": "False",
         "offsetgroup": "False",
         "orientation": "v",
         "showlegend": false,
         "textposition": "auto",
         "type": "bar",
         "x": [
          "1990"
         ],
         "xaxis": "x7",
         "y": [
          153518974
         ],
         "yaxis": "y7"
        },
        {
         "alignmentgroup": "True",
         "hovertemplate": "Is Well Valued=False<br>Genres=Science Fiction<br>Year=%{x}<br>Revenue=%{y}<extra></extra>",
         "legendgroup": "False",
         "marker": {
          "color": "#2b8cbe",
          "pattern": {
           "shape": ""
          }
         },
         "name": "False",
         "offsetgroup": "False",
         "orientation": "v",
         "showlegend": false,
         "textposition": "auto",
         "type": "bar",
         "x": [
          "1990"
         ],
         "xaxis": "x8",
         "y": [
          57120318
         ],
         "yaxis": "y8"
        }
       ],
       "layout": {
        "annotations": [
         {
          "font": {},
          "showarrow": false,
          "text": "Genres=Action",
          "x": 0.05375,
          "xanchor": "center",
          "xref": "paper",
          "y": 1,
          "yanchor": "bottom",
          "yref": "paper"
         },
         {
          "font": {},
          "showarrow": false,
          "text": "Genres=Adventure",
          "x": 0.18125,
          "xanchor": "center",
          "xref": "paper",
          "y": 1,
          "yanchor": "bottom",
          "yref": "paper"
         },
         {
          "font": {},
          "showarrow": false,
          "text": "Genres=Crime",
          "x": 0.30874999999999997,
          "xanchor": "center",
          "xref": "paper",
          "y": 1,
          "yanchor": "bottom",
          "yref": "paper"
         },
         {
          "font": {},
          "showarrow": false,
          "text": "Genres=Comedy",
          "x": 0.43625,
          "xanchor": "center",
          "xref": "paper",
          "y": 1,
          "yanchor": "bottom",
          "yref": "paper"
         },
         {
          "font": {},
          "showarrow": false,
          "text": "Genres=Drama",
          "x": 0.56375,
          "xanchor": "center",
          "xref": "paper",
          "y": 1,
          "yanchor": "bottom",
          "yref": "paper"
         },
         {
          "font": {},
          "showarrow": false,
          "text": "Genres=Music",
          "x": 0.6912499999999999,
          "xanchor": "center",
          "xref": "paper",
          "y": 1,
          "yanchor": "bottom",
          "yref": "paper"
         },
         {
          "font": {},
          "showarrow": false,
          "text": "Genres=Thriller",
          "x": 0.8187500000000001,
          "xanchor": "center",
          "xref": "paper",
          "y": 1,
          "yanchor": "bottom",
          "yref": "paper"
         },
         {
          "font": {},
          "showarrow": false,
          "text": "Genres=Science Fiction",
          "x": 0.94625,
          "xanchor": "center",
          "xref": "paper",
          "y": 1,
          "yanchor": "bottom",
          "yref": "paper"
         }
        ],
        "barmode": "relative",
        "legend": {
         "title": {
          "text": "Is Well Valued"
         },
         "tracegroupgap": 0
        },
        "margin": {
         "t": 60
        },
        "template": {
         "data": {
          "bar": [
           {
            "error_x": {
             "color": "#2a3f5f"
            },
            "error_y": {
             "color": "#2a3f5f"
            },
            "marker": {
             "line": {
              "color": "#E5ECF6",
              "width": 0.5
             },
             "pattern": {
              "fillmode": "overlay",
              "size": 10,
              "solidity": 0.2
             }
            },
            "type": "bar"
           }
          ],
          "barpolar": [
           {
            "marker": {
             "line": {
              "color": "#E5ECF6",
              "width": 0.5
             },
             "pattern": {
              "fillmode": "overlay",
              "size": 10,
              "solidity": 0.2
             }
            },
            "type": "barpolar"
           }
          ],
          "carpet": [
           {
            "aaxis": {
             "endlinecolor": "#2a3f5f",
             "gridcolor": "white",
             "linecolor": "white",
             "minorgridcolor": "white",
             "startlinecolor": "#2a3f5f"
            },
            "baxis": {
             "endlinecolor": "#2a3f5f",
             "gridcolor": "white",
             "linecolor": "white",
             "minorgridcolor": "white",
             "startlinecolor": "#2a3f5f"
            },
            "type": "carpet"
           }
          ],
          "choropleth": [
           {
            "colorbar": {
             "outlinewidth": 0,
             "ticks": ""
            },
            "type": "choropleth"
           }
          ],
          "contour": [
           {
            "colorbar": {
             "outlinewidth": 0,
             "ticks": ""
            },
            "colorscale": [
             [
              0,
              "#0d0887"
             ],
             [
              0.1111111111111111,
              "#46039f"
             ],
             [
              0.2222222222222222,
              "#7201a8"
             ],
             [
              0.3333333333333333,
              "#9c179e"
             ],
             [
              0.4444444444444444,
              "#bd3786"
             ],
             [
              0.5555555555555556,
              "#d8576b"
             ],
             [
              0.6666666666666666,
              "#ed7953"
             ],
             [
              0.7777777777777778,
              "#fb9f3a"
             ],
             [
              0.8888888888888888,
              "#fdca26"
             ],
             [
              1,
              "#f0f921"
             ]
            ],
            "type": "contour"
           }
          ],
          "contourcarpet": [
           {
            "colorbar": {
             "outlinewidth": 0,
             "ticks": ""
            },
            "type": "contourcarpet"
           }
          ],
          "heatmap": [
           {
            "colorbar": {
             "outlinewidth": 0,
             "ticks": ""
            },
            "colorscale": [
             [
              0,
              "#0d0887"
             ],
             [
              0.1111111111111111,
              "#46039f"
             ],
             [
              0.2222222222222222,
              "#7201a8"
             ],
             [
              0.3333333333333333,
              "#9c179e"
             ],
             [
              0.4444444444444444,
              "#bd3786"
             ],
             [
              0.5555555555555556,
              "#d8576b"
             ],
             [
              0.6666666666666666,
              "#ed7953"
             ],
             [
              0.7777777777777778,
              "#fb9f3a"
             ],
             [
              0.8888888888888888,
              "#fdca26"
             ],
             [
              1,
              "#f0f921"
             ]
            ],
            "type": "heatmap"
           }
          ],
          "heatmapgl": [
           {
            "colorbar": {
             "outlinewidth": 0,
             "ticks": ""
            },
            "colorscale": [
             [
              0,
              "#0d0887"
             ],
             [
              0.1111111111111111,
              "#46039f"
             ],
             [
              0.2222222222222222,
              "#7201a8"
             ],
             [
              0.3333333333333333,
              "#9c179e"
             ],
             [
              0.4444444444444444,
              "#bd3786"
             ],
             [
              0.5555555555555556,
              "#d8576b"
             ],
             [
              0.6666666666666666,
              "#ed7953"
             ],
             [
              0.7777777777777778,
              "#fb9f3a"
             ],
             [
              0.8888888888888888,
              "#fdca26"
             ],
             [
              1,
              "#f0f921"
             ]
            ],
            "type": "heatmapgl"
           }
          ],
          "histogram": [
           {
            "marker": {
             "pattern": {
              "fillmode": "overlay",
              "size": 10,
              "solidity": 0.2
             }
            },
            "type": "histogram"
           }
          ],
          "histogram2d": [
           {
            "colorbar": {
             "outlinewidth": 0,
             "ticks": ""
            },
            "colorscale": [
             [
              0,
              "#0d0887"
             ],
             [
              0.1111111111111111,
              "#46039f"
             ],
             [
              0.2222222222222222,
              "#7201a8"
             ],
             [
              0.3333333333333333,
              "#9c179e"
             ],
             [
              0.4444444444444444,
              "#bd3786"
             ],
             [
              0.5555555555555556,
              "#d8576b"
             ],
             [
              0.6666666666666666,
              "#ed7953"
             ],
             [
              0.7777777777777778,
              "#fb9f3a"
             ],
             [
              0.8888888888888888,
              "#fdca26"
             ],
             [
              1,
              "#f0f921"
             ]
            ],
            "type": "histogram2d"
           }
          ],
          "histogram2dcontour": [
           {
            "colorbar": {
             "outlinewidth": 0,
             "ticks": ""
            },
            "colorscale": [
             [
              0,
              "#0d0887"
             ],
             [
              0.1111111111111111,
              "#46039f"
             ],
             [
              0.2222222222222222,
              "#7201a8"
             ],
             [
              0.3333333333333333,
              "#9c179e"
             ],
             [
              0.4444444444444444,
              "#bd3786"
             ],
             [
              0.5555555555555556,
              "#d8576b"
             ],
             [
              0.6666666666666666,
              "#ed7953"
             ],
             [
              0.7777777777777778,
              "#fb9f3a"
             ],
             [
              0.8888888888888888,
              "#fdca26"
             ],
             [
              1,
              "#f0f921"
             ]
            ],
            "type": "histogram2dcontour"
           }
          ],
          "mesh3d": [
           {
            "colorbar": {
             "outlinewidth": 0,
             "ticks": ""
            },
            "type": "mesh3d"
           }
          ],
          "parcoords": [
           {
            "line": {
             "colorbar": {
              "outlinewidth": 0,
              "ticks": ""
             }
            },
            "type": "parcoords"
           }
          ],
          "pie": [
           {
            "automargin": true,
            "type": "pie"
           }
          ],
          "scatter": [
           {
            "fillpattern": {
             "fillmode": "overlay",
             "size": 10,
             "solidity": 0.2
            },
            "type": "scatter"
           }
          ],
          "scatter3d": [
           {
            "line": {
             "colorbar": {
              "outlinewidth": 0,
              "ticks": ""
             }
            },
            "marker": {
             "colorbar": {
              "outlinewidth": 0,
              "ticks": ""
             }
            },
            "type": "scatter3d"
           }
          ],
          "scattercarpet": [
           {
            "marker": {
             "colorbar": {
              "outlinewidth": 0,
              "ticks": ""
             }
            },
            "type": "scattercarpet"
           }
          ],
          "scattergeo": [
           {
            "marker": {
             "colorbar": {
              "outlinewidth": 0,
              "ticks": ""
             }
            },
            "type": "scattergeo"
           }
          ],
          "scattergl": [
           {
            "marker": {
             "colorbar": {
              "outlinewidth": 0,
              "ticks": ""
             }
            },
            "type": "scattergl"
           }
          ],
          "scattermapbox": [
           {
            "marker": {
             "colorbar": {
              "outlinewidth": 0,
              "ticks": ""
             }
            },
            "type": "scattermapbox"
           }
          ],
          "scatterpolar": [
           {
            "marker": {
             "colorbar": {
              "outlinewidth": 0,
              "ticks": ""
             }
            },
            "type": "scatterpolar"
           }
          ],
          "scatterpolargl": [
           {
            "marker": {
             "colorbar": {
              "outlinewidth": 0,
              "ticks": ""
             }
            },
            "type": "scatterpolargl"
           }
          ],
          "scatterternary": [
           {
            "marker": {
             "colorbar": {
              "outlinewidth": 0,
              "ticks": ""
             }
            },
            "type": "scatterternary"
           }
          ],
          "surface": [
           {
            "colorbar": {
             "outlinewidth": 0,
             "ticks": ""
            },
            "colorscale": [
             [
              0,
              "#0d0887"
             ],
             [
              0.1111111111111111,
              "#46039f"
             ],
             [
              0.2222222222222222,
              "#7201a8"
             ],
             [
              0.3333333333333333,
              "#9c179e"
             ],
             [
              0.4444444444444444,
              "#bd3786"
             ],
             [
              0.5555555555555556,
              "#d8576b"
             ],
             [
              0.6666666666666666,
              "#ed7953"
             ],
             [
              0.7777777777777778,
              "#fb9f3a"
             ],
             [
              0.8888888888888888,
              "#fdca26"
             ],
             [
              1,
              "#f0f921"
             ]
            ],
            "type": "surface"
           }
          ],
          "table": [
           {
            "cells": {
             "fill": {
              "color": "#EBF0F8"
             },
             "line": {
              "color": "white"
             }
            },
            "header": {
             "fill": {
              "color": "#C8D4E3"
             },
             "line": {
              "color": "white"
             }
            },
            "type": "table"
           }
          ]
         },
         "layout": {
          "annotationdefaults": {
           "arrowcolor": "#2a3f5f",
           "arrowhead": 0,
           "arrowwidth": 1
          },
          "autotypenumbers": "strict",
          "coloraxis": {
           "colorbar": {
            "outlinewidth": 0,
            "ticks": ""
           }
          },
          "colorscale": {
           "diverging": [
            [
             0,
             "#8e0152"
            ],
            [
             0.1,
             "#c51b7d"
            ],
            [
             0.2,
             "#de77ae"
            ],
            [
             0.3,
             "#f1b6da"
            ],
            [
             0.4,
             "#fde0ef"
            ],
            [
             0.5,
             "#f7f7f7"
            ],
            [
             0.6,
             "#e6f5d0"
            ],
            [
             0.7,
             "#b8e186"
            ],
            [
             0.8,
             "#7fbc41"
            ],
            [
             0.9,
             "#4d9221"
            ],
            [
             1,
             "#276419"
            ]
           ],
           "sequential": [
            [
             0,
             "#0d0887"
            ],
            [
             0.1111111111111111,
             "#46039f"
            ],
            [
             0.2222222222222222,
             "#7201a8"
            ],
            [
             0.3333333333333333,
             "#9c179e"
            ],
            [
             0.4444444444444444,
             "#bd3786"
            ],
            [
             0.5555555555555556,
             "#d8576b"
            ],
            [
             0.6666666666666666,
             "#ed7953"
            ],
            [
             0.7777777777777778,
             "#fb9f3a"
            ],
            [
             0.8888888888888888,
             "#fdca26"
            ],
            [
             1,
             "#f0f921"
            ]
           ],
           "sequentialminus": [
            [
             0,
             "#0d0887"
            ],
            [
             0.1111111111111111,
             "#46039f"
            ],
            [
             0.2222222222222222,
             "#7201a8"
            ],
            [
             0.3333333333333333,
             "#9c179e"
            ],
            [
             0.4444444444444444,
             "#bd3786"
            ],
            [
             0.5555555555555556,
             "#d8576b"
            ],
            [
             0.6666666666666666,
             "#ed7953"
            ],
            [
             0.7777777777777778,
             "#fb9f3a"
            ],
            [
             0.8888888888888888,
             "#fdca26"
            ],
            [
             1,
             "#f0f921"
            ]
           ]
          },
          "colorway": [
           "#636efa",
           "#EF553B",
           "#00cc96",
           "#ab63fa",
           "#FFA15A",
           "#19d3f3",
           "#FF6692",
           "#B6E880",
           "#FF97FF",
           "#FECB52"
          ],
          "font": {
           "color": "#2a3f5f"
          },
          "geo": {
           "bgcolor": "white",
           "lakecolor": "white",
           "landcolor": "#E5ECF6",
           "showlakes": true,
           "showland": true,
           "subunitcolor": "white"
          },
          "hoverlabel": {
           "align": "left"
          },
          "hovermode": "closest",
          "mapbox": {
           "style": "light"
          },
          "paper_bgcolor": "white",
          "plot_bgcolor": "#E5ECF6",
          "polar": {
           "angularaxis": {
            "gridcolor": "white",
            "linecolor": "white",
            "ticks": ""
           },
           "bgcolor": "#E5ECF6",
           "radialaxis": {
            "gridcolor": "white",
            "linecolor": "white",
            "ticks": ""
           }
          },
          "scene": {
           "xaxis": {
            "backgroundcolor": "#E5ECF6",
            "gridcolor": "white",
            "gridwidth": 2,
            "linecolor": "white",
            "showbackground": true,
            "ticks": "",
            "zerolinecolor": "white"
           },
           "yaxis": {
            "backgroundcolor": "#E5ECF6",
            "gridcolor": "white",
            "gridwidth": 2,
            "linecolor": "white",
            "showbackground": true,
            "ticks": "",
            "zerolinecolor": "white"
           },
           "zaxis": {
            "backgroundcolor": "#E5ECF6",
            "gridcolor": "white",
            "gridwidth": 2,
            "linecolor": "white",
            "showbackground": true,
            "ticks": "",
            "zerolinecolor": "white"
           }
          },
          "shapedefaults": {
           "line": {
            "color": "#2a3f5f"
           }
          },
          "ternary": {
           "aaxis": {
            "gridcolor": "white",
            "linecolor": "white",
            "ticks": ""
           },
           "baxis": {
            "gridcolor": "white",
            "linecolor": "white",
            "ticks": ""
           },
           "bgcolor": "#E5ECF6",
           "caxis": {
            "gridcolor": "white",
            "linecolor": "white",
            "ticks": ""
           }
          },
          "title": {
           "x": 0.05
          },
          "xaxis": {
           "automargin": true,
           "gridcolor": "white",
           "linecolor": "white",
           "ticks": "",
           "title": {
            "standoff": 15
           },
           "zerolinecolor": "white",
           "zerolinewidth": 2
          },
          "yaxis": {
           "automargin": true,
           "gridcolor": "white",
           "linecolor": "white",
           "ticks": "",
           "title": {
            "standoff": 15
           },
           "zerolinecolor": "white",
           "zerolinewidth": 2
          }
         }
        },
        "xaxis": {
         "anchor": "y",
         "domain": [
          0,
          0.1075
         ],
         "title": {
          "text": "Year"
         }
        },
        "xaxis2": {
         "anchor": "y2",
         "domain": [
          0.1275,
          0.235
         ],
         "matches": "x",
         "title": {
          "text": "Year"
         }
        },
        "xaxis3": {
         "anchor": "y3",
         "domain": [
          0.255,
          0.3625
         ],
         "matches": "x",
         "title": {
          "text": "Year"
         }
        },
        "xaxis4": {
         "anchor": "y4",
         "domain": [
          0.3825,
          0.49
         ],
         "matches": "x",
         "title": {
          "text": "Year"
         }
        },
        "xaxis5": {
         "anchor": "y5",
         "domain": [
          0.51,
          0.6175
         ],
         "matches": "x",
         "title": {
          "text": "Year"
         }
        },
        "xaxis6": {
         "anchor": "y6",
         "domain": [
          0.6375,
          0.745
         ],
         "matches": "x",
         "title": {
          "text": "Year"
         }
        },
        "xaxis7": {
         "anchor": "y7",
         "domain": [
          0.765,
          0.8725
         ],
         "matches": "x",
         "title": {
          "text": "Year"
         }
        },
        "xaxis8": {
         "anchor": "y8",
         "domain": [
          0.8925000000000001,
          1
         ],
         "matches": "x",
         "title": {
          "text": "Year"
         }
        },
        "yaxis": {
         "anchor": "x",
         "domain": [
          0,
          1
         ],
         "title": {
          "text": "Revenue"
         }
        },
        "yaxis2": {
         "anchor": "x2",
         "domain": [
          0,
          1
         ],
         "matches": "y",
         "showticklabels": false
        },
        "yaxis3": {
         "anchor": "x3",
         "domain": [
          0,
          1
         ],
         "matches": "y",
         "showticklabels": false
        },
        "yaxis4": {
         "anchor": "x4",
         "domain": [
          0,
          1
         ],
         "matches": "y",
         "showticklabels": false
        },
        "yaxis5": {
         "anchor": "x5",
         "domain": [
          0,
          1
         ],
         "matches": "y",
         "showticklabels": false
        },
        "yaxis6": {
         "anchor": "x6",
         "domain": [
          0,
          1
         ],
         "matches": "y",
         "showticklabels": false
        },
        "yaxis7": {
         "anchor": "x7",
         "domain": [
          0,
          1
         ],
         "matches": "y",
         "showticklabels": false
        },
        "yaxis8": {
         "anchor": "x8",
         "domain": [
          0,
          1
         ],
         "matches": "y",
         "showticklabels": false
        }
       }
      }
     },
     "metadata": {},
     "output_type": "display_data"
    }
   ],
   "source": [
    "fig = px.bar(films1990, x=\"Year\", y=\"Revenue\", color=\"Is Well Valued\",facet_col=\"Genres\",color_discrete_sequence=['#a8ddb5','#2b8cbe'])\n",
    "fig.show()"
   ]
  },
  {
   "cell_type": "code",
   "execution_count": null,
   "metadata": {},
   "outputs": [],
   "source": []
  }
 ],
 "metadata": {
  "interpreter": {
   "hash": "e4500ee4982ee15e4cad7de4a865184ba756a7d65e0a109028c59b4f60670636"
  },
  "kernelspec": {
   "display_name": "Python 3.9.2 64-bit",
   "language": "python",
   "name": "python3"
  },
  "language_info": {
   "codemirror_mode": {
    "name": "ipython",
    "version": 3
   },
   "file_extension": ".py",
   "mimetype": "text/x-python",
   "name": "python",
   "nbconvert_exporter": "python",
   "pygments_lexer": "ipython3",
   "version": "3.9.2"
  },
  "orig_nbformat": 4
 },
 "nbformat": 4,
 "nbformat_minor": 2
}
